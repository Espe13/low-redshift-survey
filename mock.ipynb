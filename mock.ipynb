{
 "cells": [
  {
   "attachments": {},
   "cell_type": "markdown",
   "metadata": {},
   "source": [
    "# Mock Data\n",
    "- Take the Theta file\n",
    "- predict spec and phot\n",
    "- distort spec and phot with a gaussian sigma=phot/snr\n",
    "- snr has to be smaller than 40"
   ]
  },
  {
   "cell_type": "code",
   "execution_count": 9,
   "metadata": {},
   "outputs": [],
   "source": [
    "import os\n",
    "import numpy as np\n",
    "import pickle\n",
    "import sys\n",
    "import matplotlib.pyplot as plt\n",
    "import pandas as pd\n",
    "\n",
    "from astropy.cosmology import FlatLambdaCDM\n",
    "cosmo = FlatLambdaCDM(H0=70, Om0=0.3)\n",
    "from astropy.cosmology import Planck15 as cosmo\n",
    "from astropy.table import Table\n",
    "from astropy.io import fits\n",
    "\n",
    "from prospect import prospect_args\n",
    "from prospect.fitting import fit_model\n",
    "from prospect.io import write_results as writer\n",
    "from prospect.likelihood import NoiseModel\n",
    "from prospect.likelihood.kernels import Uncorrelated\n",
    "from prospect.sources.galaxy_basis import CSPSpecBasis\n",
    "from prospect.utils.obsutils import fix_obs\n",
    "\n",
    "import prospect.io.read_results as reader\n",
    "import toolbox_prospector as toolbox\n",
    "\n",
    "from sedpy.observate import load_filters\n",
    "\n",
    "import Build\n"
   ]
  },
  {
   "cell_type": "code",
   "execution_count": 18,
   "metadata": {},
   "outputs": [],
   "source": [
    "theta_dic = {}\n",
    "\n",
    "theta_dic['parnames']        =  ['logzsol', 'dust2', 'logmass', 'logsfr_ratios','logsfr_ratios','logsfr_ratios','logsfr_ratios','logsfr_ratios','logsfr_ratios','logsfr_ratios', 'dust_index', 'dust1_fraction', 'igm_factor', 'gas_logz', 'gas_logu', 'frac_obrun']\n",
    "theta_dic['thetas_original'] =  [-0.5,  0.6, 10. ,  0. ,  0. ,  0. ,  0. ,  0. ,  0. ,  0. ,  0. , 1. ,  1. ,  0. , -2. ,  0. ]\n",
    "theta_dic['thetas_0']        =  [-0.1,  0.6,  8. ,  0. ,  0. ,  0. ,  0. ,  0. ,  0. ,  0. ,  0. , 1. ,  1. , -1. , -2. ,  0. ]\n",
    "theta_dic['thetas_1']        =  [-0.1,  0.6,  8. ,  0. ,  0. ,  0. ,  0. ,  0. ,  0. ,  0. ,  0. , 1. ,  1. , -1. , -2. ,  0.1 ]\n",
    "theta_dic['thetas_2']        =  [-0.1,  0.6,  8. ,  0. ,  0. ,  0. ,  0. ,  0. ,  0. ,  0. ,  0. , 1. ,  1. , -1. , -2. ,  0.3 ]\n",
    "theta_dic['thetas_3']        =  [-0.1,  0.6,  8. ,  0. ,  0. ,  0. ,  0. ,  0. ,  0. ,  0. ,  0. , 1. ,  1. , -1. , -2. ,  0.5 ]\n",
    "theta_dic['thetas_4']        =  [-0.1,  0.6,  8. ,  0. ,  0. ,  0. ,  0. ,  0. ,  0. ,  0. ,  0. , 1. ,  1. , -1. , -2. ,  0.7 ]\n",
    "theta_dic['thetas_5']        =  [-0.1,  0.6,  8. ,  0. ,  0. ,  0. ,  0. ,  0. ,  0. ,  0. ,  0. , 1. ,  1. , -1. , -2. ,  0.9 ]\n",
    "theta_dic['thetas_6']        =  [-0.1,  0.6,  8. ,  0. ,  0. ,  0. ,  0. ,  0. ,  0. ,  0. ,  0. , 1. ,  1. , -1. , -2. ,  1. ]\n",
    "\n",
    "theta_dic['thetas_7']        =  [-0.1,  0.6,  8. ,  0. ,  0. ,  0. ,  0. ,  0. ,  0. ,  0. ,  0. , 1. ,  1. , -1. , -2. ,  0.15 ]\n",
    "theta_dic['thetas_8']        =  [-0.1,  0.6,  8. ,  0. ,  0. ,  0. ,  0. ,  0. ,  0. ,  0. ,  0. , 1. ,  1. , -1. , -2. ,  0.2 ]\n",
    "theta_dic['thetas_9']        =  [-0.1,  0.6,  8. ,  0. ,  0. ,  0. ,  0. ,  0. ,  0. ,  0. ,  0. , 1. ,  1. , -1. , -2. ,  0.25 ]\n",
    "theta_dic['thetas_10']       =  [-0.1,  0.6,  8. ,  0. ,  0. ,  0. ,  0. ,  0. ,  0. ,  0. ,  0. , 1. ,  1. , -1. , -2. ,  0.35 ]\n",
    "theta_dic['thetas_11']       =  [-0.1,  0.6,  8. ,  0. ,  0. ,  0. ,  0. ,  0. ,  0. ,  0. ,  0. , 1. ,  1. , -1. , -2. ,  0.4 ]\n",
    "theta_dic['thetas_12']       =  [-0.1,  0.6,  8. ,  0. ,  0. ,  0. ,  0. ,  0. ,  0. ,  0. ,  0. , 1. ,  1. , -1. , -2. ,  0.45 ]\n",
    "\n",
    "filename = 'mock_thetas.pickle'\n",
    "\n",
    "# open the file in write mode and save the dictionary as a pickle\n",
    "with open(path_mock+filename, 'wb') as f:\n",
    "    pickle.dump(theta_dic, f)"
   ]
  },
  {
   "attachments": {},
   "cell_type": "markdown",
   "metadata": {},
   "source": [
    "## Read in all the data"
   ]
  },
  {
   "cell_type": "code",
   "execution_count": 19,
   "metadata": {},
   "outputs": [],
   "source": [
    "path_wdir   =   \"/Users/amanda/Desktop/Paper/technical/\"\n",
    "path_data   =   os.path.join(path_wdir, \"data/\")\n",
    "path_plots  =   os.path.join(path_wdir, \"plots/\")\n",
    "path_output =   os.path.join(path_wdir, \"prospector/\")\n",
    "path_flury  =   os.path.join(path_data, 'flury/')\n",
    "path_mock   =   os.path.join(path_data, 'mock/')\n",
    "\n",
    "#------------------------------------------------------Emission Lines-----------------------------------------------------------------------\n",
    "\n",
    "el_table  =  \"lzlcs_optlines_obs.csv\"\n",
    "el        =   Table.read(os.path.join(path_flury, el_table), format=\"ascii\")\n",
    "\n",
    "el.add_column([i for i in range(1,67)], name='id', index=0) #uniform reference for name now possible\n",
    "\n",
    "\n",
    "#-------------------------------------------------------Photometry--------------------------------------------------------------------------\n",
    "\n",
    "phot_table  =   'GP_Aperture_Matched_Photometry_v0.fits'\n",
    "phot_cat    =   fits.open(os.path.join(path_flury, phot_table))\n",
    "phot        =   phot_cat[1].data\n",
    "\n",
    "#--------------------------------------------------------Mock Thetas------------------------------------------------------------------------\n",
    "\n",
    "with open(path_mock+'mock_thetas.pickle', 'rb') as f:\n",
    "    thetas = pickle.load(f)\n",
    "\n",
    "#------------------------------------------------------Signal to Noise----------------------------------------------------------------------\n",
    "\n",
    "\n",
    "snr      = pd.read_csv(path_data + 'snr.csv')\n",
    "snr_phot = snr['median'][:7] \n",
    "snr_el   = snr['median'][7:]\n",
    "\n",
    "#------------------------------------------------------Mock Photometry----------------------------------------------------------------------\n",
    "\n",
    "with open(path_data + 'distorted_data.pickle', 'rb') as f:\n",
    "    dis_data = pickle.load(f)\n"
   ]
  },
  {
   "attachments": {},
   "cell_type": "markdown",
   "metadata": {},
   "source": [
    "## Build\n",
    "- build obs with galaxy 3 because it has all the bands and all the emission lines and it doesnt matter which one\n",
    "- build model\n",
    "- build sps"
   ]
  },
  {
   "cell_type": "code",
   "execution_count": 20,
   "metadata": {},
   "outputs": [
    {
     "data": {
      "text/plain": [
       "dict_keys(['parnames', 'thetas_original', 'thetas_0', 'thetas_1', 'thetas_2', 'thetas_3', 'thetas_4', 'thetas_5', 'thetas_6', 'thetas_7', 'thetas_8', 'thetas_9', 'thetas_10', 'thetas_11', 'thetas_12'])"
      ]
     },
     "execution_count": 20,
     "metadata": {},
     "output_type": "execute_result"
    }
   ],
   "source": [
    "thetas.keys()"
   ]
  },
  {
   "cell_type": "code",
   "execution_count": 12,
   "metadata": {},
   "outputs": [
    {
     "name": "stdout",
     "output_type": "stream",
     "text": [
      "SFH template = continuity_sfh\n",
      "redshift init = 0.3061555\n",
      "FITTING EL MODEL\n"
     ]
    }
   ],
   "source": [
    "objid   =  3\n",
    "obs     =  Build.build_obs(objid=objid)\n",
    "model   =  Build.build_model(objid=objid, fit_el=True)\n",
    "sps     =  Build.build_sps()"
   ]
  },
  {
   "attachments": {},
   "cell_type": "markdown",
   "metadata": {},
   "source": [
    "## Predict \n",
    "- spec and phot predicted for the different thetas, which vary frac_obrun from 0, 0.1, 0.3, 0.5, 0.7, 0.9, 1"
   ]
  },
  {
   "cell_type": "code",
   "execution_count": 21,
   "metadata": {},
   "outputs": [],
   "source": [
    "spec_7, phot_7, _   = model.predict(thetas['thetas_7'], obs=obs, sps=sps)\n",
    "spec_8, phot_8, _   = model.predict(thetas['thetas_8'], obs=obs, sps=sps)\n",
    "spec_9, phot_9, _   = model.predict(thetas['thetas_9'], obs=obs, sps=sps)\n",
    "spec_10, phot_10, _ = model.predict(thetas['thetas_10'], obs=obs, sps=sps)\n",
    "spec_11, phot_11, _ = model.predict(thetas['thetas_11'], obs=obs, sps=sps)\n",
    "spec_12, phot_12, _ = model.predict(thetas['thetas_12'], obs=obs, sps=sps)\n"
   ]
  },
  {
   "attachments": {},
   "cell_type": "markdown",
   "metadata": {},
   "source": [
    "## Change the SNR \n",
    "- the snr can not be larger than 20"
   ]
  },
  {
   "cell_type": "code",
   "execution_count": 22,
   "metadata": {},
   "outputs": [],
   "source": [
    "snr_el_corrected    = []\n",
    "snr_phot_corrected  = []\n",
    "\n",
    "for i in snr_el:\n",
    "    if i<20:\n",
    "        snr_el_corrected.append(i)\n",
    "    else:\n",
    "        snr_el_corrected.append(20)\n",
    "\n",
    "for i in snr_phot:\n",
    "    if i<20:\n",
    "        snr_phot_corrected.append(i)\n",
    "    else:\n",
    "        snr_phot_corrected.append(20)"
   ]
  },
  {
   "attachments": {},
   "cell_type": "markdown",
   "metadata": {},
   "source": [
    "## Generate the Uncertainties"
   ]
  },
  {
   "cell_type": "code",
   "execution_count": 23,
   "metadata": {},
   "outputs": [],
   "source": [
    "phot_7_unc  = np.random.normal(loc=0., scale=np.abs(phot_7/snr_phot_corrected))\n",
    "phot_8_unc  = np.random.normal(loc=0., scale=np.abs(phot_8/snr_phot_corrected))\n",
    "phot_9_unc  = np.random.normal(loc=0., scale=np.abs(phot_9/snr_phot_corrected))\n",
    "phot_10_unc = np.random.normal(loc=0., scale=np.abs(phot_10/snr_phot_corrected))\n",
    "phot_11_unc = np.random.normal(loc=0., scale=np.abs(phot_11/snr_phot_corrected))\n",
    "phot_12_unc = np.random.normal(loc=0., scale=np.abs(phot_12/snr_phot_corrected))\n",
    "\n",
    "spec_7_unc  = np.random.normal(loc=0., scale=np.abs(spec_7/snr_el_corrected))\n",
    "spec_8_unc  = np.random.normal(loc=0., scale=np.abs(spec_8/snr_el_corrected))\n",
    "spec_9_unc  = np.random.normal(loc=0., scale=np.abs(spec_9/snr_el_corrected))\n",
    "spec_10_unc = np.random.normal(loc=0., scale=np.abs(spec_10/snr_el_corrected))\n",
    "spec_11_unc = np.random.normal(loc=0., scale=np.abs(spec_11/snr_el_corrected))\n",
    "spec_12_unc = np.random.normal(loc=0., scale=np.abs(spec_12/snr_el_corrected))\n"
   ]
  },
  {
   "attachments": {},
   "cell_type": "markdown",
   "metadata": {},
   "source": [
    "## Generate the Data\n",
    "- combine phot with the generated distortion\n",
    "- take the distortion as the uncertainty\n",
    "- set the masks to True everywhere\n",
    "- take the same data than for the galaxies for\n",
    "    - filters, wave_effective, wavelength, line_ind, cat_row, id, redshift and line_names"
   ]
  },
  {
   "cell_type": "code",
   "execution_count": 26,
   "metadata": {},
   "outputs": [],
   "source": [
    "#dis_data = {}\n",
    "\n",
    "index        =  ['7', '8', '9', '10', '11', '12']\n",
    "phot_all     =  [phot_7, phot_8, phot_9, phot_10, phot_11, phot_12]\n",
    "phot_all_unc =  [phot_7_unc , phot_8_unc , phot_9_unc , phot_10_unc, phot_11_unc, phot_12_unc]\n",
    "spec_all     =  [spec_7, spec_8, spec_9, spec_10, spec_11, spec_12]\n",
    "spec_all_unc =  [spec_7_unc , spec_8_unc , spec_9_unc , spec_10_unc, spec_11_unc, spec_12_unc]\n",
    "\n",
    "for i, p in zip(index, range(len(phot_all))):\n",
    "    dis_data['thetas_'+i]      =   thetas['thetas_'+i]\n",
    "    dis_data['maggies_'+i]     =   phot_all[p] + phot_all_unc[p]\n",
    "    dis_data['maggies_unc_'+i] =   phot_all_unc[p]\n",
    "    dis_data['spec_'+i]        =   spec_all[p] + spec_all_unc[p]\n",
    "    dis_data['spec_unc_'+i]    =   spec_all_unc[p]\n",
    "\n",
    "#dis_data['filters']         =   obs['filters']\n",
    "#dis_data['wave_effective']  =   obs['wave_effective']\n",
    "#dis_data['wavelength']      =   obs['wavelength']\n",
    "#dis_data['mask']            =   [True for i in dis_data['wavelength']]\n",
    "#dis_data['phot_mask']       =   [True for i in dis_data['filters']]\n",
    "#dis_data['line_ind']        =   obs['line_ind']\n",
    "#dis_data['cat_row']         =   obs['cat_row']\n",
    "#dis_data['id']              =   obs['id']\n",
    "#dis_data['z_spec']          =   obs['z_spec']\n",
    "#dis_data['line_names']      =   obs['line_names']"
   ]
  },
  {
   "attachments": {},
   "cell_type": "markdown",
   "metadata": {},
   "source": [
    "## Save the Distorted Data in Pickle:"
   ]
  },
  {
   "cell_type": "code",
   "execution_count": 27,
   "metadata": {},
   "outputs": [],
   "source": [
    "filename = path_data + 'distorted_data.pickle'\n",
    "\n",
    "with open(filename, 'wb') as f:\n",
    "    pickle.dump(dis_data, f)\n"
   ]
  },
  {
   "cell_type": "markdown",
   "metadata": {},
   "source": [
    "The distorted data is now used as the new obs dictionary in the next step, which is putting everything into prospector again. For that we use DISPRO.py."
   ]
  }
 ],
 "metadata": {
  "kernelspec": {
   "display_name": "astro",
   "language": "python",
   "name": "python3"
  },
  "language_info": {
   "codemirror_mode": {
    "name": "ipython",
    "version": 3
   },
   "file_extension": ".py",
   "mimetype": "text/x-python",
   "name": "python",
   "nbconvert_exporter": "python",
   "pygments_lexer": "ipython3",
   "version": "3.10.6"
  },
  "orig_nbformat": 4
 },
 "nbformat": 4,
 "nbformat_minor": 2
}
