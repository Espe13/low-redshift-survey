{
 "cells": [
  {
   "cell_type": "code",
   "execution_count": 1,
   "metadata": {},
   "outputs": [],
   "source": [
    "import sys\n",
    "import os\n",
    "import numpy as np\n",
    "import pandas as pd\n",
    "import pickle\n",
    "import math\n",
    "from astropy.io import fits\n",
    "from sedpy.observate import load_filters\n",
    "from prospect import prospect_args\n",
    "from prospect.fitting import fit_model\n",
    "from prospect.models.sedmodel import SpecModel, LineSpecModel\n",
    "from prospect.io import write_results as writer\n",
    "from astropy.cosmology import Planck15 as cosmo\n",
    "from astropy.table import Table\n",
    "from prospect.likelihood import NoiseModel\n",
    "from prospect.likelihood.kernels import Uncorrelated\n",
    "from prospect.sources.galaxy_basis import CSPSpecBasis\n",
    "import matplotlib.pyplot as plt\n",
    "from prospect.utils.obsutils import fix_obs\n",
    "import prospect.io.read_results as reader"
   ]
  },
  {
   "cell_type": "code",
   "execution_count": 2,
   "metadata": {},
   "outputs": [],
   "source": [
    "path_wdir = \"/Users/amanda/Desktop/Paper/technical/\"\n",
    "path_data = os.path.join(path_wdir, \"data/\")\n",
    "path_output = os.path.join(path_wdir, \"prospector/\")\n",
    "path_mock = '/Users/amanda/Desktop/Paper/technical/data/mock/'\n"
   ]
  },
  {
   "cell_type": "code",
   "execution_count": 3,
   "metadata": {},
   "outputs": [],
   "source": [
    "file = [0,1,2,3,4,8]"
   ]
  },
  {
   "cell_type": "code",
   "execution_count": 4,
   "metadata": {},
   "outputs": [],
   "source": [
    "filename = 'test2.pickle'\n",
    "\n",
    "# open the file in write mode and save the dictionary as a pickle\n",
    "with open(path_output + filename, 'wb') as f:\n",
    "    pickle.dump(file, f)\n"
   ]
  },
  {
   "cell_type": "code",
   "execution_count": 5,
   "metadata": {},
   "outputs": [],
   "source": [
    "\n",
    "# open the file in read mode and load the pickled dictionary\n",
    "with open(path_output + filename, 'rb') as f:\n",
    "    output = pickle.load(f)"
   ]
  },
  {
   "cell_type": "code",
   "execution_count": 6,
   "metadata": {},
   "outputs": [
    {
     "data": {
      "text/plain": [
       "[0, 1, 2, 3, 4, 8]"
      ]
     },
     "execution_count": 6,
     "metadata": {},
     "output_type": "execute_result"
    }
   ],
   "source": [
    "output"
   ]
  },
  {
   "cell_type": "code",
   "execution_count": 7,
   "metadata": {},
   "outputs": [],
   "source": [
    "from astropy.io import fits\n",
    "import pandas as pd\n",
    "import numpy as np\n",
    "\n",
    "# Read the CSV file using pandas\n",
    "# It is important that the data itself does not contain any data type that is not convertable to float.\n",
    "# If it does, a dictionary is required to translate the data.\n",
    "df = pd.read_csv(path_data+'galaxies_nostring.csv')\n",
    "df = df.astype(float)\n",
    "\n",
    "# Convert the dataframe to a numpy structured array\n",
    "data = df.to_records(index=False)\n",
    "\n",
    "# Create a new FITS binary table HDU\n",
    "hdu = fits.BinTableHDU.from_columns(data)\n",
    "\n",
    "# Write the FITS file\n",
    "hdu.writeto(path_data+'galaxies_nostring.fits', overwrite=True)"
   ]
  },
  {
   "cell_type": "code",
   "execution_count": 8,
   "metadata": {},
   "outputs": [],
   "source": [
    "\n",
    "num_to_id_translate = {'3307':'J003601+003307',\n",
    "                '15440':'J004743+015440',\n",
    "                '223':'J011309+000223',\n",
    "                '52044':'J012217+052044',\n",
    "                '145935':'J012910+145935',\n",
    "                '414608':'J072326+414608',\n",
    "                '472607':'J080425+472607',\n",
    "                '414146':'J081112+414146',\n",
    "                '211459':'J081409+211459',\n",
    "                '182052':'J082652+182052',\n",
    "                '480541':'J083440+480541',\n",
    "                '392925':'J090918+392925',\n",
    "                '183108':'J091113+183108',\n",
    "                '523960':'J091207+523960',\n",
    "                '505009':'J091208+505009',\n",
    "                '315221':'J091703+315221',\n",
    "                '395714':'J092552+395714',\n",
    "                '510925':'J093355+510925',\n",
    "                '593244':'J094001+593244',\n",
    "                '405249':'J095236+405249',\n",
    "                '235709':'J095700+235709',\n",
    "                '202508':'J095838+202508',\n",
    "                '523251':'J101401+523251',\n",
    "                '633308':'J102615+633308',\n",
    "                '635317':'J103344+635317',\n",
    "                '452718':'J103816+452718',\n",
    "                '474357':'J105117+474357',\n",
    "                '523753':'J105331+523753',\n",
    "                '485724':'J105525+485724',\n",
    "                '475204':'J110452+475204',\n",
    "                '412052':'J112224+412052',\n",
    "                '524509':'J112848+524509',\n",
    "                '493525':'J112933+493525',\n",
    "                '651341':'J113304+651341',\n",
    "                '312559':'J115855+312559',\n",
    "                '382422':'J115959+382422',\n",
    "                '305326':'J120934+305326',\n",
    "                '453930':'J121915+453930',\n",
    "                '63556':'J123519+063556',\n",
    "                '212716':'J124033+212716',\n",
    "                '21540':'J124423+021540',\n",
    "                '444902':'J124619+444902',\n",
    "                '123403':'J124835+123403',\n",
    "                '464535':'J124911+464535',\n",
    "                '255609':'J125503+255609',\n",
    "                '410221':'J125718+410221',\n",
    "                '451057':'J130059+451057',\n",
    "                '510451':'J130128+510451',\n",
    "                '422638':'J130559+422638',\n",
    "                '214817':'J131037+214817',\n",
    "                '104739':'J131419+104739',\n",
    "                '510309':'J131904+510309',\n",
    "                '421824':'J132633+421824',\n",
    "                '573315':'J132937+573315',\n",
    "                '112848':'J134559+112848',\n",
    "                '662438':'J135008+662438',\n",
    "                '612115':'J140333+612115',\n",
    "                '434435':'J141013+434435',\n",
    "                '461937':'J144010+461937',\n",
    "                '370512':'J151707+370512',\n",
    "                '572442':'J154050+572442',\n",
    "                '403325':'J155945+403325',\n",
    "                '81959':'J160437+081959',\n",
    "                '313054':'J164607+313054',\n",
    "                '495751':'J164849+495751',\n",
    "                '542133':'J172010+542133'}\n",
    "id_to_num_translate = {v: k for k, v in num_to_id_translate.items()}\n"
   ]
  },
  {
   "cell_type": "code",
   "execution_count": 9,
   "metadata": {},
   "outputs": [],
   "source": [
    "datas = fits.open(os.path.join(path_data, 'galaxies_nostring.fits'))\n",
    "data = datas[1].data"
   ]
  },
  {
   "attachments": {},
   "cell_type": "markdown",
   "metadata": {},
   "source": [
    "# How to distort a data point"
   ]
  },
  {
   "cell_type": "code",
   "execution_count": 10,
   "metadata": {},
   "outputs": [],
   "source": [
    "fesc = 0.013\n",
    "sigma = 0.003\n",
    "noise = np.random.normal(0, sigma)\n",
    "distorted_fesc = fesc + noise"
   ]
  },
  {
   "cell_type": "code",
   "execution_count": 11,
   "metadata": {},
   "outputs": [],
   "source": [
    "draws = np.zeros(100)\n",
    "\n",
    "# Generate random draws\n",
    "for i in range(100):\n",
    "    draws[i] = np.random.normal(0, sigma)"
   ]
  },
  {
   "attachments": {},
   "cell_type": "markdown",
   "metadata": {},
   "source": [
    "# Parameters - Thetas"
   ]
  },
  {
   "cell_type": "code",
   "execution_count": 12,
   "metadata": {},
   "outputs": [],
   "source": [
    "parnames = ['logzsol', 'dust2', 'logmass', 'logsfr_ratios_1', 'logsfr_ratios_2', 'logsfr_ratios_3', 'logsfr_ratios_4', 'logsfr_ratios_5', 'dust_index', 'dust1_fraction']"
   ]
  },
  {
   "cell_type": "code",
   "execution_count": 13,
   "metadata": {},
   "outputs": [],
   "source": [
    "\n",
    "def build_sps(zcontinuous=1, sfh_template=\"continuity_sfh\", compute_vega_mags=False, **extras):\n",
    "    if (sfh_template == \"continuity_sfh\") or (sfh_template == \"dirichlet_sfh\"):\n",
    "        from prospect.sources import FastStepBasis\n",
    "        sps = FastStepBasis(zcontinuous=zcontinuous,\n",
    "                            compute_vega_mags=compute_vega_mags,\n",
    "                            reserved_params=['tage', 'sigma_smooth'])\n",
    "    else:\n",
    "        from prospect.sources import CSPSpecBasis\n",
    "        sps = CSPSpecBasis(zcontinuous=zcontinuous,\n",
    "                           compute_vega_mags=compute_vega_mags,\n",
    "                           reserved_params=['sigma_smooth'])\n",
    "    return sps"
   ]
  },
  {
   "cell_type": "code",
   "execution_count": 14,
   "metadata": {},
   "outputs": [],
   "source": [
    "observed = pd.read_csv('/Users/amanda/Desktop/Paper/technical/data/flury/lzlcs_optlines_obs.csv')"
   ]
  },
  {
   "cell_type": "code",
   "execution_count": 15,
   "metadata": {},
   "outputs": [
    {
     "ename": "SyntaxError",
     "evalue": "invalid syntax (1283304194.py, line 2)",
     "output_type": "error",
     "traceback": [
      "\u001b[0;36m  Cell \u001b[0;32mIn [15], line 2\u001b[0;36m\u001b[0m\n\u001b[0;31m    result = [string for string in strings if not string.endswith(\"e\")el]\u001b[0m\n\u001b[0m                                                                      ^\u001b[0m\n\u001b[0;31mSyntaxError\u001b[0m\u001b[0;31m:\u001b[0m invalid syntax\n"
     ]
    }
   ],
   "source": [
    "def filter_strings(strings):\n",
    "    result = [string for string in strings if not string.endswith(\"e\")el]\n",
    "    return result\n",
    "el_obs = filter_strings(observed.columns)"
   ]
  },
  {
   "cell_type": "code",
   "execution_count": 16,
   "metadata": {},
   "outputs": [
    {
     "ename": "NameError",
     "evalue": "name 'el_obs' is not defined",
     "output_type": "error",
     "traceback": [
      "\u001b[0;31m---------------------------------------------------------------------------\u001b[0m",
      "\u001b[0;31mNameError\u001b[0m                                 Traceback (most recent call last)",
      "\u001b[1;32m/Users/amanda/Desktop/Paper/low-redshift-survey/spielwiese.ipynb Cell 18\u001b[0m in \u001b[0;36m1\n\u001b[0;32m----> <a href='vscode-notebook-cell:/Users/amanda/Desktop/Paper/low-redshift-survey/spielwiese.ipynb#X23sZmlsZQ%3D%3D?line=0'>1</a>\u001b[0m el_obs\n",
      "\u001b[0;31mNameError\u001b[0m: name 'el_obs' is not defined"
     ]
    }
   ],
   "source": [
    "el_obs"
   ]
  },
  {
   "cell_type": "code",
   "execution_count": 17,
   "metadata": {},
   "outputs": [],
   "source": [
    "translate_el={'O2_3726A':'[OII]3726',\n",
    " 'O2_3729A':'[OII]3729',\n",
    " 'Ne3_3869A':'[NeIII]3870',\n",
    " 'H1r_3889A':'HeI 3889',\n",
    " 'Ne3_3967A':'[NeIII]3968',\n",
    " 'H1r_3970A':'H 3970',\n",
    " 'H1r_4102A':'H delta 4102',\n",
    " 'H1r_4341A':'H gamma 4340',\n",
    " 'O3_4363A':'[OIII]4364',\n",
    " 'He2r_4686A':None,\n",
    " 'H1r_4861A':'H beta 4861',\n",
    " 'O3_4959A':'[OIII]4960',\n",
    " 'O3_5007A':'[OIII]5007',\n",
    " 'He1r_5876A':'HeI 5877',\n",
    " 'O1_6300A':'[OI]6302',\n",
    " 'N2_6548A':'[NII]6549',\n",
    " 'H1r_6563A':'H alpha 6563',\n",
    " 'N2_6584A':'[NII]6585',\n",
    " 'S2_6716A':'[SII]6717',\n",
    " 'S2_6731A':'[SII]6732'}"
   ]
  },
  {
   "cell_type": "code",
   "execution_count": 18,
   "metadata": {},
   "outputs": [
    {
     "ename": "NameError",
     "evalue": "name 'translate_name' is not defined",
     "output_type": "error",
     "traceback": [
      "\u001b[0;31m---------------------------------------------------------------------------\u001b[0m",
      "\u001b[0;31mNameError\u001b[0m                                 Traceback (most recent call last)",
      "\u001b[1;32m/Users/amanda/Desktop/Paper/low-redshift-survey/spielwiese.ipynb Cell 20\u001b[0m in \u001b[0;36m1\n\u001b[0;32m----> <a href='vscode-notebook-cell:/Users/amanda/Desktop/Paper/low-redshift-survey/spielwiese.ipynb#X25sZmlsZQ%3D%3D?line=0'>1</a>\u001b[0m translate_name[num_to_id_translate[\u001b[39m'\u001b[39m\u001b[39m15440\u001b[39m\u001b[39m'\u001b[39m]]\n",
      "\u001b[0;31mNameError\u001b[0m: name 'translate_name' is not defined"
     ]
    }
   ],
   "source": [
    "translate_name[num_to_id_translate['15440']]"
   ]
  },
  {
   "cell_type": "code",
   "execution_count": 19,
   "metadata": {},
   "outputs": [],
   "source": [
    "path_wdir = '/Users/amanda/Desktop/Paper/technical/'\n",
    "path_data = os.path.join(path_wdir, 'data/')\n",
    "path_output = os.path.join(path_wdir, 'prospector/')\n",
    "path_flury = os.path.join(path_wdir, 'data/flury/')\n"
   ]
  },
  {
   "cell_type": "code",
   "execution_count": 20,
   "metadata": {},
   "outputs": [
    {
     "data": {
      "text/plain": [
       "'1'"
      ]
     },
     "execution_count": 20,
     "metadata": {},
     "output_type": "execute_result"
    }
   ],
   "source": [
    "def enumerate_strings(strings):\n",
    "    enumerated_dict = {string: str(index + 1) for index, string in enumerate(strings)}\n",
    "    return enumerated_dict\n",
    "\n",
    "translate_name = enumerate_strings(id_to_num_translate.keys())\n",
    "translate_name['J003601+003307']"
   ]
  },
  {
   "cell_type": "code",
   "execution_count": 21,
   "metadata": {},
   "outputs": [],
   "source": [
    "phot_table='GP_Aperture_Matched_Photometry_v0.fits'\n",
    "el_table=\"lzlcs_optlines_obs.csv\"\n",
    "objid=1"
   ]
  },
  {
   "cell_type": "code",
   "execution_count": 22,
   "metadata": {},
   "outputs": [
    {
     "data": {
      "text/plain": [
       "2"
      ]
     },
     "execution_count": 22,
     "metadata": {},
     "output_type": "execute_result"
    }
   ],
   "source": [
    "phot_cat = fits.open(os.path.join(path_flury, phot_table))\n",
    "phot = phot_cat[1].data\n",
    "phot[1][0]"
   ]
  },
  {
   "cell_type": "code",
   "execution_count": 23,
   "metadata": {},
   "outputs": [
    {
     "data": {
      "text/html": [
       "<div><i>Table length=66</i>\n",
       "<table id=\"table140177278041440\" class=\"table-striped table-bordered table-condensed\">\n",
       "<thead><tr><th>id</th><th>NAME</th><th>O2_3726A</th><th>O2_3726Ae</th><th>O2_3729A</th><th>O2_3729Ae</th><th>Ne3_3869A</th><th>Ne3_3869Ae</th><th>H1r_3889A</th><th>H1r_3889Ae</th><th>Ne3_3967A</th><th>Ne3_3967Ae</th><th>H1r_3970A</th><th>H1r_3970Ae</th><th>H1r_4102A</th><th>H1r_4102Ae</th><th>H1r_4341A</th><th>H1r_4341Ae</th><th>O3_4363A</th><th>O3_4363Ae</th><th>He2r_4686A</th><th>He2r_4686Ae</th><th>H1r_4861A</th><th>H1r_4861Ae</th><th>O3_4959A</th><th>O3_4959Ae</th><th>O3_5007A</th><th>O3_5007Ae</th><th>He1r_5876A</th><th>He1r_5876Ae</th><th>O1_6300A</th><th>O1_6300Ae</th><th>N2_6548A</th><th>N2_6548Ae</th><th>H1r_6563A</th><th>H1r_6563Ae</th><th>N2_6584A</th><th>N2_6584Ae</th><th>S2_6716A</th><th>S2_6716Ae</th><th>S2_6731A</th><th>S2_6731Ae</th></tr></thead>\n",
       "<thead><tr><th>int64</th><th>str14</th><th>float64</th><th>float64</th><th>float64</th><th>float64</th><th>float64</th><th>float64</th><th>float64</th><th>float64</th><th>float64</th><th>float64</th><th>float64</th><th>float64</th><th>float64</th><th>float64</th><th>float64</th><th>float64</th><th>float64</th><th>float64</th><th>float64</th><th>float64</th><th>float64</th><th>float64</th><th>float64</th><th>float64</th><th>float64</th><th>float64</th><th>float64</th><th>float64</th><th>float64</th><th>float64</th><th>float64</th><th>float64</th><th>float64</th><th>float64</th><th>float64</th><th>float64</th><th>float64</th><th>float64</th><th>float64</th><th>float64</th></tr></thead>\n",
       "<tr><td>1</td><td>J003601+003307</td><td>30.848469</td><td>1.6267882</td><td>39.194013</td><td>1.85677</td><td>61.752844</td><td>1.5614241</td><td>23.902108</td><td>1.251398</td><td>21.293996</td><td>1.8511538</td><td>17.924301</td><td>1.5520626</td><td>32.573245</td><td>1.4378267</td><td>61.689684</td><td>1.6840835</td><td>16.382929</td><td>1.4234521</td><td>0.0</td><td>-99.0</td><td>136.51584</td><td>2.8749645</td><td>270.69147</td><td>4.0618624</td><td>851.03992</td><td>70.19677</td><td>19.74732</td><td>2.3235349</td><td>0.0</td><td>-99.0</td><td>17.411655</td><td>9.7469951</td><td>454.49678</td><td>6.4211528</td><td>18.705467</td><td>2.8267641</td><td>0.0</td><td>-99.0</td><td>4.8370173</td><td>2.9291843</td></tr>\n",
       "<tr><td>2</td><td>J004743+015440</td><td>99.95118</td><td>2.5786292</td><td>117.33518</td><td>2.5714145</td><td>65.894175</td><td>1.4575998</td><td>24.7092</td><td>1.2368046</td><td>23.484576</td><td>1.3300223</td><td>14.041572</td><td>1.0934409</td><td>32.713175</td><td>1.8441317</td><td>69.646969</td><td>2.4282756</td><td>13.513025</td><td>1.7489098</td><td>3.2612795</td><td>1.6085462</td><td>164.99566</td><td>3.1819297</td><td>306.23182</td><td>3.0985201</td><td>912.5708236</td><td>19.964407</td><td>19.101125</td><td>1.6748919</td><td>8.1248294</td><td>4.5328226</td><td>0.0</td><td>-99.0</td><td>581.37334</td><td>9.2648435</td><td>31.07848</td><td>4.2073958</td><td>30.805263</td><td>2.6246507</td><td>22.716762</td><td>2.6216319</td></tr>\n",
       "<tr><td>3</td><td>J011309+000223</td><td>129.81044</td><td>7.4570595</td><td>104.4955</td><td>5.7289957</td><td>48.645583</td><td>2.6631381</td><td>16.344518</td><td>1.9476191</td><td>14.293992</td><td>2.6974809</td><td>12.367662</td><td>2.8363087</td><td>20.175669</td><td>2.2894186</td><td>44.132245</td><td>2.5256307</td><td>10.392885</td><td>6.0269999</td><td>0.0</td><td>-99.0</td><td>86.052626</td><td>2.9408101</td><td>137.41586</td><td>2.5002981</td><td>414.18911</td><td>6.7059248</td><td>9.1646792</td><td>2.0910171</td><td>3.4130506</td><td>2.375434</td><td>7.3151559</td><td>4.820293</td><td>236.63029</td><td>4.5145126</td><td>9.9410234</td><td>2.2024829</td><td>40.954879</td><td>8.1482302</td><td>21.400612</td><td>3.6748428</td></tr>\n",
       "<tr><td>4</td><td>J012217+052044</td><td>45.142712</td><td>2.4061713</td><td>56.985604</td><td>2.3066852</td><td>49.116555</td><td>2.1975888</td><td>18.816708</td><td>1.763831</td><td>15.582407</td><td>1.5577252</td><td>13.072769</td><td>2.0371334</td><td>24.998753</td><td>1.8565243</td><td>48.28456</td><td>2.6301346</td><td>13.889922</td><td>2.5520472</td><td>0.0</td><td>-99.0</td><td>106.11932</td><td>2.6259933</td><td>207.50764</td><td>4.1958245</td><td>617.4594</td><td>7.7631898</td><td>16.972526</td><td>3.6921942</td><td>0.0</td><td>-99.0</td><td>7.4445179</td><td>6.4020644</td><td>310.42633</td><td>13.854743</td><td>12.56388</td><td>5.065243</td><td>6.1359202</td><td>4.0039381</td><td>0.0</td><td>-99.0</td></tr>\n",
       "<tr><td>5</td><td>J012910+145935</td><td>276.60776</td><td>10.311352</td><td>168.55332</td><td>6.3715213</td><td>59.567164</td><td>3.538896</td><td>32.730851</td><td>3.059031</td><td>22.760236</td><td>3.7187031</td><td>25.093901</td><td>4.0876691</td><td>44.750847</td><td>2.1164488</td><td>91.683683</td><td>3.540858</td><td>7.7279691</td><td>4.7998386</td><td>0.0</td><td>-99.0</td><td>230.23128</td><td>3.0637697</td><td>284.89957</td><td>3.4602202</td><td>862.30319</td><td>8.9109926</td><td>33.081378</td><td>3.3773743</td><td>18.26653</td><td>3.4204616</td><td>25.170278</td><td>4.9831799</td><td>760.02105</td><td>11.621608</td><td>70.599166</td><td>6.955919</td><td>59.882423</td><td>4.4873086</td><td>37.757842</td><td>4.8497625</td></tr>\n",
       "<tr><td>6</td><td>J072326+414608</td><td>123.36735</td><td>4.4800503</td><td>113.5584</td><td>3.8257978</td><td>57.239538</td><td>1.6243399</td><td>24.506436</td><td>1.1926199</td><td>18.854429</td><td>1.4160764</td><td>17.95819</td><td>1.1620583</td><td>34.885696</td><td>1.5326853</td><td>71.347201</td><td>1.6356167</td><td>9.4803453</td><td>1.0230134</td><td>3.5597841</td><td>2.1755986</td><td>167.61405</td><td>3.6435579</td><td>277.14875</td><td>3.9127262</td><td>825.903275</td><td>12.035654</td><td>21.782554</td><td>1.7098247</td><td>10.809531</td><td>1.2669232</td><td>10.447496</td><td>1.5716401</td><td>508.56689</td><td>13.800866</td><td>29.903918</td><td>1.6411269</td><td>36.23451</td><td>1.2536137</td><td>27.059068</td><td>1.2331236</td></tr>\n",
       "<tr><td>7</td><td>J080425+472607</td><td>4.0327091</td><td>0.80419429</td><td>3.7627858</td><td>0.88413801</td><td>15.887941</td><td>0.94976773</td><td>8.2493884</td><td>0.77386584</td><td>4.6168168</td><td>0.95428186</td><td>7.8282326</td><td>0.85276416</td><td>11.140076</td><td>1.1697717</td><td>21.753691</td><td>1.9154514</td><td>6.8734645</td><td>1.3004344</td><td>0.0</td><td>-99.0</td><td>51.222154</td><td>1.3879705</td><td>80.253615</td><td>1.7538652</td><td>239.1557727</td><td>3.4947038</td><td>5.2085186</td><td>3.133307</td><td>0.0</td><td>-99.0</td><td>0.0</td><td>-99.0</td><td>158.64276</td><td>4.3740875</td><td>0.0</td><td>-99.0</td><td>0.0</td><td>-99.0</td><td>0.0</td><td>-99.0</td></tr>\n",
       "<tr><td>8</td><td>J081112+414146</td><td>17.094261</td><td>1.1439201</td><td>23.953992</td><td>1.227835</td><td>25.288982</td><td>1.5853496</td><td>9.7787002</td><td>0.997191</td><td>9.3656289</td><td>1.138548</td><td>7.531339</td><td>0.86360814</td><td>13.219281</td><td>1.0063095</td><td>28.087701</td><td>1.2847884</td><td>8.4413669</td><td>1.194478</td><td>2.6769266</td><td>0.96335368</td><td>57.738654</td><td>1.3468505</td><td>132.11593</td><td>2.085111</td><td>393.7054714</td><td>3.6040003</td><td>7.4347146</td><td>0.94963887</td><td>0.68915779</td><td>2.4965073</td><td>0.0</td><td>-99.0</td><td>158.407</td><td>3.2472419</td><td>0.0</td><td>-99.0</td><td>8.0552802</td><td>2.3407854</td><td>0.0</td><td>-99.0</td></tr>\n",
       "<tr><td>9</td><td>J081409+211459</td><td>339.99141</td><td>6.620331</td><td>415.00061</td><td>6.0214874</td><td>94.932226</td><td>3.2180826</td><td>39.662709</td><td>2.8148596</td><td>20.95812</td><td>3.1162267</td><td>22.459871</td><td>3.0336174</td><td>61.637563</td><td>2.9136242</td><td>142.34521</td><td>3.3419796</td><td>13.544539</td><td>2.4990967</td><td>4.6033199</td><td>3.6536179</td><td>337.12034</td><td>4.205281</td><td>393.51002</td><td>5.2573396</td><td>1172.65986</td><td>10.314974</td><td>41.529128</td><td>2.0990508</td><td>24.796578</td><td>2.6605937</td><td>44.405613</td><td>2.7679564</td><td>1208.6921</td><td>12.607067</td><td>137.97186</td><td>3.298552</td><td>121.01154</td><td>3.2730701</td><td>89.337238</td><td>3.1860921</td></tr>\n",
       "<tr><td>10</td><td>J082652+182052</td><td>79.422976</td><td>3.0312087</td><td>75.011093</td><td>3.0103727</td><td>46.101851</td><td>2.4034135</td><td>22.697947</td><td>1.7938488</td><td>15.675684</td><td>1.9208292</td><td>18.368943</td><td>2.0151972</td><td>32.217095</td><td>2.2490398</td><td>55.442608</td><td>2.686905</td><td>6.3307531</td><td>4.0152885</td><td>0.0</td><td>-99.0</td><td>124.69782</td><td>2.6404776</td><td>219.44351</td><td>3.4886084</td><td>653.9416598</td><td>6.8218557</td><td>13.063272</td><td>2.3400706</td><td>3.945822</td><td>2.7284381</td><td>5.5061439</td><td>3.8894058</td><td>374.18662</td><td>6.3504815</td><td>19.174208</td><td>3.4081354</td><td>10.932875</td><td>6.4667783</td><td>0.0</td><td>-99.0</td></tr>\n",
       "<tr><td>...</td><td>...</td><td>...</td><td>...</td><td>...</td><td>...</td><td>...</td><td>...</td><td>...</td><td>...</td><td>...</td><td>...</td><td>...</td><td>...</td><td>...</td><td>...</td><td>...</td><td>...</td><td>...</td><td>...</td><td>...</td><td>...</td><td>...</td><td>...</td><td>...</td><td>...</td><td>...</td><td>...</td><td>...</td><td>...</td><td>...</td><td>...</td><td>...</td><td>...</td><td>...</td><td>...</td><td>...</td><td>...</td><td>...</td><td>...</td><td>...</td><td>...</td></tr>\n",
       "<tr><td>57</td><td>J140333+612115</td><td>37.274918</td><td>2.8297796</td><td>47.090321</td><td>3.0178941</td><td>55.010878</td><td>2.6633715</td><td>21.847876</td><td>2.1412757</td><td>17.116134</td><td>2.096688</td><td>16.659544</td><td>2.0730975</td><td>28.202255</td><td>2.4571651</td><td>62.260841</td><td>2.8203118</td><td>16.946451</td><td>1.997746</td><td>0.0</td><td>-99.0</td><td>125.99671</td><td>3.2674916</td><td>279.49309</td><td>4.0802374</td><td>831.2041</td><td>9.7415561</td><td>17.148814</td><td>2.6877273</td><td>0.0</td><td>-99.0</td><td>0.0</td><td>-99.0</td><td>468.92863</td><td>9.2371942</td><td>0.0</td><td>-99.0</td><td>12.734226</td><td>8.169983</td><td>18.372309</td><td>12.468947</td></tr>\n",
       "<tr><td>58</td><td>J141013+434435</td><td>47.857304</td><td>2.6559429</td><td>66.082385</td><td>2.9792046</td><td>83.137593</td><td>2.177203</td><td>26.282179</td><td>1.072665</td><td>23.826958</td><td>1.7402044</td><td>22.772147</td><td>1.7450695</td><td>40.125969</td><td>1.2467653</td><td>70.896923</td><td>2.1414383</td><td>18.219937</td><td>1.304724</td><td>2.2677304</td><td>1.5024108</td><td>161.842</td><td>2.5599942</td><td>404.00515</td><td>7.1209116</td><td>1203.935347</td><td>26.637731</td><td>26.111415</td><td>2.3420083</td><td>7.0807957</td><td>0.92421293</td><td>5.5774882</td><td>1.4190097</td><td>544.97989</td><td>11.72503</td><td>14.560728</td><td>1.8774817</td><td>13.055836</td><td>1.0862044</td><td>11.576885</td><td>0.887388</td></tr>\n",
       "<tr><td>59</td><td>J144010+461937</td><td>480.59967</td><td>12.394226</td><td>447.27396</td><td>10.778879</td><td>151.69616</td><td>4.279462</td><td>57.958854</td><td>4.2071613</td><td>48.157953</td><td>5.9185176</td><td>45.28488</td><td>4.3386155</td><td>95.585832</td><td>4.7108756</td><td>187.69415</td><td>4.8064505</td><td>19.036797</td><td>4.0363903</td><td>0.0</td><td>-99.0</td><td>469.12362</td><td>5.1762827</td><td>673.73723</td><td>5.1867949</td><td>2007.736945</td><td>15.385105</td><td>56.740497</td><td>3.606562</td><td>50.063473</td><td>3.7653378</td><td>49.434227</td><td>4.03035</td><td>1594.4834</td><td>13.549422</td><td>132.24628</td><td>5.3557486</td><td>116.52795</td><td>6.5486569</td><td>106.45145</td><td>8.3576366</td></tr>\n",
       "<tr><td>60</td><td>J151707+370512</td><td>138.02226</td><td>5.1184852</td><td>162.05779</td><td>4.0080846</td><td>49.102867</td><td>2.2606212</td><td>28.476542</td><td>2.1679035</td><td>16.737674</td><td>1.9146569</td><td>25.009711</td><td>1.8818908</td><td>46.918255</td><td>1.8819466</td><td>88.032814</td><td>2.2076501</td><td>5.409019</td><td>3.2025993</td><td>3.7400211</td><td>2.4175981</td><td>210.85613</td><td>4.1184356</td><td>317.67165</td><td>4.7937631</td><td>945.84297</td><td>14.493336</td><td>28.546245</td><td>1.8568049</td><td>10.637849</td><td>1.4369844</td><td>29.024541</td><td>2.7200306</td><td>758.62739</td><td>10.917139</td><td>75.432584</td><td>3.0658622</td><td>42.119647</td><td>2.0944416</td><td>36.771803</td><td>1.5895937</td></tr>\n",
       "<tr><td>61</td><td>J154050+572442</td><td>417.99553</td><td>15.908392</td><td>330.98545</td><td>12.904181</td><td>100.40511</td><td>6.0236349</td><td>41.913253</td><td>3.8151455</td><td>20.146983</td><td>3.314803</td><td>29.034208</td><td>3.8941125</td><td>52.79674</td><td>4.427078</td><td>123.15281</td><td>4.0151467</td><td>0.0</td><td>-99.0</td><td>0.0</td><td>-99.0</td><td>337.4525</td><td>5.9134606</td><td>381.99183</td><td>6.7838075</td><td>1145.3725</td><td>15.084998</td><td>34.726144</td><td>8.0523223</td><td>25.630543</td><td>3.0381409</td><td>63.299059</td><td>6.8737651</td><td>1180.8354</td><td>19.517806</td><td>166.40034</td><td>5.73786</td><td>119.59145</td><td>8.2447342</td><td>87.905666</td><td>5.6181668</td></tr>\n",
       "<tr><td>62</td><td>J155945+403325</td><td>224.6245</td><td>7.5118444</td><td>220.27391</td><td>7.4539165</td><td>112.86155</td><td>4.1704629</td><td>44.009169</td><td>3.1128558</td><td>37.475603</td><td>3.9948744</td><td>40.08054</td><td>3.5635951</td><td>66.629331</td><td>3.6523066</td><td>120.47971</td><td>4.1887213</td><td>18.317445</td><td>2.5083073</td><td>0.0</td><td>-99.0</td><td>288.40115</td><td>4.7968682</td><td>529.7349</td><td>5.8518107</td><td>1566.8672</td><td>15.789619</td><td>34.151367</td><td>2.3581515</td><td>14.591082</td><td>2.4802905</td><td>13.249525</td><td>6.1523971</td><td>921.75641</td><td>9.3514165</td><td>44.775814</td><td>2.3562353</td><td>58.408568</td><td>3.1163608</td><td>43.355189</td><td>3.3305118</td></tr>\n",
       "<tr><td>63</td><td>J160437+081959</td><td>109.25435</td><td>7.0670498</td><td>126.69279</td><td>6.901698</td><td>102.42726</td><td>3.9195528</td><td>33.508211</td><td>2.658246</td><td>32.753653</td><td>3.1610521</td><td>29.159292</td><td>3.2466878</td><td>59.513839</td><td>3.1849353</td><td>96.613789</td><td>3.3665141</td><td>20.612721</td><td>2.562629</td><td>0.0</td><td>-99.0</td><td>237.44252</td><td>3.7488345</td><td>567.73579</td><td>6.3240981</td><td>1691.852654</td><td>21.59077</td><td>30.136362</td><td>3.3672334</td><td>11.950225</td><td>1.7911622</td><td>9.4430993</td><td>5.5874446</td><td>650.97729</td><td>8.3113125</td><td>28.692486</td><td>3.020613</td><td>25.25382</td><td>3.763242</td><td>17.980981</td><td>6.655688</td></tr>\n",
       "<tr><td>64</td><td>J164607+313054</td><td>97.415184</td><td>5.5332739</td><td>143.62404</td><td>5.397662</td><td>83.78856</td><td>4.2059973</td><td>28.580585</td><td>3.0168059</td><td>26.828929</td><td>3.4700197</td><td>21.822154</td><td>2.7260357</td><td>43.032737</td><td>2.7526324</td><td>85.487468</td><td>3.3338282</td><td>15.233797</td><td>2.4455694</td><td>0.0</td><td>-99.0</td><td>213.51171</td><td>5.332747</td><td>432.95303</td><td>6.6531014</td><td>1290.200029</td><td>123.67421</td><td>18.602317</td><td>1.6351502</td><td>0.0</td><td>-99.0</td><td>0.0</td><td>-99.0</td><td>507.41239</td><td>17.299321</td><td>26.706168</td><td>3.4748572</td><td>17.426738</td><td>12.003871</td><td>15.45715</td><td>9.3150493</td></tr>\n",
       "<tr><td>65</td><td>J164849+495751</td><td>33.963844</td><td>1.4279249</td><td>42.76239</td><td>1.415396</td><td>18.592046</td><td>1.1202363</td><td>8.8168828</td><td>0.82831324</td><td>4.2615485</td><td>0.93624644</td><td>6.5796434</td><td>0.80062853</td><td>11.853218</td><td>1.0857981</td><td>19.755431</td><td>1.554712</td><td>0.0</td><td>-99.0</td><td>0.0</td><td>-99.0</td><td>40.953113</td><td>1.138788</td><td>68.016098</td><td>2.0043865</td><td>202.687972</td><td>4.1353848</td><td>4.1553133</td><td>0.61599452</td><td>0.0</td><td>-99.0</td><td>2.1036591</td><td>1.9901351</td><td>109.74928</td><td>3.7261112</td><td>4.0547669</td><td>0.90018064</td><td>7.9854326</td><td>0.83277253</td><td>5.2121858</td><td>3.0457768</td></tr>\n",
       "<tr><td>66</td><td>J172010+542133</td><td>70.169168</td><td>1.960724</td><td>75.371541</td><td>2.1832287</td><td>41.240021</td><td>1.5903698</td><td>16.877013</td><td>1.2372435</td><td>9.4676286</td><td>1.3727035</td><td>15.430345</td><td>0.99064993</td><td>24.933494</td><td>1.4242458</td><td>47.589155</td><td>1.6066037</td><td>7.4637781</td><td>1.1108742</td><td>0.45764443</td><td>0.64031489</td><td>97.956195</td><td>1.9918751</td><td>177.04424</td><td>2.196239</td><td>534.02329</td><td>3.7779026</td><td>8.700084</td><td>1.7473823</td><td>3.9607946</td><td>0.99110511</td><td>0.0</td><td>-99.0</td><td>350.64811</td><td>4.2658234</td><td>5.8380323</td><td>3.3131013</td><td>11.504584</td><td>6.4859381</td><td>0.0</td><td>-99.0</td></tr>\n",
       "</table></div>"
      ],
      "text/plain": [
       "<Table length=66>\n",
       "  id       NAME       O2_3726A O2_3726Ae  ... S2_6716Ae   S2_6731A S2_6731Ae\n",
       "int64     str14       float64   float64   ...  float64    float64   float64 \n",
       "----- -------------- --------- ---------- ... ---------- --------- ---------\n",
       "    1 J003601+003307 30.848469  1.6267882 ...      -99.0 4.8370173 2.9291843\n",
       "    2 J004743+015440  99.95118  2.5786292 ...  2.6246507 22.716762 2.6216319\n",
       "    3 J011309+000223 129.81044  7.4570595 ...  8.1482302 21.400612 3.6748428\n",
       "    4 J012217+052044 45.142712  2.4061713 ...  4.0039381       0.0     -99.0\n",
       "    5 J012910+145935 276.60776  10.311352 ...  4.4873086 37.757842 4.8497625\n",
       "    6 J072326+414608 123.36735  4.4800503 ...  1.2536137 27.059068 1.2331236\n",
       "    7 J080425+472607 4.0327091 0.80419429 ...      -99.0       0.0     -99.0\n",
       "    8 J081112+414146 17.094261  1.1439201 ...  2.3407854       0.0     -99.0\n",
       "    9 J081409+211459 339.99141   6.620331 ...  3.2730701 89.337238 3.1860921\n",
       "   10 J082652+182052 79.422976  3.0312087 ...  6.4667783       0.0     -99.0\n",
       "  ...            ...       ...        ... ...        ...       ...       ...\n",
       "   57 J140333+612115 37.274918  2.8297796 ...   8.169983 18.372309 12.468947\n",
       "   58 J141013+434435 47.857304  2.6559429 ...  1.0862044 11.576885  0.887388\n",
       "   59 J144010+461937 480.59967  12.394226 ...  6.5486569 106.45145 8.3576366\n",
       "   60 J151707+370512 138.02226  5.1184852 ...  2.0944416 36.771803 1.5895937\n",
       "   61 J154050+572442 417.99553  15.908392 ...  8.2447342 87.905666 5.6181668\n",
       "   62 J155945+403325  224.6245  7.5118444 ...  3.1163608 43.355189 3.3305118\n",
       "   63 J160437+081959 109.25435  7.0670498 ...   3.763242 17.980981  6.655688\n",
       "   64 J164607+313054 97.415184  5.5332739 ...  12.003871  15.45715 9.3150493\n",
       "   65 J164849+495751 33.963844  1.4279249 ... 0.83277253 5.2121858 3.0457768\n",
       "   66 J172010+542133 70.169168   1.960724 ...  6.4859381       0.0     -99.0"
      ]
     },
     "execution_count": 23,
     "metadata": {},
     "output_type": "execute_result"
    }
   ],
   "source": [
    "el = Table.read(os.path.join(path_flury, el_table), format=\"ascii\")\n",
    "el.add_column([i for i in range(1,67)], name='id', index=0)\n",
    "el"
   ]
  },
  {
   "cell_type": "code",
   "execution_count": 24,
   "metadata": {},
   "outputs": [],
   "source": [
    "translate_name_rev = {v: k for k, v in translate_name.items()}\n",
    "filternames = ['sdss_u0','sdss_g0','sdss_r0','sdss_i0','sdss_z0','galex_FUV','galex_NUV']\n"
   ]
  },
  {
   "cell_type": "code",
   "execution_count": 25,
   "metadata": {},
   "outputs": [
    {
     "ename": "KeyError",
     "evalue": "\"Key 'p' does not exist.\"",
     "output_type": "error",
     "traceback": [
      "\u001b[0;31m---------------------------------------------------------------------------\u001b[0m",
      "\u001b[0;31mValueError\u001b[0m                                Traceback (most recent call last)",
      "File \u001b[0;32m~/opt/anaconda3/envs/astro/lib/python3.10/site-packages/astropy/io/fits/column.py:2046\u001b[0m, in \u001b[0;36m_get_index\u001b[0;34m(names, key)\u001b[0m\n\u001b[1;32m   2045\u001b[0m \u001b[39mtry\u001b[39;00m:\n\u001b[0;32m-> 2046\u001b[0m     indx \u001b[39m=\u001b[39m names\u001b[39m.\u001b[39;49mindex(key\u001b[39m.\u001b[39;49mrstrip())\n\u001b[1;32m   2047\u001b[0m \u001b[39mexcept\u001b[39;00m \u001b[39mValueError\u001b[39;00m:\n\u001b[1;32m   2048\u001b[0m     \u001b[39m# try to match case-insentively,\u001b[39;00m\n",
      "\u001b[0;31mValueError\u001b[0m: 'p' is not in list",
      "\nDuring handling of the above exception, another exception occurred:\n",
      "\u001b[0;31mKeyError\u001b[0m                                  Traceback (most recent call last)",
      "\u001b[1;32m/Users/amanda/Desktop/Paper/low-redshift-survey/spielwiese.ipynb Cell 27\u001b[0m in \u001b[0;36m1\n\u001b[0;32m----> <a href='vscode-notebook-cell:/Users/amanda/Desktop/Paper/low-redshift-survey/spielwiese.ipynb#X35sZmlsZQ%3D%3D?line=0'>1</a>\u001b[0m phot[\u001b[39m'\u001b[39;49m\u001b[39mp\u001b[39;49m\u001b[39m'\u001b[39;49m]\n",
      "File \u001b[0;32m~/opt/anaconda3/envs/astro/lib/python3.10/site-packages/astropy/io/fits/fitsrec.py:501\u001b[0m, in \u001b[0;36mFITS_rec.__getitem__\u001b[0;34m(self, key)\u001b[0m\n\u001b[1;32m    498\u001b[0m     \u001b[39mreturn\u001b[39;00m \u001b[39msuper\u001b[39m()\u001b[39m.\u001b[39m\u001b[39m__getitem__\u001b[39m(key)\n\u001b[1;32m    500\u001b[0m \u001b[39mif\u001b[39;00m \u001b[39misinstance\u001b[39m(key, \u001b[39mstr\u001b[39m):\n\u001b[0;32m--> 501\u001b[0m     \u001b[39mreturn\u001b[39;00m \u001b[39mself\u001b[39;49m\u001b[39m.\u001b[39;49mfield(key)\n\u001b[1;32m    503\u001b[0m \u001b[39m# Have to view as a recarray then back as a FITS_rec, otherwise the\u001b[39;00m\n\u001b[1;32m    504\u001b[0m \u001b[39m# circular reference fix/hack in FITS_rec.field() won't preserve\u001b[39;00m\n\u001b[1;32m    505\u001b[0m \u001b[39m# the slice.\u001b[39;00m\n\u001b[1;32m    506\u001b[0m out \u001b[39m=\u001b[39m \u001b[39mself\u001b[39m\u001b[39m.\u001b[39mview(np\u001b[39m.\u001b[39mrecarray)[key]\n",
      "File \u001b[0;32m~/opt/anaconda3/envs/astro/lib/python3.10/site-packages/astropy/io/fits/fitsrec.py:688\u001b[0m, in \u001b[0;36mFITS_rec.field\u001b[0;34m(self, key)\u001b[0m\n\u001b[1;32m    682\u001b[0m \u001b[39m\"\"\"\u001b[39;00m\n\u001b[1;32m    683\u001b[0m \u001b[39mA view of a `Column`'s data as an array.\u001b[39;00m\n\u001b[1;32m    684\u001b[0m \u001b[39m\"\"\"\u001b[39;00m\n\u001b[1;32m    686\u001b[0m \u001b[39m# NOTE: The *column* index may not be the same as the field index in\u001b[39;00m\n\u001b[1;32m    687\u001b[0m \u001b[39m# the recarray, if the column is a phantom column\u001b[39;00m\n\u001b[0;32m--> 688\u001b[0m column \u001b[39m=\u001b[39m \u001b[39mself\u001b[39;49m\u001b[39m.\u001b[39;49mcolumns[key]\n\u001b[1;32m    689\u001b[0m name \u001b[39m=\u001b[39m column\u001b[39m.\u001b[39mname\n\u001b[1;32m    690\u001b[0m \u001b[39mformat\u001b[39m \u001b[39m=\u001b[39m column\u001b[39m.\u001b[39mformat\n",
      "File \u001b[0;32m~/opt/anaconda3/envs/astro/lib/python3.10/site-packages/astropy/io/fits/column.py:1644\u001b[0m, in \u001b[0;36mColDefs.__getitem__\u001b[0;34m(self, key)\u001b[0m\n\u001b[1;32m   1642\u001b[0m \u001b[39mdef\u001b[39;00m \u001b[39m__getitem__\u001b[39m(\u001b[39mself\u001b[39m, key):\n\u001b[1;32m   1643\u001b[0m     \u001b[39mif\u001b[39;00m \u001b[39misinstance\u001b[39m(key, \u001b[39mstr\u001b[39m):\n\u001b[0;32m-> 1644\u001b[0m         key \u001b[39m=\u001b[39m _get_index(\u001b[39mself\u001b[39;49m\u001b[39m.\u001b[39;49mnames, key)\n\u001b[1;32m   1646\u001b[0m     x \u001b[39m=\u001b[39m \u001b[39mself\u001b[39m\u001b[39m.\u001b[39mcolumns[key]\n\u001b[1;32m   1647\u001b[0m     \u001b[39mif\u001b[39;00m _is_int(key):\n",
      "File \u001b[0;32m~/opt/anaconda3/envs/astro/lib/python3.10/site-packages/astropy/io/fits/column.py:2055\u001b[0m, in \u001b[0;36m_get_index\u001b[0;34m(names, key)\u001b[0m\n\u001b[1;32m   2053\u001b[0m     indx \u001b[39m=\u001b[39m names\u001b[39m.\u001b[39mindex(_key)\n\u001b[1;32m   2054\u001b[0m \u001b[39melif\u001b[39;00m count \u001b[39m==\u001b[39m \u001b[39m0\u001b[39m:\n\u001b[0;32m-> 2055\u001b[0m     \u001b[39mraise\u001b[39;00m \u001b[39mKeyError\u001b[39;00m(\u001b[39mf\u001b[39m\u001b[39m\"\u001b[39m\u001b[39mKey \u001b[39m\u001b[39m'\u001b[39m\u001b[39m{\u001b[39;00mkey\u001b[39m}\u001b[39;00m\u001b[39m'\u001b[39m\u001b[39m does not exist.\u001b[39m\u001b[39m\"\u001b[39m)\n\u001b[1;32m   2056\u001b[0m \u001b[39melse\u001b[39;00m:              \u001b[39m# multiple match\u001b[39;00m\n\u001b[1;32m   2057\u001b[0m     \u001b[39mraise\u001b[39;00m \u001b[39mKeyError\u001b[39;00m(\u001b[39mf\u001b[39m\u001b[39m\"\u001b[39m\u001b[39mAmbiguous key name \u001b[39m\u001b[39m'\u001b[39m\u001b[39m{\u001b[39;00mkey\u001b[39m}\u001b[39;00m\u001b[39m'\u001b[39m\u001b[39m.\u001b[39m\u001b[39m\"\u001b[39m)\n",
      "\u001b[0;31mKeyError\u001b[0m: \"Key 'p' does not exist.\""
     ]
    }
   ],
   "source": [
    "phot['p']"
   ]
  },
  {
   "cell_type": "code",
   "execution_count": 26,
   "metadata": {},
   "outputs": [],
   "source": [
    "EL_info = pd.read_csv('/Users/amanda/opt/anaconda3/envs/astro/lib/python3.10/site-packages/fsps/data/emlines_info.dat', header=None, sep = ',')\n"
   ]
  },
  {
   "cell_type": "code",
   "execution_count": 27,
   "metadata": {},
   "outputs": [],
   "source": [
    "def build_obs(objid=1, EL_info=EL_info, el_table=\"lzlcs_optlines_obs.csv\", phot_table='GP_Aperture_Matched_Photometry_v0.fits', err_floor=0.05, err_floor_el=0.05, filternames = filternames, **kwargs):\n",
    "    \n",
    "    # choose galaxy and read in the data\n",
    "    phot_cat = fits.open(os.path.join(path_flury, phot_table))\n",
    "    phot = phot_cat[1].data\n",
    "\n",
    "    el = Table.read(os.path.join(path_flury, el_table), format=\"ascii\")\n",
    "    el.add_column([i for i in range(1,67)], name='id', index=0) #uniform reference for name now possible\n",
    "\n",
    "    #two different inputs are possible for the objid, so we have to combine them into one ID we can work with:\n",
    "    if objid>70:\n",
    "        idx_gal = translate_name[num_to_id_translate[str(objid)]]\n",
    "    elif objid==0:\n",
    "        print('ERROR = objid can not be zero, the enumerations starts at 1')\n",
    "    else:\n",
    "        idx_gal = int(phot[objid-1][0])\n",
    "\n",
    "    #id will be used to access the photometry, here everything starts from 0\n",
    "\n",
    "    id = idx_gal-1\n",
    "\n",
    "    #control line gets printed:\n",
    "    print('GALAXIE: '+translate_name_rev[str(idx_gal)]+', ID: ' + str(idx_gal) + ', PHOTOMETRY: ' + phot_table + ', EMISSION_LINES: '+ el_table)\n",
    "\n",
    "    #create all the lists I need for the obs dictionary:\n",
    "\n",
    "#-------------------------------PHOTOMETRY-------------------------------------\n",
    "    maggies = []\n",
    "    maggies_unc = []\n",
    "    phot_mask = []\n",
    "    filters = []\n",
    "\n",
    "    #MAGGIES AND MAGGIES_UNC:\n",
    "\n",
    "    fil = ['FUV', 'NUV', 'U', 'G', 'R', 'I', 'Z']\n",
    "    for x in fil:\n",
    "        if phot['probPSF'][0]==1:\n",
    "            if phot['psf_mag_'+x][id] > 0:\n",
    "                m = 10**((phot['psf_mag_'+x][id]-8.9)/(-2.5))\n",
    "                m_err = np.abs(m - 10**(((phot['psf_mag_'+x][id]+phot['psf_magerr_'+x][id])-8.9)/(-2.5)))\n",
    "                maggies.append(m/3631)\n",
    "                maggies_unc.append(m_err/3631)\n",
    "            else:\n",
    "                maggies.append(None)\n",
    "                maggies_unc.append(None)\n",
    "        else:\n",
    "            if phot['aper_mag_3p1_'+x][id] > 0:\n",
    "                m = 10**((phot['aper_mag_3p1_'+x][id]-8.9)/(-2.5))\n",
    "                m_err = np.abs(m - 10**(((phot['aper_mag_3p1_'+x][id]+phot['aper_magerr_3p1_'+x][id])-8.9)/(-2.5)))\n",
    "                maggies.append(m/3631)\n",
    "                maggies_unc.append(m_err/3631)\n",
    "            else:\n",
    "                maggies.append(None)\n",
    "                maggies_unc.append(None)\n",
    "        \n",
    "    maggies = np.array(maggies)\n",
    "    maggies_unc = np.array(maggies_unc)\n",
    "\n",
    "\n",
    "    #PHOT_MASK:\n",
    "\n",
    "    for i in range(len(maggies)):\n",
    "        if maggies[i] == None:\n",
    "            phot_mask.append(False)\n",
    "        else:\n",
    "            phot_mask.append(True)\n",
    "    \n",
    "    phot_mask = np.array(phot_mask)\n",
    "\n",
    "\n",
    "    #FILTERS:\n",
    "\n",
    "    filternames = np.array(filternames)\n",
    "\n",
    "#-------------------------------EMISSION LINES-------------------------------------\n",
    "    \n",
    "    wavelength = []\n",
    "    spectrum = []\n",
    "    unc = []\n",
    "    mask = []\n",
    "\n",
    "\n",
    "    #SPECTRUM, UNC AND WAVELENGTH:\n",
    "\n",
    "    for i_col in el.columns:\n",
    "        if ('Ae' not in i_col) & ('NAME' not in i_col) & ('id' not in i_col):\n",
    "            spectrum.append(el[i_col][id])\n",
    "            unc.append(el[i_col+'e'][id])\n",
    "            wavelength.append(translate_el[i_col])\n",
    "\n",
    "    spectrum = np.array(spectrum)\n",
    "    unc = np.array(unc)\n",
    "    wavelength = np.array(wavelength)\n",
    "    #unc = [spectrum[i]/10 for i in range(len(spectrum))]\n",
    "\n",
    "    #MASK:\n",
    "\n",
    "    for i in range(len(wavelength)):\n",
    "        if wavelength[i]==None:\n",
    "            mask.append(False)\n",
    "        else:\n",
    "            mask.append(True)\n",
    "\n",
    "    mask = np.array(mask)\n",
    "\n",
    "    #put the names of the lines in a list, create list with the idices of the positions our EL have in the emission_info.dat file\n",
    "\n",
    "    line_info = np.genfromtxt(os.path.join(os.getenv(\"SPS_HOME\"), \"data/emlines_info.dat\"), dtype=[('wave', 'f8'), ('name', '<U20')], delimiter=',')\n",
    "    linelist = line_info[\"name\"].tolist()\n",
    "    line_indices = []\n",
    "    for n in wavelength:\n",
    "        if n==None:\n",
    "            continue\n",
    "        else:\n",
    "            line_indices.append(linelist.index(n))\n",
    "\n",
    "\n",
    "    #----------------------------------NOW CREATE OBS DICTIONARY----------------------------------#\n",
    "\n",
    "    # set up obs dictionary\n",
    "\n",
    "    obs = {}\n",
    "\n",
    "    # This is a list of sedpy filter objects.\n",
    "    # See the sedpy.observate.load_filters command for more details on its syntax.\n",
    "\n",
    "    obs['filters'] = load_filters(filternames)\n",
    "    obs['wave_effective'] = [f.wave_effective for f in obs['filters']]\n",
    "\n",
    "    filter_width_eff = [f.effective_width for f in obs['filters']]\n",
    "\n",
    "    # This is a list of maggies, converted from mags.\n",
    "    # It should have the same order as `filters` above.\n",
    "    obs['maggies'] = maggies\n",
    "\n",
    "    # You should use real flux uncertainties (incl. error floor)\n",
    "    mags_err_final = np.clip(maggies_unc, np.abs(maggies) * err_floor, np.inf)\n",
    "    obs['maggies_unc'] = mags_err_final\n",
    "\n",
    "    # Here we mask out any NaNs or infs\n",
    "    # mask bands below Lyman break (if redshift fixed)\n",
    "    #obs['phot_mask'] = np.isfinite(np.squeeze(maggies)) & (mags_err < 1e4) & (mags != 1.0)\n",
    "    obs['phot_mask'] = phot_mask\n",
    "\n",
    "    # We do not have a spectrum, so we set some required elements of the obs dictionary to None.\n",
    "    # (this would be a vector of vacuum wavelengths in angstroms)\n",
    "    obs[\"wavelength\"] = line_info[\"wave\"][np.array(line_indices)]\n",
    "\n",
    "  \n",
    "\n",
    "    # (this would be the spectrum in units of maggies)\n",
    "    obs[\"spectrum\"] = spectrum\n",
    "    obs[\"line_ind\"] = line_indices\n",
    "\n",
    "    # (spectral uncertainties are given here)\n",
    "    #el_unc_final = np.clip(el_unc, np.abs(el_flux) * err_floor_el, np.inf)\n",
    "    #obs['unc'] = el_unc_final\n",
    "    obs['unc'] = unc\n",
    "    # (again, to ignore a particular wavelength set the value of the\n",
    "    #  corresponding elemnt of the mask to *False*)\n",
    "    obs['mask'] = mask\n",
    "    #obs['mask'] = [True for i in range(len(obs['spectrum']))]\n",
    "    # Add unessential bonus info.  This will be stored in output\n",
    "    obs['cat_row'] = id\n",
    "    obs['id'] = idx_gal\n",
    "    obs['z_spec'] = phot['z'][id]\n",
    "    obs[\"line_names\"] = wavelength\n",
    "    return obs\n"
   ]
  },
  {
   "cell_type": "code",
   "execution_count": 28,
   "metadata": {},
   "outputs": [
    {
     "name": "stdout",
     "output_type": "stream",
     "text": [
      "GALAXIE: J003601+003307, ID: 1, PHOTOMETRY: GP_Aperture_Matched_Photometry_v0.fits, EMISSION_LINES: lzlcs_optlines_obs.csv\n"
     ]
    }
   ],
   "source": [
    "obs = build_obs()"
   ]
  },
  {
   "attachments": {},
   "cell_type": "markdown",
   "metadata": {},
   "source": [
    "# Model for input output test, no free variables\n",
    "what i have:\n",
    "- redshift\n",
    "- age\n",
    "- metallicity\n",
    "- f_esc"
   ]
  },
  {
   "cell_type": "code",
   "execution_count": 29,
   "metadata": {},
   "outputs": [
    {
     "ename": "IndexError",
     "evalue": "only integers, slices (`:`), ellipsis (`...`), numpy.newaxis (`None`) and integer or boolean arrays are valid indices",
     "output_type": "error",
     "traceback": [
      "\u001b[0;31m---------------------------------------------------------------------------\u001b[0m",
      "\u001b[0;31mIndexError\u001b[0m                                Traceback (most recent call last)",
      "\u001b[1;32m/Users/amanda/Desktop/Paper/low-redshift-survey/spielwiese.ipynb Cell 32\u001b[0m in \u001b[0;36m3\n\u001b[1;32m      <a href='vscode-notebook-cell:/Users/amanda/Desktop/Paper/low-redshift-survey/spielwiese.ipynb#X43sZmlsZQ%3D%3D?line=0'>1</a>\u001b[0m thet \u001b[39m=\u001b[39m Table\u001b[39m.\u001b[39mread(os\u001b[39m.\u001b[39mpath\u001b[39m.\u001b[39mjoin(path_data, \u001b[39m'\u001b[39m\u001b[39mgalaxies_nostring.csv\u001b[39m\u001b[39m'\u001b[39m), \u001b[39mformat\u001b[39m\u001b[39m=\u001b[39m\u001b[39m\"\u001b[39m\u001b[39mascii\u001b[39m\u001b[39m\"\u001b[39m) \n\u001b[1;32m      <a href='vscode-notebook-cell:/Users/amanda/Desktop/Paper/low-redshift-survey/spielwiese.ipynb#X43sZmlsZQ%3D%3D?line=1'>2</a>\u001b[0m thet\u001b[39m.\u001b[39madd_column([i \u001b[39mfor\u001b[39;00m i \u001b[39min\u001b[39;00m \u001b[39mrange\u001b[39m(\u001b[39m1\u001b[39m,\u001b[39m67\u001b[39m)], name\u001b[39m=\u001b[39m\u001b[39m'\u001b[39m\u001b[39mid\u001b[39m\u001b[39m'\u001b[39m, index\u001b[39m=\u001b[39m\u001b[39m0\u001b[39m)\n\u001b[0;32m----> <a href='vscode-notebook-cell:/Users/amanda/Desktop/Paper/low-redshift-survey/spielwiese.ipynb#X43sZmlsZQ%3D%3D?line=2'>3</a>\u001b[0m thet[\u001b[39m'\u001b[39;49m\u001b[39mf_\u001b[39;49m\u001b[39m{esc}\u001b[39;49;00m\u001b[39m'\u001b[39;49m][\u001b[39mid\u001b[39;49m]\n",
      "File \u001b[0;32mastropy/table/_column_mixins.pyx:79\u001b[0m, in \u001b[0;36mastropy.table._column_mixins._ColumnGetitemShim.__getitem__\u001b[0;34m()\u001b[0m\n",
      "File \u001b[0;32mastropy/table/_column_mixins.pyx:62\u001b[0m, in \u001b[0;36mastropy.table._column_mixins.base_getitem\u001b[0;34m()\u001b[0m\n",
      "File \u001b[0;32mastropy/table/_column_mixins.pyx:74\u001b[0m, in \u001b[0;36mastropy.table._column_mixins.column_getitem\u001b[0;34m()\u001b[0m\n",
      "\u001b[0;31mIndexError\u001b[0m: only integers, slices (`:`), ellipsis (`...`), numpy.newaxis (`None`) and integer or boolean arrays are valid indices"
     ]
    }
   ],
   "source": [
    "thet = Table.read(os.path.join(path_data, 'galaxies_nostring.csv'), format=\"ascii\") \n",
    "thet.add_column([i for i in range(1,67)], name='id', index=0)\n",
    "thet['f_{esc}'][id]"
   ]
  },
  {
   "cell_type": "code",
   "execution_count": 30,
   "metadata": {},
   "outputs": [
    {
     "data": {
      "text/html": [
       "&lt;Column name=&apos;AGE [Myr]&apos; dtype=&apos;float64&apos; length=66&gt;\n",
       "<table>\n",
       "<tr><td>0.00361</td></tr>\n",
       "<tr><td>0.00117</td></tr>\n",
       "<tr><td>0.0039700000000000004</td></tr>\n",
       "<tr><td>0.00379</td></tr>\n",
       "<tr><td>0.00632</td></tr>\n",
       "<tr><td>0.00319</td></tr>\n",
       "<tr><td>0.006849999999999999</td></tr>\n",
       "<tr><td>0.0052699999999999995</td></tr>\n",
       "<tr><td>0.00639</td></tr>\n",
       "<tr><td>0.0071200000000000005</td></tr>\n",
       "<tr><td>0.00735</td></tr>\n",
       "<tr><td>0.00639</td></tr>\n",
       "<tr><td>...</td></tr>\n",
       "<tr><td>0.0033599999999999997</td></tr>\n",
       "<tr><td>0.0030800000000000003</td></tr>\n",
       "<tr><td>0.0071200000000000005</td></tr>\n",
       "<tr><td>0.00333</td></tr>\n",
       "<tr><td>0.0030800000000000003</td></tr>\n",
       "<tr><td>0.00344</td></tr>\n",
       "<tr><td>0.00562</td></tr>\n",
       "<tr><td>0.005719999999999999</td></tr>\n",
       "<tr><td>0.00718</td></tr>\n",
       "<tr><td>0.00558</td></tr>\n",
       "<tr><td>0.0041600000000000005</td></tr>\n",
       "<tr><td>0.00522</td></tr>\n",
       "</table>"
      ],
      "text/plain": [
       "<Column name='AGE [Myr]' dtype='float64' length=66>\n",
       "              0.00361\n",
       "              0.00117\n",
       "0.0039700000000000004\n",
       "              0.00379\n",
       "              0.00632\n",
       "              0.00319\n",
       " 0.006849999999999999\n",
       "0.0052699999999999995\n",
       "              0.00639\n",
       "0.0071200000000000005\n",
       "              0.00735\n",
       "              0.00639\n",
       "                  ...\n",
       "0.0033599999999999997\n",
       "0.0030800000000000003\n",
       "0.0071200000000000005\n",
       "              0.00333\n",
       "0.0030800000000000003\n",
       "              0.00344\n",
       "              0.00562\n",
       " 0.005719999999999999\n",
       "              0.00718\n",
       "              0.00558\n",
       "0.0041600000000000005\n",
       "              0.00522"
      ]
     },
     "execution_count": 30,
     "metadata": {},
     "output_type": "execute_result"
    }
   ],
   "source": [
    "thet['AGE [Myr]']/1000"
   ]
  },
  {
   "cell_type": "code",
   "execution_count": 31,
   "metadata": {},
   "outputs": [
    {
     "data": {
      "text/html": [
       "<div><i>Table length=66</i>\n",
       "<table id=\"table140178130544784\" class=\"table-striped table-bordered table-condensed\">\n",
       "<thead><tr><th>id</th><th>OBJID</th><th>TYPE</th><th>REDSHIFT</th><th>AGE [Myr]</th><th>AGE_ERR</th><th>Z[Z_{odot}]</th><th>Z_ERR</th><th>f_{esc}</th><th>f_ERR_UPPER</th><th>f_ERR_LOWER</th><th>M_INT_1500[AB]</th><th>M_INT_1500_ERR</th><th>M_OBS_1500[AB]</th><th>M_OBS_1500_ERR</th></tr></thead>\n",
       "<thead><tr><th>int64</th><th>int64</th><th>int64</th><th>float64</th><th>float64</th><th>float64</th><th>float64</th><th>float64</th><th>float64</th><th>float64</th><th>float64</th><th>float64</th><th>float64</th><th>float64</th><th>float64</th></tr></thead>\n",
       "<tr><td>1</td><td>3307</td><td>0</td><td>0.3479</td><td>3.61</td><td>1.4</td><td>0.14</td><td>0.08</td><td>0.029</td><td>nan</td><td>nan</td><td>-18.64</td><td>0.37</td><td>-18.53</td><td>0.1</td></tr>\n",
       "<tr><td>2</td><td>15440</td><td>1</td><td>0.3535</td><td>1.17</td><td>1.12</td><td>0.24</td><td>0.09</td><td>0.013</td><td>0.021</td><td>-0.003</td><td>-21.9</td><td>0.45</td><td>-20.73</td><td>0.1</td></tr>\n",
       "<tr><td>3</td><td>223</td><td>1</td><td>0.3062</td><td>3.97</td><td>1.3</td><td>0.5</td><td>0.19</td><td>0.022</td><td>0.016</td><td>-0.012</td><td>-21.46</td><td>0.54</td><td>-20.27</td><td>0.12</td></tr>\n",
       "<tr><td>4</td><td>52044</td><td>1</td><td>0.3656</td><td>3.79</td><td>1.73</td><td>0.05</td><td>0.05</td><td>0.038</td><td>0.046</td><td>-0.016</td><td>-20.79</td><td>0.44</td><td>-20.14</td><td>0.1</td></tr>\n",
       "<tr><td>5</td><td>145935</td><td>0</td><td>0.28</td><td>6.32</td><td>1.26</td><td>0.2</td><td>0.12</td><td>0.007</td><td>nan</td><td>nan</td><td>-21.82</td><td>0.4</td><td>-20.44</td><td>0.09</td></tr>\n",
       "<tr><td>6</td><td>414608</td><td>0</td><td>0.2969</td><td>3.19</td><td>1.03</td><td>0.22</td><td>0.1</td><td>0.004</td><td>nan</td><td>nan</td><td>-21.51</td><td>0.37</td><td>-19.91</td><td>0.08</td></tr>\n",
       "<tr><td>7</td><td>472607</td><td>2</td><td>0.3565</td><td>6.85</td><td>1.93</td><td>0.1</td><td>0.11</td><td>0.584</td><td>0.416</td><td>-0.37</td><td>-19.0</td><td>0.64</td><td>-18.46</td><td>0.15</td></tr>\n",
       "<tr><td>8</td><td>414146</td><td>1</td><td>0.3331</td><td>5.27</td><td>0.85</td><td>0.08</td><td>0.05</td><td>0.02</td><td>0.012</td><td>-0.005</td><td>-21.11</td><td>0.23</td><td>-19.52</td><td>0.05</td></tr>\n",
       "<tr><td>9</td><td>211459</td><td>0</td><td>0.2272</td><td>6.39</td><td>0.75</td><td>0.23</td><td>0.06</td><td>0.007</td><td>nan</td><td>nan</td><td>-23.19</td><td>0.17</td><td>-20.93</td><td>0.04</td></tr>\n",
       "<tr><td>10</td><td>182052</td><td>0</td><td>0.2972</td><td>7.12</td><td>1.37</td><td>0.16</td><td>0.07</td><td>0.009</td><td>nan</td><td>nan</td><td>-20.79</td><td>0.54</td><td>-19.12</td><td>0.12</td></tr>\n",
       "<tr><td>...</td><td>...</td><td>...</td><td>...</td><td>...</td><td>...</td><td>...</td><td>...</td><td>...</td><td>...</td><td>...</td><td>...</td><td>...</td><td>...</td><td>...</td></tr>\n",
       "<tr><td>57</td><td>612115</td><td>1</td><td>0.2816</td><td>7.12</td><td>1.01</td><td>0.26</td><td>0.09</td><td>0.031</td><td>0.019</td><td>-0.014</td><td>-20.22</td><td>0.21</td><td>-19.01</td><td>0.04</td></tr>\n",
       "<tr><td>58</td><td>434435</td><td>2</td><td>0.3558</td><td>3.33</td><td>1.24</td><td>0.12</td><td>0.11</td><td>0.105</td><td>0.071</td><td>-0.07</td><td>-19.83</td><td>0.61</td><td>-19.19</td><td>0.14</td></tr>\n",
       "<tr><td>59</td><td>461937</td><td>1</td><td>0.3008</td><td>3.08</td><td>0.59</td><td>0.21</td><td>0.04</td><td>0.005</td><td>0.002</td><td>-0.002</td><td>-22.77</td><td>0.19</td><td>-21.18</td><td>0.04</td></tr>\n",
       "<tr><td>60</td><td>370512</td><td>1</td><td>0.3533</td><td>3.44</td><td>1.52</td><td>0.37</td><td>0.23</td><td>0.041</td><td>0.08</td><td>-0.023</td><td>-22.45</td><td>1.03</td><td>-20.46</td><td>0.27</td></tr>\n",
       "<tr><td>61</td><td>572442</td><td>0</td><td>0.2944</td><td>5.62</td><td>0.85</td><td>0.16</td><td>0.07</td><td>0.001</td><td>nan</td><td>nan</td><td>-23.18</td><td>0.22</td><td>-21.28</td><td>0.04</td></tr>\n",
       "<tr><td>62</td><td>403325</td><td>0</td><td>0.2268</td><td>5.72</td><td>0.47</td><td>0.33</td><td>0.09</td><td>0.025</td><td>nan</td><td>nan</td><td>-21.28</td><td>0.17</td><td>-20.11</td><td>0.03</td></tr>\n",
       "<tr><td>63</td><td>81959</td><td>0</td><td>0.3123</td><td>7.18</td><td>1.54</td><td>0.25</td><td>0.13</td><td>0.007</td><td>nan</td><td>nan</td><td>-21.54</td><td>0.74</td><td>-19.39</td><td>0.17</td></tr>\n",
       "<tr><td>64</td><td>313054</td><td>1</td><td>0.2906</td><td>5.58</td><td>1.02</td><td>0.38</td><td>0.1</td><td>0.023</td><td>0.01</td><td>-0.01</td><td>-20.98</td><td>0.26</td><td>-20.02</td><td>0.06</td></tr>\n",
       "<tr><td>65</td><td>495751</td><td>1</td><td>0.3819</td><td>4.16</td><td>1.28</td><td>0.1</td><td>0.13</td><td>0.026</td><td>0.051</td><td>-0.014</td><td>-21.25</td><td>0.86</td><td>-19.8</td><td>0.21</td></tr>\n",
       "<tr><td>66</td><td>542133</td><td>1</td><td>0.2938</td><td>5.22</td><td>1.11</td><td>0.21</td><td>0.08</td><td>0.031</td><td>0.026</td><td>-0.014</td><td>-20.12</td><td>0.31</td><td>-19.52</td><td>0.07</td></tr>\n",
       "</table></div>"
      ],
      "text/plain": [
       "<Table length=66>\n",
       "  id  OBJID   TYPE REDSHIFT ... M_INT_1500_ERR M_OBS_1500[AB] M_OBS_1500_ERR\n",
       "int64 int64  int64 float64  ...    float64        float64        float64    \n",
       "----- ------ ----- -------- ... -------------- -------------- --------------\n",
       "    1   3307     0   0.3479 ...           0.37         -18.53            0.1\n",
       "    2  15440     1   0.3535 ...           0.45         -20.73            0.1\n",
       "    3    223     1   0.3062 ...           0.54         -20.27           0.12\n",
       "    4  52044     1   0.3656 ...           0.44         -20.14            0.1\n",
       "    5 145935     0     0.28 ...            0.4         -20.44           0.09\n",
       "    6 414608     0   0.2969 ...           0.37         -19.91           0.08\n",
       "    7 472607     2   0.3565 ...           0.64         -18.46           0.15\n",
       "    8 414146     1   0.3331 ...           0.23         -19.52           0.05\n",
       "    9 211459     0   0.2272 ...           0.17         -20.93           0.04\n",
       "   10 182052     0   0.2972 ...           0.54         -19.12           0.12\n",
       "  ...    ...   ...      ... ...            ...            ...            ...\n",
       "   57 612115     1   0.2816 ...           0.21         -19.01           0.04\n",
       "   58 434435     2   0.3558 ...           0.61         -19.19           0.14\n",
       "   59 461937     1   0.3008 ...           0.19         -21.18           0.04\n",
       "   60 370512     1   0.3533 ...           1.03         -20.46           0.27\n",
       "   61 572442     0   0.2944 ...           0.22         -21.28           0.04\n",
       "   62 403325     0   0.2268 ...           0.17         -20.11           0.03\n",
       "   63  81959     0   0.3123 ...           0.74         -19.39           0.17\n",
       "   64 313054     1   0.2906 ...           0.26         -20.02           0.06\n",
       "   65 495751     1   0.3819 ...           0.86          -19.8           0.21\n",
       "   66 542133     1   0.2938 ...           0.31         -19.52           0.07"
      ]
     },
     "execution_count": 31,
     "metadata": {},
     "output_type": "execute_result"
    }
   ],
   "source": [
    "thet"
   ]
  },
  {
   "cell_type": "code",
   "execution_count": null,
   "metadata": {},
   "outputs": [],
   "source": []
  },
  {
   "cell_type": "code",
   "execution_count": 32,
   "metadata": {},
   "outputs": [],
   "source": [
    "\n",
    "def build_model(objid=1, thet=thet, fit_el=True, el_table=\"lzlcs_optlines_obs.csv\", phot_table='GP_Aperture_Matched_Photometry_v0.fits', sfh_template=\"continuity_sfh\", add_IGM_model=False, add_duste=False, add_agn=False, add_neb=False,\n",
    "                nbins_sfh=6, student_t_width=0.3, add_eline_scaling=False, **extras):\n",
    "    \"\"\"\n",
    "    Construct a model.\n",
    "    sfh_template : \"continuity_sfh\", \"dirichlet_sfh\", \"parametric_sfh\"\n",
    "\n",
    "    \"\"\"\n",
    "    from prospect.models.templates import TemplateLibrary, adjust_continuity_agebins, adjust_dirichlet_agebins\n",
    "    from prospect.models import priors\n",
    "    from prospect.models import transforms\n",
    "\n",
    "    # read in data table\n",
    "\n",
    "    obs = build_obs(objid=objid, el_table=el_table, phot_table=phot_table, **extras)\n",
    "    id = obs['cat_row']\n",
    "\n",
    "\n",
    "    # get SFH template\n",
    "\n",
    "    if (sfh_template == \"continuity_sfh\"):\n",
    "        model_params = TemplateLibrary[\"continuity_sfh\"]\n",
    "    elif (sfh_template == \"parametric_sfh\"):\n",
    "        model_params = TemplateLibrary[\"parametric_sfh\"]\n",
    "\n",
    "\n",
    "    # IMF: 0: Salpeter (1955); 1: Chabrier (2003); 2: Kroupa (2001)\n",
    "\n",
    "    model_params['imf_type']['init'] = 1\n",
    "\n",
    "\n",
    "    # fix redshift\n",
    "\n",
    "    model_params[\"zred\"][\"init\"] = obs['z_spec']\n",
    "    model_params[\"zred\"][\"is_free\"] = False\n",
    "    \n",
    "    # fix metalicity:\n",
    "\n",
    "    model_params[\"logzsol\"][\"init\"] = thet['Z[Z_{odot}]'][id]\n",
    "    model_params[\"logzsol\"][\"is_free\"] = False\n",
    "\n",
    "    # fix escape fraction:\n",
    "\n",
    "    model_params[\"frac_obrun\"] = {\"N\": 1,\n",
    "                                      \"isfree\": False,\n",
    "                                      \"init\":thet['f_{esc}'][id], \"units\": \"Fraction of H-ionizing photons that escapes or is dust absorbed.\"}\n",
    "\n",
    "    # fix age:\n",
    "\n",
    "    model_params['tage'] = {\"N\": 1, \"isfree\": False,\n",
    "                                    \"init\": thet['AGE [Myr]'][id]/1000, \"units\": \"Gyr\"}\n",
    "    \n",
    "\n",
    "    #model_params[\"frac_obrun\"][\"init\"] = \n",
    "    #model_params[\"frac_obrun\"][\"is_free\"] = False\n",
    "\n",
    "\n",
    "    # some functions \n",
    "\n",
    "    def zred_to_agebins(zred=model_params[\"zred\"][\"init\"], agebins=None, z_limit_sfh=10.0, nbins_sfh=6, **extras):\n",
    "        tuniv = cosmo.age(zred).value*1e9\n",
    "        tbinmax = tuniv-cosmo.age(z_limit_sfh).value*1e9\n",
    "        agelims = np.append(np.array([0.0, 6.7, 7.0]), np.linspace(7.0, np.log10(tbinmax), int(nbins_sfh-1))[1:])\n",
    "        agebins = np.array([agelims[:-1], agelims[1:]])\n",
    "        return agebins.T\n",
    "    \n",
    "    def logmass_to_masses(logmass=None, logsfr_ratios=None, zred=model_params[\"zred\"][\"init\"], nbins_sfh=6, z_limit_sfh=None, **extras):\n",
    "        agebins = zred_to_agebins(zred=zred, nbins_sfh=nbins_sfh)\n",
    "        logsfr_ratios = np.clip(logsfr_ratios, -10, 10)  # numerical issues...\n",
    "        nbins = agebins.shape[0]\n",
    "        sratios = 10**logsfr_ratios\n",
    "        dt = (10**agebins[:, 1]-10**agebins[:, 0])\n",
    "        coeffs = np.array([(1./np.prod(sratios[:i])) * (np.prod(dt[1:i+1]) / np.prod(dt[:i])) for i in range(nbins)])\n",
    "        m1 = (10**logmass) / coeffs.sum()\n",
    "        return m1 * coeffs\n",
    "\n",
    "    # in the case of continuity, allow scaling with redshift (others fixed redshift)\n",
    "    print('SFH template =', sfh_template)\n",
    "    print('redshift init =', model_params[\"zred\"][\"init\"])\n",
    "\n",
    "    if (sfh_template == \"continuity_sfh\"):\n",
    "        # adjust number of bins for SFH and prior\n",
    "        model_params['mass']['N'] = nbins_sfh\n",
    "        model_params['agebins']['N'] = nbins_sfh\n",
    "        model_params['logsfr_ratios']['N'] = nbins_sfh-1\n",
    "        model_params['logsfr_ratios']['init'] = np.full(nbins_sfh-1, 0.0)  # constant SFH\n",
    "        model_params['logsfr_ratios']['prior'] = priors.StudentT(mean=np.full(nbins_sfh-1, 0.0), scale=np.full(nbins_sfh-1, student_t_width), df=np.full(nbins_sfh-1, 2))\n",
    "        model_params['agebins']['depends_on'] = zred_to_agebins\n",
    "        # set mass prior\n",
    "        model_params[\"logmass\"][\"prior\"] = priors.TopHat(mini=6, maxi=12)\n",
    "        model_params['mass']['depends_on'] = logmass_to_masses\n",
    "\n",
    "    elif (sfh_template == \"parametric_sfh\"):\n",
    "        model_params[\"tau\"][\"prior\"] = priors.LogUniform(mini=1e-1, maxi=10)\n",
    "        model_params[\"tage\"][\"prior\"] = priors.TopHat(mini=1e-3, maxi=cosmo.age(model_params[\"zred\"][\"init\"]).value)\n",
    "        model_params[\"mass\"][\"prior\"] = priors.LogUniform(mini=1e6, maxi=1e12)\n",
    "\n",
    "\n",
    "    #complexify the dust\n",
    "    model_params['dust_type']['init'] = 4\n",
    "    model_params[\"dust2\"][\"prior\"] = priors.ClippedNormal(mini=0.0, maxi=4.0, mean=0.3, sigma=1)\n",
    "    model_params[\"dust_index\"] = {\"N\": 1,\n",
    "                                  \"isfree\": True,\n",
    "                                  \"init\": 0.0, \"units\": \"power-law multiplication of Calzetti\",\n",
    "                                  \"prior\": priors.TopHat(mini=-1.0, maxi=0.4)}\n",
    "\n",
    "    def to_dust1(dust1_fraction=None, dust1=None, dust2=None, **extras):\n",
    "        return(dust1_fraction*dust2)\n",
    "\n",
    "    model_params['dust1'] = {\"N\": 1,\n",
    "                             \"isfree\": False,\n",
    "                             'depends_on': to_dust1,\n",
    "                             \"init\": 0.0, \"units\": \"optical depth towards young stars\",\n",
    "                             \"prior\": None}\n",
    "    model_params['dust1_fraction'] = {'N': 1,\n",
    "                                      'isfree': True,\n",
    "                                      'init': 1.0,\n",
    "                                      'prior': priors.ClippedNormal(mini=0.0, maxi=2.0, mean=1.0, sigma=0.3)}\n",
    "\n",
    "    # fit for IGM absorption\n",
    "    if add_IGM_model:\n",
    "        model_params.update(TemplateLibrary[\"igm\"])\n",
    "        model_params[\"igm_factor\"]['isfree'] = True\n",
    "        model_params[\"igm_factor\"][\"prior\"] = priors.ClippedNormal(mean=1.0, sigma=0.3, mini=0.0, maxi=2.0)\n",
    "    else:\n",
    "        model_params.update(TemplateLibrary[\"igm\"])\n",
    "        model_params[\"igm_factor\"]['isfree'] = False\n",
    "\n",
    "    # Change the model parameter specifications based on some keyword arguments\n",
    "    if add_duste:\n",
    "        # Add dust emission (with fixed dust SED parameters)\n",
    "        model_params.update(TemplateLibrary[\"dust_emission\"])\n",
    "        model_params['duste_gamma']['isfree'] = True\n",
    "        model_params['duste_qpah']['isfree'] = True\n",
    "        model_params['duste_umin']['isfree'] = True\n",
    "\n",
    "    if add_agn:\n",
    "        # Add dust emission (with fixed dust SED parameters)\n",
    "        model_params.update(TemplateLibrary[\"agn\"])\n",
    "        model_params['fagn']['isfree'] = True\n",
    "        model_params['agn_tau']['isfree'] = True\n",
    "\n",
    "    if add_neb:\n",
    "        # Add nebular emission (with fixed parameters)\n",
    "        model_params.update(TemplateLibrary[\"nebular\"])\n",
    "        model_params['gas_logu']['isfree'] = True\n",
    "        model_params['gas_logz']['isfree'] = True\n",
    "        _ = model_params[\"gas_logz\"].pop(\"depends_on\")\n",
    "        #model_params[\"gas_logz\"][\"depends_on\"] = transforms.stellar_logzsol\n",
    "        # model_params['nebemlineinspec'] = {'N': 1,\n",
    "        #                                    'isfree': False,\n",
    "        #                                    'init': False}\n",
    "\n",
    "    if add_eline_scaling:\n",
    "        # Rescaling of emission lines\n",
    "        model_params[\"linespec_scaling\"] = {\"N\": 1,\n",
    "                                            \"isfree\": True,\n",
    "                                            \"init\": 1.0, \"units\": \"multiplative rescaling factor\",\n",
    "                                            \"prior\": priors.ClippedNormal(mean=1.0, sigma=0.3, mini=0.0, maxi=2.0)}\n",
    "    \n",
    "    # Now instantiate the model using this new dictionary of parameter specifications\n",
    "    if fit_el:\n",
    "        print(\"FITTING EL MODEL\")\n",
    "        model = LineSpecModel(model_params)\n",
    "    else:\n",
    "        model = SpecModel(model_params)\n",
    "\n",
    "    return model\n",
    "\n"
   ]
  },
  {
   "cell_type": "code",
   "execution_count": 33,
   "metadata": {},
   "outputs": [
    {
     "name": "stdout",
     "output_type": "stream",
     "text": [
      "GALAXIE: J003601+003307, ID: 1, PHOTOMETRY: GP_Aperture_Matched_Photometry_v0.fits, EMISSION_LINES: lzlcs_optlines_obs.csv\n",
      "SFH template = continuity_sfh\n",
      "redshift init = 0.3479409\n",
      "FITTING EL MODEL\n"
     ]
    },
    {
     "data": {
      "text/plain": [
       ":::::::\n",
       "<class 'prospect.models.sedmodel.LineSpecModel'>\n",
       "\n",
       "Free Parameters: (name: prior) \n",
       "-----------\n",
       "  logzsol: <class 'prospect.models.priors.TopHat'>(mini=-2,maxi=0.19)\n",
       "  dust2: <class 'prospect.models.priors.ClippedNormal'>(mean=0.3,sigma=1,mini=0.0,maxi=4.0)\n",
       "  logmass: <class 'prospect.models.priors.TopHat'>(mini=6,maxi=12)\n",
       "  logsfr_ratios: <class 'prospect.models.priors.StudentT'>(mean=[0. 0. 0. 0. 0.],scale=[0.3 0.3 0.3 0.3 0.3],df=[2 2 2 2 2])\n",
       "  dust_index: <class 'prospect.models.priors.TopHat'>(mini=-1.0,maxi=0.4)\n",
       "  dust1_fraction: <class 'prospect.models.priors.ClippedNormal'>(mean=1.0,sigma=0.3,mini=0.0,maxi=2.0)\n",
       "\n",
       "Fixed Parameters: (name: value [, depends_on]) \n",
       "-----------\n",
       "  zred: [0.3479409] \n",
       "  mass: [1000000.] <function build_model.<locals>.logmass_to_masses at 0x7f7dc3ad4dc0>\n",
       "  sfh: [3] \n",
       "  imf_type: [1] \n",
       "  dust_type: [4] \n",
       "  agebins: [[ 0.  8.]\n",
       " [ 8.  9.]\n",
       " [ 9. 10.]] <function build_model.<locals>.zred_to_agebins at 0x7f7dc3ad6560>\n",
       "  frac_obrun: [0.029] \n",
       "  tage: [0.00361] \n",
       "  dust1: [0.] <function build_model.<locals>.to_dust1 at 0x7f7dc3ad4e50>\n",
       "  add_igm_absorption: [ True] \n",
       "  igm_factor: [1.] "
      ]
     },
     "execution_count": 33,
     "metadata": {},
     "output_type": "execute_result"
    }
   ],
   "source": [
    "model = build_model()\n",
    "model"
   ]
  },
  {
   "cell_type": "code",
   "execution_count": 34,
   "metadata": {},
   "outputs": [
    {
     "data": {
      "text/plain": [
       "<bound method ProspectorParams.theta_labels of :::::::\n",
       "<class 'prospect.models.sedmodel.LineSpecModel'>\n",
       "\n",
       "Free Parameters: (name: prior) \n",
       "-----------\n",
       "  logzsol: <class 'prospect.models.priors.TopHat'>(mini=-2,maxi=0.19)\n",
       "  dust2: <class 'prospect.models.priors.ClippedNormal'>(mean=0.3,sigma=1,mini=0.0,maxi=4.0)\n",
       "  logmass: <class 'prospect.models.priors.TopHat'>(mini=6,maxi=12)\n",
       "  logsfr_ratios: <class 'prospect.models.priors.StudentT'>(mean=[0. 0. 0. 0. 0.],scale=[0.3 0.3 0.3 0.3 0.3],df=[2 2 2 2 2])\n",
       "  dust_index: <class 'prospect.models.priors.TopHat'>(mini=-1.0,maxi=0.4)\n",
       "  dust1_fraction: <class 'prospect.models.priors.ClippedNormal'>(mean=1.0,sigma=0.3,mini=0.0,maxi=2.0)\n",
       "\n",
       "Fixed Parameters: (name: value [, depends_on]) \n",
       "-----------\n",
       "  zred: [0.3479409] \n",
       "  mass: [1000000.] <function build_model.<locals>.logmass_to_masses at 0x7f7dc3ad4dc0>\n",
       "  sfh: [3] \n",
       "  imf_type: [1] \n",
       "  dust_type: [4] \n",
       "  agebins: [[ 0.  8.]\n",
       " [ 8.  9.]\n",
       " [ 9. 10.]] <function build_model.<locals>.zred_to_agebins at 0x7f7dc3ad6560>\n",
       "  frac_obrun: [0.029] \n",
       "  tage: [0.00361] \n",
       "  dust1: [0.] <function build_model.<locals>.to_dust1 at 0x7f7dc3ad4e50>\n",
       "  add_igm_absorption: [ True] \n",
       "  igm_factor: [1.] >"
      ]
     },
     "execution_count": 34,
     "metadata": {},
     "output_type": "execute_result"
    }
   ],
   "source": [
    "x = model.theta_labels\n",
    "x"
   ]
  },
  {
   "cell_type": "code",
   "execution_count": 35,
   "metadata": {},
   "outputs": [],
   "source": [
    "thetas = model.theta.copy()"
   ]
  },
  {
   "cell_type": "code",
   "execution_count": 36,
   "metadata": {},
   "outputs": [],
   "source": [
    "def build_sps(zcontinuous=1, sfh_template=\"continuity_sfh\", compute_vega_mags=False, **extras):\n",
    "    if (sfh_template == \"continuity_sfh\") or (sfh_template == \"dirichlet_sfh\"):\n",
    "        from prospect.sources import FastStepBasis\n",
    "        sps = FastStepBasis(zcontinuous=zcontinuous,\n",
    "                            compute_vega_mags=compute_vega_mags,\n",
    "                            reserved_params=['tage', 'sigma_smooth'])\n",
    "    else:\n",
    "        from prospect.sources import CSPSpecBasis\n",
    "        sps = CSPSpecBasis(zcontinuous=zcontinuous,\n",
    "                           compute_vega_mags=compute_vega_mags,\n",
    "                           reserved_params=['sigma_smooth'])\n",
    "    return sps"
   ]
  },
  {
   "cell_type": "code",
   "execution_count": 37,
   "metadata": {},
   "outputs": [
    {
     "name": "stdout",
     "output_type": "stream",
     "text": [
      "GALAXIE: J003601+003307, ID: 1, PHOTOMETRY: GP_Aperture_Matched_Photometry_v0.fits, EMISSION_LINES: lzlcs_optlines_obs.csv\n",
      "GALAXIE: J003601+003307, ID: 1, PHOTOMETRY: GP_Aperture_Matched_Photometry_v0.fits, EMISSION_LINES: lzlcs_optlines_obs.csv\n",
      "SFH template = continuity_sfh\n",
      "redshift init = 0.3479409\n",
      "FITTING EL MODEL\n"
     ]
    },
    {
     "ename": "NameError",
     "evalue": "name 'sps' is not defined",
     "output_type": "error",
     "traceback": [
      "\u001b[0;31m---------------------------------------------------------------------------\u001b[0m",
      "\u001b[0;31mNameError\u001b[0m                                 Traceback (most recent call last)",
      "\u001b[1;32m/Users/amanda/Desktop/Paper/low-redshift-survey/spielwiese.ipynb Cell 41\u001b[0m in \u001b[0;36m7\n\u001b[1;32m      <a href='vscode-notebook-cell:/Users/amanda/Desktop/Paper/low-redshift-survey/spielwiese.ipynb#X55sZmlsZQ%3D%3D?line=3'>4</a>\u001b[0m model \u001b[39m=\u001b[39m build_model(objid\u001b[39m=\u001b[39mi, fit_el\u001b[39m=\u001b[39m\u001b[39mTrue\u001b[39;00m)\n\u001b[1;32m      <a href='vscode-notebook-cell:/Users/amanda/Desktop/Paper/low-redshift-survey/spielwiese.ipynb#X55sZmlsZQ%3D%3D?line=4'>5</a>\u001b[0m thetas \u001b[39m=\u001b[39m model\u001b[39m.\u001b[39mtheta\u001b[39m.\u001b[39mcopy()\n\u001b[0;32m----> <a href='vscode-notebook-cell:/Users/amanda/Desktop/Paper/low-redshift-survey/spielwiese.ipynb#X55sZmlsZQ%3D%3D?line=6'>7</a>\u001b[0m spec, phot, _ \u001b[39m=\u001b[39m model\u001b[39m.\u001b[39mpredict(thetas, obs\u001b[39m=\u001b[39mobs, sps\u001b[39m=\u001b[39msps)\n\u001b[1;32m      <a href='vscode-notebook-cell:/Users/amanda/Desktop/Paper/low-redshift-survey/spielwiese.ipynb#X55sZmlsZQ%3D%3D?line=8'>9</a>\u001b[0m phot_unc \u001b[39m=\u001b[39m np\u001b[39m.\u001b[39mrandom\u001b[39m.\u001b[39mnormal(loc\u001b[39m=\u001b[39m\u001b[39m0.\u001b[39m, scale\u001b[39m=\u001b[39mnp\u001b[39m.\u001b[39mabs(obs[\u001b[39m'\u001b[39m\u001b[39mmaggies_unc\u001b[39m\u001b[39m'\u001b[39m]))\n\u001b[1;32m     <a href='vscode-notebook-cell:/Users/amanda/Desktop/Paper/low-redshift-survey/spielwiese.ipynb#X55sZmlsZQ%3D%3D?line=9'>10</a>\u001b[0m spec_unc \u001b[39m=\u001b[39m np\u001b[39m.\u001b[39mrandom\u001b[39m.\u001b[39mnormal(loc\u001b[39m=\u001b[39m\u001b[39m0.\u001b[39m, scale\u001b[39m=\u001b[39mnp\u001b[39m.\u001b[39mabs(obs[\u001b[39m'\u001b[39m\u001b[39munc\u001b[39m\u001b[39m'\u001b[39m]))\n",
      "\u001b[0;31mNameError\u001b[0m: name 'sps' is not defined"
     ]
    }
   ],
   "source": [
    "for i in range(1,67):\n",
    "    \n",
    "    obs=build_obs(objid=i)\n",
    "    model = build_model(objid=i, fit_el=True)\n",
    "    thetas = model.theta.copy()\n",
    "\n",
    "    spec, phot, _ = model.predict(thetas, obs=obs, sps=sps)\n",
    "    \n",
    "    phot_unc = np.random.normal(loc=0., scale=np.abs(obs['maggies_unc']))\n",
    "    spec_unc = np.random.normal(loc=0., scale=np.abs(obs['unc']))\n",
    "    \n",
    "    phot_final = phot + phot_unc\n",
    "    spec_final = spec + spec_unc\n",
    "    \n",
    "    phot_dat = Table([obs['filters'], obs['eff_wavelength'], phot_final, np.abs(phot_unc), obs['phot_mask']], \n",
    "                      names=['filters', 'eff_wavelength', 'phot', 'phot_unc', 'mask'])\n",
    "    spec_dat = Table([obs['wavelength'], spec_final, np.abs(spec_unc), obs['mask']], \n",
    "                      names=['wavelength', 'spectrum', 'spec_unc', 'mask'])\n",
    "    \n",
    "    phot_file =  phot_mock + 'mock_photometry_' + str(i) + '.dat' #'psd_grid_mocks/' + str(ind+1) + '/mock_photometry_' + str(i) + '.dat'\n",
    "    spec_file =  phot_mock + 'mock_spectrum_' + str(i) + '.dat' #'psd_grid_mocks/' + str(ind+1) + '/mock_spectrum_' + str(i) + '.dat'\n",
    "    #phot_file = 'mock_data_fixed_highz/mock_photometry_' + str(i) + '.dat'\n",
    "    #spec_file = 'mock_data_fixed_highz/mock_spectrum_' + str(i) + '.dat'\n",
    "    \n",
    "    phot_dat.write(phot_file, format='ascii', overwrite=True)\n",
    "    spec_dat.write(spec_file, format='ascii', overwrite=True)"
   ]
  },
  {
   "cell_type": "code",
   "execution_count": 38,
   "metadata": {},
   "outputs": [
    {
     "data": {
      "text/plain": [
       "FITS_rec([( 1, 'J003601+003307',   9.0026448, 5.5201371e-01, 0.3479409, 1,  22.14546  ,  1.45764533e-01, 21.8330574, 0.12754144, 21.80631, 0.11788313, 21.68926, 0.05162214, 20.87918, 0.03594949, 21.94525, 0.12327731, 20.36342, 0.10237351, 21.9752, 0.14799092, 21.7414, 0.13553535, 21.84409, 0.1099972 , 21.71517, 0.04948539, 20.91953, 0.03586105, 21.96557, 0.1171703 , 20.37274, 0.1119778 , 22.94215504, 0.24090529, 22.37951962, 0.11706218,  22.05328862,  1.18646099e-01, 20.93871609, 0.06550245, 19.90560833, 3.49407003e-02, 19.73866383, 5.83357964e-02, 19.1679279 , 0.0672808 , 22.60412396, 0.21564519, 22.22767438, 0.09821946,  21.95356549,  1.16516394e-01, 20.84293355, 4.71949295e-02, 19.8010825 , 2.49730782e-02, 19.64581097, 4.21448772e-02, 19.07253255, 0.04849353, 22.32407803, 0.18167913, 22.01042408, 0.08380543,  21.87155384,  1.28528212e-01, 20.75062222, 3.76840401e-02, 19.69793743, 1.97424341e-02, 19.55271954, 3.36275221e-02, 18.97707981, 3.86090711e-02, 22.14149647, 0.16332669, 21.86313419, 0.07683441, 21.83663349, 1.36579605e-01, 20.6773222 , 3.23824481e-02, 19.61352329, 1.67921873e-02, 19.47566776, 2.87969430e-02,  18.89519863,  3.29161559e-02, 21.72681427, 21.60044479,  21.01555634, 20.40077591, 19.32988167, 19.08928871,  18.45690727, 21.76634407, 21.63316154,  21.10342979, 20.4427433 , 19.36470413, 19.16318512,  18.55680084, 21.85706329, 21.66175079,  21.81011581, 20.51071739, 19.42567635, 19.30763626, 18.67918396, 21.94400406, 21.73152924,  21.89233971, 20.57694054, 19.48276138, 19.37970543, 18.77088928, 0.15899006, 0.07536538,  8.62513222e-02, 2.30900846e-02, 1.18955624e-02, 1.85579126e-02,  2.02221313e-02, 0.15899006, 0.07536538,  9.35222927e-02, 2.40000684e-02, 1.22832691e-02, 1.98649597e-02,  2.21709526e-02, 0.15899006, 0.07536538,  1.38818839e-01, 2.55506596e-02, 1.29928029e-02, 2.26917581e-02, 2.48163326e-02, 0.15899006, 0.07536538,  1.37464821e-01, 2.71575992e-02, 1.36942063e-02, 2.42491105e-02, 2.70034796e-02, 1.),\n",
       "          ( 2, 'J004743+015440',  11.928487 , 1.9110854e+00, 0.3534895, 0,  20.4362316,  2.06893146e-01, 20.57464  , 0.17889783, 20.26166, 0.05432796, 20.21009, 0.0195398 , 19.95736, 0.02130315, 20.25988, 0.03695943, 19.87648, 0.09033939, 20.2272, 0.09789558, 20.3261, 0.10104808, 20.32397, 0.05927967, 20.27719, 0.03110221, 20.03322, 0.02233895, 20.35181, 0.03861276, 19.91821, 0.08625161, 20.2586414 , 0.12113256, 20.39729992, 0.07712151,  20.2084438 ,  5.09513697e-02, 20.17634503, 0.01297307, 19.87605778, 1.61688361e-02, 20.20853726, 3.54949234e-02, 19.956628  , 0.09165706, 20.27721585, 0.11062294, 20.40341748, 0.06978716,  20.20376385,  5.76891203e-02, 20.180313  , 1.34439643e-02, 19.874586  , 1.72746989e-02, 20.20450009, 3.89239305e-02, 19.98621167, 0.08997717, 20.30870098, 0.10661288, 20.37149471, 0.06555884,  20.19679493,  6.73032839e-02, 20.18277782, 1.50870396e-02, 19.86960262, 2.20581460e-02, 20.19748348, 4.79673979e-02, 20.02035564, 9.04024637e-02, 20.32808857, 0.10455349, 20.35244541, 0.06371481, 20.19212322, 7.07525355e-02, 20.19144802, 1.73338556e-02, 19.86889057, 2.46935197e-02, 20.19450931, 5.35829300e-02,  20.07802944,  9.08597175e-02, 20.37232971, 20.38253975,  20.17864037, 20.24067879, 19.87974548, 20.21644211,  19.78268814, 20.38371277, 20.40196037,  20.21598244, 20.24375534, 19.90019226, 20.24194717,  19.87341118, 20.40691566, 20.43473244,  20.2597065 , 20.26250458, 19.92904472, 20.25343323, 19.98900032, 20.42617798, 20.45903206,  20.2884388 , 20.28336525, 19.95362663, 20.28453636, 20.13456535, 0.10455349, 0.06371481,  6.42810889e-02, 1.99643204e-02, 2.29434816e-02, 5.02960565e-02,  1.41974867e-01, 0.10455349, 0.06371481,  6.65303876e-02, 2.00209717e-02, 2.33796515e-02, 5.14915495e-02,  1.54347886e-01, 0.10455349, 0.06371481,  6.92643364e-02, 1.85916631e-02, 2.40092734e-02, 5.20391726e-02, 1.51290607e-01, 0.10456831, 0.06371481,  7.11217768e-02, 1.72728784e-02, 2.45590623e-02, 5.35514995e-02, 9.15740727e-02, 1.),\n",
       "          ( 3, 'J011309+000223',  18.286904 , 3.9840819e-02, 0.3061555, 0,  20.3865147,  2.24930679e-01, 20.6680031, 0.21640777, 20.54317, 0.05359218, 20.49222, 0.02260158, 20.07374, 0.02083486, 20.43499, 0.03391762, 19.89917, 0.08642605, 20.3467, 0.06846664, 20.4854, 0.07029315, 20.62157, 0.05024502, 20.63136, 0.0401461 , 20.24089, 0.02719806, 20.61831, 0.03703081, 19.90592, 0.0781774 , 20.25893895, 0.07612224, 20.57858006, 0.03845286,  20.95564953,  4.26229338e-02, 20.34615437, 0.01454055, 19.99285809, 1.47578774e-02, 20.42724148, 3.20597777e-02, 20.22906796, 0.36001479, 20.33826627, 0.07268796, 20.57738675, 0.03651882,  21.02434148,  4.10233829e-02, 20.34005345, 1.51601436e-02, 19.97604169, 1.64625509e-02, 20.42095364, 3.31573156e-02, 20.18613995, 0.2723328 , 20.3773045 , 0.07130247, 20.58076328, 0.03577067,  21.11558384,  4.06252760e-02, 20.33052105, 1.77550761e-02, 19.95504803, 2.56061740e-02, 20.41697926, 4.12959975e-02, 20.12098354, 2.04260049e-01, 20.40154247, 0.07070145, 20.59459286, 0.03542293, 21.25074177, 4.09057241e-02, 20.3266943 , 2.31984262e-02, 19.9403017 , 2.45904698e-02, 20.4266489 , 5.40188259e-02,  20.03935985,  9.35602186e-02, 20.45950127, 20.64481544,  21.55924606, 20.35553169, 19.98574257, 20.47165108,  20.00212479, 20.46598434, 20.65412712,  21.48283577, 20.36965179, 19.9911499 , 20.47237778,  20.02582169, 20.47780228, 20.67374039,  21.40704155, 20.38587952, 20.00109291, 20.47236443, 20.06489944, 20.49395752, 20.69224358,  21.36106491, 20.41447258, 20.02892876, 20.49325943, 20.11512184, 0.07070145, 0.03542293,  4.27121189e-02, 2.19143120e-02, 2.35872620e-02, 5.17941095e-02,  8.31632705e-02, 0.07070145, 0.03542293,  4.20151718e-02, 2.22011710e-02, 2.37050276e-02, 5.18287877e-02,  8.49983157e-02, 0.07070145, 0.03542293,  4.13864103e-02, 2.25354882e-02, 2.39231117e-02, 5.18281503e-02, 8.81132912e-02, 0.07070145, 0.03542575,  4.10426082e-02, 2.31368481e-02, 2.45443766e-02, 5.28352433e-02, 9.22848439e-02, 1.),\n",
       "          ( 4, 'J012217+052044',  20.569428 , 5.3455634e+00, 0.3655942, 0,  20.3326817,  2.61170245e-01, 21.19634  , 0.30342502, 21.36416, 0.12808307, 21.07919, 0.03764217, 20.82952, 0.04945267, 21.00826, 0.08848163, 20.46668, 0.17654699, 21.0958, 0.08798396, 21.1506, 0.08939131, 21.34503, 0.1186321 , 21.08652, 0.04096692, 20.83544, 0.04892155, 21.0147 , 0.08607964, 20.45323, 0.1732077 , 21.00117413, 0.10265873, 21.30908505, 0.06356134,  21.49606434,  1.52083668e-01, 21.10334889, 0.03179165, 20.81027333, 4.61468388e-02, 21.27055661, 8.90685091e-02, 20.48815838, 0.20860023, 21.05379285, 0.09555704, 21.29117574, 0.0574502 ,  21.51948155,  1.42429523e-01, 21.12114896, 3.20595879e-02, 20.8179511 , 4.96046874e-02, 21.35070599, 8.59915076e-02, 20.450323  , 0.21543759, 21.11171574, 0.09315496, 21.25890202, 0.0542124 ,  21.52121204,  1.37904974e-01, 21.13490147, 3.40614901e-02, 20.82097668, 5.62130417e-02, 21.4503941 , 8.53081256e-02, 20.37090534, 2.77068026e-01, 21.15527134, 0.09206007, 21.25169163, 0.05262298, 21.50298481, 2.10522016e-01, 21.14766865, 3.71014887e-02, 20.8251112 , 6.36840948e-02, 21.57093601, 8.56743267e-02,  20.25238018,  2.03715984e-01, 21.25460625, 21.24482155,  21.07143021, 21.18281174, 20.71815681, 21.15034866,  20.15395164, 21.27802849, 21.31141663,  21.19763565, 21.29369354, 20.80370903, 21.33260345,  20.30308914, 21.34171677, 21.49454308,  21.74726295, 21.36081696, 21.01397133, 21.56849098, 20.4403801 , 21.39811897, 21.63185692,  21.8637886 , 21.45021629, 21.13826561, 21.69398499, 20.73669624, 0.09227229, 0.0523641 ,  1.31271139e-01, 4.36573957e-02, 5.30864381e-02, 1.16701475e-01,  1.71154393e-01, 0.09281013, 0.0523641 ,  1.47452259e-01, 3.46943801e-02, 5.74386829e-02, 8.67528916e-02,  1.96355491e-01, 0.09429281, 0.05509198,  1.39138763e-01, 3.31677347e-02, 5.52159014e-02, 8.46698495e-02, 2.22822700e-01, 0.09586101, 0.05757981,  1.42779077e-01, 3.20968167e-02, 4.99603220e-02, 8.61247587e-02, 3.28177921e-01, 1.),\n",
       "          ( 5, 'J012910+145935',  22.2923   , 1.4992967e+01, 0.2800319, 0,  20.1119652,  1.98686925e-01, 20.19063  , 0.1481275 , 20.08755, 0.04184831, 19.89062, 0.01735807, 19.51662, 0.01681749, 19.90309, 0.03145855, 19.38788, 0.06501923, 20.1568, 0.18706347, 20.3244, 0.19983485, 20.23521, 0.04100733, 20.06079, 0.0229262 , 19.69285, 0.02061064, 20.11866, 0.04459197, 19.54799, 0.06478066, 20.16031949, 0.23679337, 20.42065541, 0.05285706,  20.0915157 ,  6.33362940e-02, 19.86807171, 0.02582734, 19.55372159, 2.70195488e-02, 19.71520344, 5.43079225e-02, 19.36126439, 0.07838633, 20.1425723 , 0.21191458, 20.40932072, 0.04842142,  20.07945813,  4.92924523e-02, 19.86954106, 2.03525229e-02, 19.56698598, 2.22469017e-02, 19.70723141, 4.24253255e-02, 19.37039555, 0.06220762, 20.09462589, 0.19614557, 20.38196987, 0.04626369,  20.06305546,  4.22090915e-02, 19.86764378, 1.76622483e-02, 19.5761475 , 1.95038700e-02, 19.69841999, 3.65836692e-02, 19.38189167, 5.46548460e-02, 20.0736845 , 0.19223851, 20.36418323, 0.04554907, 20.05048542, 3.83574933e-02, 19.86796741, 1.62423054e-02, 19.58488445, 1.80753953e-02, 19.69717007, 3.35938301e-02,  19.4022768 ,  5.11982312e-02, 20.10978889, 20.39230728,  20.07541466, 19.91701126, 19.60570908, 19.78784561,  19.65662766, 20.12433052, 20.41332436,  20.09890366, 19.92518997, 19.63280487, 19.75468445,  19.4799881 , 20.15538406, 20.44761467,  20.13154602, 19.95153809, 19.6617794 , 19.77515984, 19.49507332, 20.18013954, 20.47181129,  20.15766525, 19.97322083, 19.6872921 , 19.80137253, 19.51164055, 0.19223851, 0.04554907,  3.61040792e-02, 1.56314609e-02, 1.69493096e-02, 3.35941842e-02,  5.95291468e-02, 0.19223851, 0.04554907,  3.68936712e-02, 1.57496553e-02, 1.73776214e-02, 3.25836426e-02,  5.05910665e-02, 0.19223851, 0.04554907,  3.80197116e-02, 1.61365356e-02, 1.78476131e-02, 3.32039529e-02, 5.12988847e-02, 0.19223851, 0.04554907,  3.89454307e-02, 1.64620302e-02, 1.82719636e-02, 3.40153439e-02, 5.20876561e-02, 0.),\n",
       "          ( 6, 'J072326+414608', 110.85666  , 4.1768832e+01, 0.2968978, 1,  20.4963989,  1.69044991e-01, 20.844986 , 0.14684651, 20.86759, 0.07662202, 20.64152, 0.02740461, 20.05928, 0.02156916, 20.68024, 0.04647454, 20.14559, 0.12095943, 20.5281, 0.16221187, 20.8989, 0.18746578, 20.90183, 0.07278147, 20.67961, 0.02877386, 20.11093, 0.02419887, 20.74839, 0.04849164, 20.20068, 0.1209511 , 20.55029789, 0.20667876, 21.032365  , 0.13776459,  21.03617779,  7.33050231e-02, 20.54307095, 0.02253033, 20.06886593, 1.54850494e-02, 20.432645  , 4.67863396e-02, 19.63520733, 0.14043278, 20.53477467, 0.18478582, 21.04547299, 0.12431411,  21.07567967,  7.15504106e-02, 20.54134549, 2.37296637e-02, 20.08577145, 1.60452719e-02, 20.40289296, 6.04103438e-02, 19.61612309, 0.13766628, 20.52676624, 0.17415279, 20.967812  , 0.11314978,  21.12051243,  7.19980503e-02, 20.53158611, 2.68315251e-02, 20.09398693, 1.81838605e-02, 20.35820049, 6.07628790e-02, 19.60353893, 1.35171151e-01, 20.52178364, 0.17304516, 20.92934398, 0.10728583, 21.17779903, 7.24619072e-02, 20.52132015, 2.67741736e-02, 20.10154705, 2.12301761e-02, 20.30877666, 5.33753875e-02,  19.61771564,  1.35522335e-01, 20.50483131, 20.89745522,  21.22667503, 20.47555161, 20.06896782, 20.03163338,  19.60644341, 20.60927391, 20.8613205 ,  21.26977348, 20.58066368, 20.17396736, 20.36107826,  19.69643784, 20.64641762, 20.95263481,  21.31066513, 20.63427544, 20.21717262, 20.44003487, 19.73504639, 20.68185425, 21.13451767,  21.28156281, 20.69478798, 20.25892258, 20.51777649, 19.76573563, 0.17304516, 0.1064612 ,  7.33444436e-02, 2.36125568e-02, 2.47757999e-02, 3.80380360e-02,  1.33130389e-01, 0.17304516, 0.1064612 ,  7.24402373e-02, 2.60128446e-02, 2.22385881e-02, 5.15223946e-02,  1.36062428e-01, 0.17304516, 0.1064612 ,  7.19146543e-02, 2.73295542e-02, 2.00882227e-02, 5.54087919e-02, 1.35011107e-01, 0.17304516, 0.11244582,  7.22596527e-02, 2.79892414e-02, 1.86515857e-02, 5.95217005e-02, 1.35004030e-01, 1.),\n",
       "          ( 7, 'J080425+472607', 121.10461  , 4.7435176e+01, 0.3565302, 0,  22.0695076,  2.90145804e-01, 22.5798531, 0.23228865, 22.20974, 0.31693387, 22.35411, 0.155914  , 21.63163, 0.12661832, 22.57639, 0.41241425, 22.79293, 1.17470517, 22.2461, 0.12962945, 22.6825, 0.15268685, 22.53812, 0.2875326 , 22.65636, 0.1398717 , 22.0906 , 0.1256827 , 22.99514, 0.3809346 , 22.52986, 0.735534  , 22.16581837, 0.15768426, 22.77713505, 0.12503355,  22.20059315,  5.72699621e-01, 22.62337224, 0.15591905, 21.89837758, 1.32701907e-01, 22.03277699, 3.17849332e-01, 21.85662953, 0.42473268, 22.11823453, 0.13939054, 22.74975957, 0.11075623,  22.13179959,  4.45746130e-01, 22.59444417, 2.55318409e-01, 21.93140401, 1.27656526e-01, 21.96763028, 2.79123783e-01, 22.18805493, 0.45356198, 22.11987156, 0.13183486, 22.7616219 , 0.10498471,  22.04109997,  3.56446521e-01, 22.56867832, 2.01500356e-01, 21.96824879, 1.83069924e-01, 21.88217396, 2.24285378e-01, 22.91076321, 7.67196487e-01, 22.13104801, 0.12822168, 22.86454563, 0.10545068, 21.93722896, 2.97795553e-01, 22.55807476, 1.68300908e-01, 22.01158886, 1.75156097e-01, 21.78427105, 1.88413504e-01, -99.        , -9.90000000e+01, 22.39723015, 23.15750313,  22.94952202, 22.94207382, 21.76659775, 21.65416908, -99.        , 22.54663086, 23.15017128,  22.83821106, 22.98128891, 21.98829079, 21.86852455, -99.        , 22.94276428, 23.54059792,  22.93118477, 23.29203033, 22.53835487, 22.59687805, 22.33204079, 23.33337021, 23.98710823,  23.37189674, 23.76934814, 22.97258186, 23.21437073, 22.76872826, 0.13650763, 0.11407604,  5.87107384e-01, 2.58539693e-01, 1.44158853e-01, 1.53746628e-01, -9.90000000e+01, 0.14463338, 0.11373476,  5.29899072e-01, 1.53367622e-01, 1.76814768e-01, 1.87304317e-01, -9.90000000e+01, 0.16994911, 0.13481601,  5.77274858e-01, 1.57718171e-01, 1.34171491e-01, 3.13208555e-01, 3.80736249e-01, 0.19864756, 0.16339379,  4.98984165e-01, 1.73677088e-01, 1.50696310e-01, 3.97013801e-01, 5.69244986e-01, 0.),\n",
       "          ( 8, 'J081112+414146', 122.80017  , 4.1696090e+01, 0.3331381, 0, -99.       , -9.90000000e+01, 21.6456261, 0.10566432, 21.15015, 0.09279913, 21.16848, 0.03429515, 20.13094, 0.02300927, 21.54091, 0.10065606, 20.6227 , 0.17241045, 21.5686, 0.27158432, 21.3959, 0.25365877, 21.15589, 0.08553888, 21.21567, 0.03635254, 20.16563, 0.02322882, 21.59663, 0.09544877, 20.63045, 0.1636892 , 21.43615071, 0.32628037, 21.5224754 , 0.07737503,  21.38753048,  8.96436664e-02, 21.1565086 , 0.02798977, 20.14961545, 1.72690007e-02, 21.42014042, 9.63747006e-02, 20.31135479, 0.22139615, 21.63126172, 0.31687558, 21.50205029, 0.0695051 ,  21.44664944,  8.75071741e-02, 21.17807759, 2.78007794e-02, 20.16740788, 1.74868922e-02, 21.39098347, 9.97515372e-02, 20.28144635, 0.3166476 , 21.77627987, 0.31587408, 21.50750584, 0.06627839,  21.51726955,  8.74653666e-02, 21.19781918, 2.89499211e-02, 20.18274731, 1.95115867e-02, 21.33462948, 1.01597696e-01, 20.24414867, 2.65976814e-01, 21.86081676, 0.31491163, 21.50147037, 0.06544671, 21.60565929, 8.74774713e-02, 21.22262745, 3.07022895e-02, 20.20500355, 2.31691575e-02, 21.24898891, 8.63177009e-02,  20.22094898,  2.39351488e-01, 21.82852554, 21.60125351,  21.38017845, 21.12195778, 20.02890968, 20.61063194,  19.9465847 , 21.89328194, 21.57095528,  21.57466888, 21.15865517, 20.08268356, 20.55780983,  19.90623856, 21.94387817, 21.60222626,  21.576231  , 21.2303772 , 20.15239525, 20.72446442, 20.0308342 , 21.95823479, 21.67016602,  21.66386032, 21.36007881, 20.34123421, 21.44469833, 20.33358574, 0.31184785, 0.06544671,  1.08358097e-01, 4.11352934e-02, 2.61248241e-02, 4.41053665e-02,  1.71011288e-01, 0.31184785, 0.06544671,  8.92910114e-02, 4.25494111e-02, 2.74513007e-02, 4.20109585e-02,  1.64773103e-01, 0.31384343, 0.06544671,  8.92456617e-02, 3.95229682e-02, 2.92716768e-02, 4.89806366e-02, 1.84809621e-01, 0.31587001, 0.06583885,  8.76907981e-02, 2.93259382e-02, 2.04724319e-02, 9.50863095e-02, 2.44244726e-01, 1.),\n",
       "          ( 9, 'J081409+211459', 123.53649  , 2.1249781e+01, 0.2271773, 1,  19.12053  ,  1.28041708e-01, 19.2632427, 0.08847468, 18.89143, 0.0252092 , 18.51378, 0.00822648, 18.25366, 0.00834798, 18.19993, 0.01033432, 18.32418, 0.0311383 , 19.3072, 0.14465128, 19.1019, 0.13394977, 19.32932, 0.02996045, 19.0016 , 0.01906676, 18.81735, 0.01402534, 18.79492, 0.01823409, 18.94204, 0.03651993, 21.55988804, 0.28724169, 17.8321449 , 0.0712546 ,  15.47106854,  5.83282584e-04, 14.41991154, 0.00016307, 14.21883599, 6.15423639e-05, 14.18784062, 1.57334099e-04, 14.22333066, 0.00057393, 21.49148167, 0.28724169, 17.80431927, 0.0712546 ,  15.48191155,  4.63625185e-04, 14.42919911, 1.29430912e-04, 14.22994508, 4.89292562e-05, 14.19686879, 1.24848960e-04, 14.23211659, 0.00045533, 21.57745594, 0.28724169, 17.7680859 , 0.0712546 ,  15.48832077,  4.05431375e-04, 14.43411964, 1.13029777e-04, 14.23602814, 4.27748492e-05, 14.20101398, 1.08950607e-04, 14.23570198, 3.97139316e-04, 21.63816624, 0.28724169, 17.7244051 , 0.0712546 , 15.49684315, 3.75663097e-04, 14.44141369, 1.04612292e-04, 14.24481468, 3.96438052e-05, 14.20808487, 1.00816180e-04,  14.24288921,  3.67527639e-04, 18.97498322, 17.18412399,  15.42155933, 14.37683582, 14.18367863, 14.13274002,  14.16690826, 18.99175453, 17.1938343 ,  15.42185402, 14.37725258, 14.18416786, 14.1334219 ,  14.16731548, 19.01021957, 17.20432091,  15.42153645, 14.37787247, 14.18479443, 14.13445377, 14.16772747, 19.02269554, 17.21646118,  15.42129517, 14.37850952, 14.18539906, 14.13537312, 14.16890526, 0.1518447 , 0.0712546 ,  3.22418067e-04, 9.06746594e-05, 3.44711103e-05, 8.65220218e-05,  3.15233225e-04, 0.1518447 , 0.0712546 ,  3.22505587e-04, 9.07094712e-05, 3.44866465e-05, 8.65763775e-05,  3.15351479e-04, 0.1518447 , 0.0712546 ,  3.22411270e-04, 9.07612755e-05, 3.45065540e-05, 8.66586981e-05, 3.15471164e-04, 0.1518447 , 0.0712546 ,  3.22339630e-04, 9.08145452e-05, 3.45257756e-05, 8.67321071e-05, 3.15813567e-04, 0.),\n",
       "          (10, 'J082652+182052', 126.71586  , 1.8347729e+01, 0.2972388, 1,  21.0305367,  3.67366450e-01, 21.1803741, 0.31123258, 21.33485, 0.10892383, 21.06044, 0.03734556, 20.35682, 0.02710888, 21.14502, 0.07590083, 20.3027 , 0.15020241, 21.5466, 0.32938795, 21.2476, 0.29301814, 21.38132, 0.1061626 , 21.06562, 0.0407449 , 20.3845 , 0.02880186, 21.15683, 0.07476243, 20.26544, 0.1452489 , 21.65884129, 0.4299886 , 21.12006299, 0.23775737,  21.08586232,  7.27501541e-02, 21.16734234, 0.06883727, 20.45465581, 3.46226245e-02, 21.1421806 , 2.03580564e-01, 20.34100834, 0.10568697, 21.55479039, 0.3770135 , 21.06827534, 0.20836438,  21.04972829,  5.61533905e-02, 21.19497479, 5.55683374e-02, 20.48558415, 2.80338102e-02, 21.12993039, 1.58411620e-01, 20.32034863, 0.08160342, 21.54948467, 0.35570264, 20.96409267, 0.18841163,  21.00046009,  4.71119249e-02, 21.22229809, 4.95385591e-02, 20.51424831, 2.50227157e-02, 21.09798664, 1.33719943e-01, 20.2768597 , 6.81552690e-02, 21.48161487, 0.35522007, 20.91179256, 0.1847261 , 20.9472311 , 4.15422451e-02, 21.25526218, 4.69462857e-02, 20.54491024, 2.36630892e-02, 21.04960041, 1.17574711e-01,  20.21671657,  5.92808490e-02, 21.77660561, 21.16685677,  21.15450478, 21.39400864, 20.68022156, 21.26378632,  20.31952858, 21.79335403, 21.21196175,  21.20323753, 21.4202404 , 20.70591354, 21.3079586 ,  20.36964607, 21.8243351 , 21.28925323,  21.25800323, 21.45373154, 20.73578072, 21.35480499, 20.44309425, 21.82976341, 21.41263962,  21.33424377, 21.4860096 , 20.75044632, 21.35943985, 20.53579712, 0.36175318, 0.1899913 ,  4.59792525e-02, 4.90720474e-02, 2.46564375e-02, 1.31741512e-01,  5.99478450e-02, 0.3640104 , 0.19342217,  4.79732561e-02, 5.02720835e-02, 2.52468455e-02, 1.37211830e-01,  6.27798933e-02, 0.36820408, 0.19932306,  5.03188988e-02, 5.18469649e-02, 2.59509937e-02, 1.43261704e-01, 6.71737889e-02, 0.36894141, 0.2092322 ,  5.37789626e-02, 5.34114739e-02, 2.63039053e-02, 1.43874576e-01, 7.31612289e-02, 1.),\n",
       "          (11, 'J083440+480541', 128.6669   , 4.8094697e+01, 0.3425743, 0,  20.8303986,  2.69071700e-01, 20.8393669, 0.28839142, 20.59588, 0.06023503, 20.3096 , 0.02432164, 19.60336, 0.01637198, 20.66537, 0.04914871, 19.52119, 0.06384917, 20.9213, 0.25697165, 21.0719, 0.27273242, 20.64395, 0.06024672, 20.33897, 0.03072196, 19.64819, 0.02514932, 20.73483, 0.05028141, 19.53994, 0.06365792, 21.00767438, 0.33567238, 21.19058148, 0.23595797,  20.71686474,  6.48250223e-02, 20.32315365, 0.02038259, 19.5740234 , 1.20686768e-02, 20.45059315, 4.70598174e-02, 19.19389264, 0.06556534, 20.87678899, 0.28799247, 21.10936345, 0.20261318,  20.73364819,  6.41354413e-02, 20.32804288, 2.04995771e-02, 19.57720937, 1.26203959e-02, 20.43025578, 6.15800691e-02, 19.15304936, 0.07207529, 20.74115032, 0.27047027, 20.96249432, 0.18094046,  20.74567455,  6.44345843e-02, 20.32706303, 2.22557633e-02, 19.57699245, 1.46972524e-02, 20.40678829, 5.74051062e-02, 19.10177464, 6.14742855e-02, 20.73103313, 0.27047027, 20.86897831, 0.17684946, 20.75645809, 6.49404688e-02, 20.32486133, 2.04189802e-02, 19.5795515 , 1.54578838e-02, 20.39016895, 5.19726688e-02,  19.04838543,  5.38034391e-02, 20.81349945, 20.6568737 ,  20.79636765, 20.2781868 , 19.55106544, 20.42228889,  19.01750374, 20.82263184, 20.7314415 ,  20.82086563, 20.30583   , 19.57683563, 20.43722725,  19.03978729, 20.84575081, 20.87857819,  20.84465408, 20.39301872, 19.64047623, 20.44212151, 19.10802841, 20.86425972, 20.99439812,  20.8699379 , 20.43234825, 19.68567085, 20.49195671, 19.17698288, 0.27047027, 0.17684946,  6.56482784e-02, 1.79927933e-02, 1.38512821e-02, 4.92444572e-02,  4.81051663e-02, 0.27047027, 0.17684946,  6.52398166e-02, 1.84567774e-02, 1.41839780e-02, 4.99266810e-02,  4.91026738e-02, 0.27047027, 0.17684946,  6.49642210e-02, 2.00000629e-02, 1.50402234e-02, 5.01522474e-02, 5.22879469e-02, 0.27047027, 0.17684946,  6.47526800e-02, 2.07378235e-02, 1.56794974e-02, 5.25078797e-02, 5.57164422e-02, 1.),\n",
       "          (12, 'J090918+392925', 137.32652  , 3.9490207e+01, 0.2816151, 0,  21.3107948,  3.53834120e-01, 21.82612  , 0.25325287, 21.81848, 0.16386426, 21.55967, 0.0632239 , 20.50889, 0.03648512, 21.99729, 0.1859188 , 21.32546, 0.31916334, 21.7096, 0.40617595, 22.1811, 0.48455101, 21.84856, 0.1600189 , 21.5508 , 0.06316962, 20.50597, 0.04433161, 21.98446, 0.1789442 , 21.23853, 0.2989776 , 21.90475766, 0.54625431, 21.83694569, 0.21872103,  21.40047375,  1.96089572e-01, 21.72316281, 0.06078674, 20.58295933, 3.24544149e-02, 21.89979474, 2.05795534e-01, 21.31802861, 0.26690766, 21.74619855, 0.46579986, 21.78795422, 0.19273673,  21.35662259,  1.66800504e-01, 21.74000157, 6.18670784e-02, 20.59886159, 3.31154242e-02, 21.93107022, 2.04623643e-01, 21.31505765, 0.20947078, 21.77561611, 0.4461686 , 21.70996708, 0.17569366,  21.30053753,  1.37705087e-01, 21.75076527, 6.66247607e-02, 20.61021847, 3.48613649e-02, 21.98158878, 2.09290738e-01, 21.37336582, 1.92146896e-01, 21.85661106, 0.44511473, 21.57655506, 0.17462498, 21.23781757, 1.19490734e-01, 21.75902347, 7.04913835e-02, 20.6213892 , 3.66901048e-02, 22.0579565 , 2.10229323e-01,  21.54956989,  2.07772100e-01, 21.95207405, 21.62201691,  21.31151772, 21.76717377, 20.64829826, 22.39068222, -99.        , 21.95677757, 21.70861816,  21.34327888, 21.84038734, 20.67570496, 22.43819046,  23.1584816 , 21.97450447, 21.86795425,  21.43119812, 21.88051605, 20.73806   , 22.22313499, 22.01908302, 22.01440048, 21.98892212,  21.5429287 , 21.98399162, 20.81274414, 22.21532822, 21.56311798, 0.44536158, 0.17462498,  1.17638275e-01, 7.55474290e-02, 3.92617405e-02, 2.03831482e-01, -9.90000000e+01, 0.44604919, 0.17462498,  1.21130390e-01, 7.09422967e-02, 3.79226459e-02, 2.04545568e-01,  1.36541496e+00, 0.44862751, 0.17462498,  1.31347197e-01, 6.90609195e-02, 3.60029316e-02, 2.06105647e-01, 3.57735220e-01, 0.45476114, 0.18275319,  1.45583796e-01, 6.44284006e-02, 3.45087038e-02, 2.06455773e-01, 1.93526671e-01, 1.),\n",
       "          (13, 'J091113+183108', 137.80559  , 1.8518932e+01, 0.2621735, 0,  19.8273087,  1.29384414e-01, 19.8845921, 0.10091814, 19.77176, 0.03231544, 19.46137, 0.01232142, 19.13465, 0.0118342 , 19.48825, 0.02063553, 19.11772, 0.05331732, 19.6584, 0.12502704, 19.8068, 0.13199465, 19.87214, 0.03424488, 19.59286, 0.02317405, 19.2763 , 0.01750248, 19.64465, 0.02231554, 19.22551, 0.05454829, 19.61232678, 0.15345956, 19.80223004, 0.10819683,  19.72483555,  2.41750312e-02, 19.4562389 , 0.00799949, 19.1340038 , 6.67081827e-03, 19.48122899, 1.87650624e-02, 18.90077511, 0.04955357, 19.66656293, 0.14148284, 19.79692448, 0.09718717,  19.7228011 ,  2.59135628e-02, 19.465845  , 8.39492238e-03, 19.14099301, 6.94102831e-03, 19.47820081, 1.95942644e-02, 18.88566388, 0.05726189, 19.73235363, 0.13747703, 19.76721424, 0.09054207,  19.71570057,  3.23554830e-02, 19.47067112, 9.55495886e-03, 19.14233631, 8.17567793e-03, 19.46340031, 2.51676789e-02, 18.86042255, 6.57933197e-02, 19.78337459, 0.13663249, 19.72525387, 0.08887623, 19.71144085, 3.27552964e-02, 19.47898464, 1.09125397e-02, 19.14493542, 9.92886838e-03, 19.44257145, 3.25457763e-02,  18.82993107,  6.50933568e-02, 19.8328228 , 19.55644226,  19.75654221, 19.45678139, 19.0237236 , 19.25027847,  18.34286308, 19.83886528, 19.58695793,  19.68252373, 19.46437073, 19.03204346, 19.27247429,  18.43584251, 19.84864807, 19.63851738,  19.70235825, 19.46569252, 19.06324577, 19.30186272, 18.56871414, 19.85672951, 19.67241859,  19.73825645, 19.48297501, 19.09835434, 19.33901596, 18.65241814, 0.13663249, 0.08887623,  3.14091683e-02, 1.16653811e-02, 9.99584918e-03, 2.50790917e-02,  3.82334804e-02, 0.13663249, 0.08887623,  2.93392525e-02, 1.17472082e-02, 1.00727403e-02, 2.55970626e-02,  4.16519757e-02, 0.13663249, 0.08887623,  2.98801554e-02, 1.17615182e-02, 1.03664143e-02, 2.62993795e-02, 4.70743419e-02, 0.13663249, 0.08887623,  3.08846110e-02, 1.19502331e-02, 1.07071032e-02, 2.72149035e-02, 5.08470610e-02, 0.),\n",
       "          (14, 'J091207+523960', 138.02992  , 5.2666633e+01, 0.2470418, 1,  20.713459 ,  1.02748117e-01, 20.8068275, 0.09084651, 20.77415, 0.06963646, 20.55732, 0.02654668, 20.01389, 0.02372516, 19.93299, 0.03129953, 19.78667, 0.10115347, 21.0497, 0.10108088, 21.1087, 0.10304634, 20.8492 , 0.06578089, 20.65129, 0.03276112, 20.12407, 0.03454014, 20.06372, 0.07902606, 19.88923, 0.1501072 , 21.11477582, 0.12713008, 21.27565686, 0.07402996,  20.76144711,  6.71560750e-02, 20.04308812, 0.02425335, 19.3627998 , 2.02901270e-02, 18.93715588, 2.46793770e-02, 18.71778218, 0.08577749, 21.0457877 , 0.1126839 , 21.24322881, 0.06583455,  20.73611058,  8.42818997e-02, 20.01190556, 2.19064050e-02, 19.3371848 , 1.77166507e-02, 18.90144719, 1.87932339e-02, 18.70591916, 0.07081482, 21.03131908, 0.10665858, 21.20587391, 0.06177589,  20.71379894,  7.43887230e-02, 19.97897572, 1.84750585e-02, 19.31157726, 1.50426814e-02, 18.86349911, 1.57764373e-02, 18.69349331, 6.08611934e-02, 21.02336483, 0.10333585, 21.16163616, 0.05922351, 20.70266514, 6.76902021e-02, 19.95079021, 1.65494609e-02, 19.29521732, 1.36223963e-02, 18.83294277, 1.41012831e-02,  18.67811565,  5.51647470e-02, 21.02781487, 21.12878418,  20.77291679, 19.9297657 , 19.3014183 , 18.83213615,  18.6457386 , 21.04389954, 21.15130043,  20.77756691, 19.95915222, 19.31850052, 18.84966278,  18.66464996, 21.06511879, 21.18122864,  20.77796173, 19.98178864, 19.33207512, 18.85458183, 18.70198441, 21.08122635, 21.20936966,  20.78666687, 20.00500298, 19.34724808, 18.87344933, 18.72652626, 0.10333585, 0.05922351,  6.64294769e-02, 1.49316708e-02, 1.26028353e-02, 1.29619500e-02,  4.92544155e-02, 0.10333585, 0.05922351,  6.67145989e-02, 1.53413301e-02, 1.28026876e-02, 1.31728878e-02,  5.01198445e-02, 0.10333585, 0.05922351,  6.67388636e-02, 1.56645376e-02, 1.29637602e-02, 1.32327045e-02, 5.18732539e-02, 0.10333585, 0.05922351,  6.72761087e-02, 1.60030704e-02, 1.31461981e-02, 1.34646668e-02, 5.30591433e-02, 1.),\n",
       "          (15, 'J091208+505009', 138.03363  , 5.0835731e+01, 0.3275601, 0,  20.5588913,  2.40042304e-01, 21.05382  , 0.16647118, 20.53686, 0.05696938, 20.35682, 0.02180071, 19.7703 , 0.01825397, 20.44176, 0.04596457, 19.93651, 0.08866558, 20.7178, 0.2411946 , 20.8911, 0.25832801, 20.59531, 0.05481977, 20.44248, 0.02470218, 19.87103, 0.02562487, 20.54244, 0.04682307, 19.99885, 0.08569285, 20.81143109, 0.31625959, 20.80968014, 0.14188574,  20.52389828,  4.82927977e-02, 20.36039082, 0.0162587 , 19.79860989, 1.43338945e-02, 20.27786366, 4.82324432e-02, 19.76848904, 0.0914399 , 20.65522183, 0.26836305, 20.75914372, 0.12508915,  20.51333417,  5.00372584e-02, 20.36759366, 1.68487441e-02, 19.82087888, 1.48743588e-02, 20.25671948, 5.78279582e-02, 19.76273335, 0.10477901, 20.63628239, 0.25463273, 20.73465389, 0.11784552,  20.495583  ,  6.17562132e-02, 20.37022633, 1.84432963e-02, 19.84369892, 1.61377190e-02, 20.23057598, 5.64480000e-02, 19.75525707, 1.22933986e-01, 20.64190273, 0.25463273, 20.72877483, 0.11784552, 20.48109417, 5.60218381e-02, 20.3751791 , 2.20002893e-02, 19.87322407, 1.73244385e-02, 20.21024685, 5.09318129e-02,  19.75792675,  1.13295345e-01, 20.67001534, 20.76313972,  20.53063202, 20.43823433, 19.90328026, 20.32576561,  19.69951248, 20.69300461, 20.77566719,  20.55035591, 20.45351219, 19.91694832, 20.34582329,  19.73207664, 20.72101212, 20.81249619,  20.5844326 , 20.47644043, 19.95155716, 20.32668495, 19.84156609, 20.749403  , 20.84631348,  20.61435509, 20.50119209, 19.97350883, 20.33866119, 19.88255692, 0.25463273, 0.11784552,  5.39394923e-02, 2.20150778e-02, 1.93612862e-02, 5.21111910e-02,  9.87599171e-02, 0.25463273, 0.11784552,  5.49283320e-02, 2.23270513e-02, 1.87753812e-02, 5.30828302e-02,  1.01766862e-01, 0.25463273, 0.11784552,  5.66796405e-02, 2.12467213e-02, 1.76442516e-02, 5.21553346e-02, 1.12564685e-01, 0.25463273, 0.11784552,  5.82634344e-02, 1.98846058e-02, 1.70970555e-02, 5.27338200e-02, 1.16895688e-01, 1.),\n",
       "          (16, 'J091703+315221', 139.26052  , 3.1872379e+01, 0.3003547, 0,  20.1343117,  2.21264752e-01, 19.7811947, 0.0957155 , 19.75581, 0.03064855, 19.65751, 0.01327264, 19.33715, 0.01303067, 19.60841, 0.0182917 , 19.36638, 0.0409339 , 20.157 , 0.22348859, 19.9114, 0.20278398, 19.85572, 0.0320611 , 19.75833, 0.02100889, 19.45277, 0.01504597, 19.7574 , 0.02478496, 19.45848, 0.04127155, 20.32173077, 0.30430792, 19.98962895, 0.10432291,  19.74119679,  1.73204095e-02, 19.6842529 , 0.00753842, 19.33217351, 7.70577340e-03, 19.62061993, 1.30347066e-02, 19.35401074, 0.03549812, 20.17679204, 0.25600585, 19.94908513, 0.09190334,  19.74118031,  1.87110731e-02, 19.69542683, 7.68942948e-03, 19.34259785, 8.05747346e-03, 19.63228596, 1.36503224e-02, 19.37371243, 0.03627716, 20.11550182, 0.24001273, 19.93089718, 0.08631071,  19.73597187,  2.13783188e-02, 19.7025494 , 8.43453358e-03, 19.34865421, 9.36875029e-03, 19.64148754, 1.54127744e-02, 19.39404911, 3.99210947e-02, 20.13021641, 0.24001273, 19.90477733, 0.0836276 , 19.73257236, 2.70768544e-02, 19.71378689, 9.55634993e-03, 19.35938625, 1.09886771e-02, 19.65238933, 1.75932585e-02,  19.4197977 ,  4.50365592e-02, 20.20096779, 19.92659187,  19.73773003, 19.75681114, 19.40717697, 19.66659737,  19.51769829, 20.2061348 , 19.94177246,  19.75978851, 19.76494217, 19.4160862 , 19.6795063 ,  19.54003525, 20.21070862, 19.96042633,  19.79078484, 19.78113174, 19.42510986, 19.72135735, 19.51143646, 20.21366882, 19.98254013,  19.81433105, 19.79769135, 19.44037819, 19.7390461 , 19.51047325, 0.24001273, 0.0836276 ,  2.50262417e-02, 1.09427811e-02, 1.27123308e-02, 2.17845224e-02,  4.43710228e-02, 0.24001273, 0.0836276 ,  2.55398904e-02, 1.06420739e-02, 1.27650901e-02, 2.07720135e-02,  4.24171390e-02, 0.24001273, 0.0836276 ,  2.62795278e-02, 1.01366932e-02, 1.21516905e-02, 1.84432421e-02, 4.49459156e-02, 0.24001273, 0.0836276 ,  2.68556733e-02, 9.70863872e-03, 1.13574153e-02, 1.77378663e-02, 4.50354930e-02, 1.),\n",
       "          (17, 'J092552+395714', 141.46612  , 3.9953803e+01, 0.3142293, 0,  20.8620224,  3.05862344e-01, 21.7965736, 0.39482861, 21.24877, 0.13048375, 21.01855, 0.04289455, 20.66781, 0.04466693, 21.10304, 0.09436351, 20.70737, 0.20021588, 21.3856, 0.33251835, 21.1998, 0.30925999, 21.28197, 0.132202  , 21.07922, 0.04389537, 20.71723, 0.0440003 , 21.1638 , 0.08339473, 20.66926, 0.1853123 , 21.32440487, 0.40735771, 21.30092351, 0.07129993,  21.3557922 ,  5.03237096e-02, 21.06441418, 0.03998304, 20.66913907, 7.40034685e-02, 20.72713772, 1.34928874e-01, 21.40393559, 0.22239637, 21.35340489, 0.37201847, 21.32104482, 0.06494446,  21.33099545,  3.87083583e-02, 21.07887067, 4.02789184e-02, 20.6586913 , 5.76798036e-02, 20.67326154, 1.01042766e-01, 21.52695645, 0.21223056, 21.35891956, 0.35349079, 21.31612438, 0.06174954,  21.29416317,  3.25280843e-02, 21.09593624, 4.26618942e-02, 20.64070171, 4.93190369e-02, 20.60766834, 8.26903054e-02, 21.70542187, 2.14142140e-01, 21.34998874, 0.34595624, 21.31462078, 0.0604529 , 21.25478535, 2.88389595e-02, 21.1221426 , 4.46191888e-02, 20.62334804, 4.46216216e-02, 20.54039173, 7.14522946e-02,  21.99100284,  2.28861177e-01, 21.40805054, 21.30452347,  21.54275131, 20.93765068, 20.51781654, 20.37043953, -99.        , 21.43438148, 21.35655594,  21.33513832, 21.18398285, 20.58353615, 20.43948555,  23.23643494, 21.49160767, 21.44286346,  21.40573692, 21.2585392 , 20.73334694, 20.63879013, 21.91557503, 21.53609085, 21.50253487,  21.48949623, 21.29117966, 20.82485199, 20.78868866, 21.93307495, 0.34595624, 0.0604529 ,  3.45859997e-02, 3.63437841e-02, 3.72449253e-02, 5.62043150e-02, -9.90000000e+01, 0.34595624, 0.0604529 ,  2.85663752e-02, 4.55998077e-02, 3.95689886e-02, 5.98946550e-02,  5.41955770e-01, 0.34710343, 0.06063856,  3.04855881e-02, 4.31901428e-02, 4.54233611e-02, 7.19631060e-02, 2.16206150e-01, 0.35287602, 0.06183611,  3.29304982e-02, 4.23294314e-02, 4.94175587e-02, 8.26169792e-02, 2.17501660e-01, 1.),\n",
       "          (18, 'J093355+510925', 143.47951  , 5.1156834e+01, 0.2912828, 0, -99.       , -9.90000000e+01, 21.5077171, 0.1013444 , 21.46336, 0.12929871, 21.56275, 0.0683457 , 20.30676, 0.02875137, 21.98501, 0.18676923, 20.4867 , 0.18028211, 21.0011, 0.28067136, 21.6097, 0.35598167, 21.45836, 0.1245878 , 21.55957, 0.07002087, 20.30377, 0.02907137, 21.96421, 0.179574  , 20.42763, 0.1751142 , 21.20679966, 0.38507317, 21.72645108, 0.08637418,  21.3032581 ,  1.26682237e-01, 21.45316235, 0.08775167, 20.34528462, 2.65950096e-02, 21.86693112, 3.44418908e-01, 20.34602467, 0.22480829, 21.25105847, 0.35241956, 21.67030133, 0.07615417,  21.2580737 ,  1.33797500e-01, 21.46157445, 8.69203948e-02, 20.35838879, 2.79597097e-02, 21.84851826, 2.65397762e-01, 20.32135571, 0.21555624, 21.24526829, 0.33100122, 21.58379025, 0.07006164,  21.20298046,  1.10559827e-01, 21.46851582, 8.65172885e-02, 20.36732716, 3.07827212e-02, 21.83160442, 2.27152943e-01, 20.28178638, 2.07502579e-01, 21.24640446, 0.32114569, 21.5302351 , 0.06960168, 21.15133076, 9.69191726e-02, 21.4795969 , 8.03540115e-02, 20.37750606, 3.43203122e-02, 21.83395366, 2.09281238e-01,  20.23719959,  1.83088476e-01, 21.33088875, 21.62115669,  21.35774803, 21.62574959, 20.41034317, 21.92471504,  20.73198318, 21.36010551, 21.66973495,  21.2984314 , 21.62694931, 20.47654343, 22.02282333,  20.53283882, 21.40250397, 21.72415161,  21.35180092, 21.6566925 , 20.52788353, 22.05163002, 20.48319435, 21.45838547, 21.7979641 ,  21.4154911 , 21.67261505, 20.56853676, 22.03483391, 20.49336815, 0.32114569, 0.06960168,  1.07822890e-01, 8.45674037e-02, 3.52936843e-02, 2.09299989e-01,  2.18654543e-01, 0.32329611, 0.06960168,  1.02090261e-01, 8.46609011e-02, 3.37639709e-02, 2.29093370e-01,  2.13859323e-01, 0.32813494, 0.06960168,  1.07233905e-01, 8.70122030e-02, 3.14689612e-02, 2.35253014e-01, 2.11248325e-01, 0.33486178, 0.07087881,  1.13712497e-01, 8.82976576e-02, 3.02466806e-02, 2.31641704e-01, 2.13237112e-01, 1.),\n",
       "          (19, 'J094001+593244', 145.00275  , 5.9545673e+01, 0.371634 , 1,  20.9617844,  2.92878166e-01, 21.211668 , 0.25447094, 20.78132, 0.06970278, 20.46578, 0.02558365, 20.09751, 0.02512847, 19.97222, 0.03164549, 19.86341, 0.09426149, 20.6558, 0.2312708 , 21.0327, 0.26848989, 20.84429, 0.06049162, 20.52096, 0.02753739, 20.18568, 0.03106244, 20.09334, 0.0346192 , 19.90839, 0.0950931 , 20.73549   , 0.30219692, 21.12712971, 0.05011985,  20.9010307 ,  6.89278400e-02, 20.438821  , 0.02086826, 20.07873456, 2.06554608e-02, 19.87012402, 2.97320272e-02, 19.87947766, 0.09014517, 20.85844411, 0.28570129, 21.09971417, 0.04577966,  20.92832936,  7.06205796e-02, 20.44438924, 2.16641549e-02, 20.0671481 , 2.19165968e-02, 19.8454646 , 3.22084832e-02, 19.86233891, 0.09040655, 20.87530941, 0.27077426, 21.06561512, 0.04389737,  20.94549793,  7.36750603e-02, 20.45299381, 2.45455716e-02, 20.05871815, 2.76396834e-02, 19.83459133, 4.10454628e-02, 19.86026424, 1.09709929e-01, 20.90488796, 0.26464658, 21.02045231, 0.04311222, 20.96924953, 7.54398594e-02, 20.48327427, 2.57981606e-02, 20.07393818, 2.75110846e-02, 19.85915928, 3.85979789e-02,  19.90089969,  1.21043914e-01, 20.64659691, 20.9372673 ,  20.36438179, 20.21155167, 18.96504593, 18.30061722,  18.20954895, 20.66235161, 20.9713192 ,  20.52050781, 20.19045067, 19.01010132, 18.38341522,  18.25189781, 21.01775932, 21.21669006,  21.13171005, 20.6241951 , 20.18777084, 19.96466446, 19.98817062, 21.04536819, 21.24938393,  21.15189743, 20.62171173, 20.20973015, 19.97299004, 19.99978828, 0.26364431, 0.04311222,  4.88210255e-02, 1.84771107e-02, 9.11349946e-03, 8.45049404e-03,  2.71373965e-02, 0.26364431, 0.04311222,  5.63712035e-02, 1.81214799e-02, 9.49964395e-03, 9.12013573e-03,  2.82167977e-02, 0.26682356, 0.04359944,  7.35623161e-02, 2.49202810e-02, 2.81044531e-02, 3.91292025e-02, 1.21593317e-01, 0.26955861, 0.04391416,  7.30317283e-02, 2.50101503e-02, 2.86786603e-02, 3.94304040e-02, 1.19639174e-01, 1.),\n",
       "          (20, 'J095236+405249', 148.14952  , 4.0880235e+01, 0.3186772, 0,  20.6252728,  2.67117467e-01, 20.6797733, 0.20702516, 21.04596, 0.08433394, 20.82577, 0.03306981, 20.30806, 0.03306963, 20.86957, 0.07804178, 20.72621, 0.25447959, 20.4586, 0.2377865 , 20.5468, 0.24624377, 21.10809, 0.07939631, 20.8939 , 0.03713278, 20.40291, 0.0361008 , 20.98783, 0.07644518, 20.85605, 0.2562911 , 20.59025113, 0.31771569, 20.62687222, 0.19317109,  21.2695686 ,  8.84737939e-02, 20.82600895, 0.02752758, 20.35169903, 2.95682459e-02, 21.03052441, 7.54672850e-02, 21.5786678 , 0.365461  , 20.54071225, 0.2794704 , 20.62136258, 0.17292317,  21.32186116,  9.01046909e-02, 20.82918347, 2.84849212e-02, 20.36992253, 3.11148869e-02, 21.07907094, 7.53506139e-02, 21.78876675, 0.36659767, 20.50979656, 0.26052425, 20.59288448, 0.16063984,  21.38004726,  9.20687340e-02, 20.82852024, 3.15888058e-02, 20.38415379, 3.38486667e-02, 21.1270451 , 7.85911491e-02, 22.05953259, 3.63827252e-01, 20.52098064, 0.25289359, 20.57783298, 0.15904013, 21.4500082 , 9.25447265e-02, 20.83272724, 3.07105131e-02, 20.40018635, 3.57268643e-02, 21.18246631, 8.08225011e-02,  22.4758089 ,  4.08244419e-01, 20.56650734, 20.65275574,  21.69441795, 20.9314003 , 20.46510696, 21.33454514, -99.        , 20.59827805, 20.72454643,  21.61072159, 20.96377563, 20.50447845, 21.31551933,  23.18290138, 20.67545128, 20.78572655,  21.5728569 , 21.01013565, 20.54959869, 21.31114578, 22.19045639, 20.72865105, 20.82653046,  21.583395  , 21.0491848 , 20.59134102, 21.33509636, 22.0516777 , 0.25199306, 0.15904013,  8.94942191e-02, 3.09378875e-02, 3.63975974e-02, 7.74126977e-02, -9.90000000e+01, 0.25199306, 0.15904013,  9.09886932e-02, 3.18743099e-02, 3.53842360e-02, 7.82612294e-02,  7.20263830e-01, 0.25899005, 0.16136578,  9.18242467e-02, 3.16002515e-02, 3.42536218e-02, 7.84811600e-02, 3.65053181e-01, 0.26405328, 0.16410335,  9.15870698e-02, 3.04345347e-02, 3.32571643e-02, 7.73905916e-02, 3.68242023e-01, 1.),\n",
       "          (21, 'J095700+235709', 149.25188  , 2.3952500e+01, 0.244443 , 1,  19.1704617,  1.63541108e-01, 18.6518364, 0.08040953, 18.4005 , 0.02201617, 17.83048, 0.00732417, 17.47957, 0.00760806, 17.27319, 0.00974614, 17.21458, 0.03067014, 19.416 , 0.18321341, 18.944 , 0.15255419, 19.52549, 0.03078934, 19.15259, 0.02645653, 18.91597, 0.02337576, 18.75756, 0.03467631, 18.63599, 0.04653965, 19.57834164, 0.24751275, 19.09573666, 0.11195619,  18.74380223,  1.81565569e-02, 18.1534187 , 0.00552627, 17.78433529, 5.66249477e-03, 17.56864659, 9.29591506e-03, 17.45851628, 0.02766704, 19.43061436, 0.2095995 , 19.06521596, 0.09904094,  18.66766537,  1.40794088e-02, 18.06913174, 4.22848626e-03, 17.69337262, 4.16468418e-03, 17.47695149, 6.91749856e-03, 17.36639203, 0.02109801, 19.38575214, 0.19426481, 18.9808411 , 0.09083521,  18.58776897,  1.13713626e-02, 17.98148388, 3.39088004e-03, 17.59938473, 3.32027125e-03, 17.38264507, 5.51331947e-03, 17.27185673, 1.68117895e-02, 19.32752781, 0.18554894, 18.89614086, 0.08815949, 18.51567631, 9.78245072e-03, 17.90256862, 2.89880201e-03, 17.51479511, 2.82364404e-03, 17.29772167, 4.68722744e-03,  17.18729954,  1.42976051e-02, 19.08408356, 18.53290939,  18.26913261, 17.65239525, 17.23339081, 16.98067856,  16.9778595 , 19.08097649, 18.53081703,  18.27356339, 17.6566925 , 17.23465919, 16.98828125,  16.96336174, 19.08898735, 18.55418205,  18.28865242, 17.65641785, 17.24105072, 17.00500298, 16.96044731, 19.09262276, 18.56677055,  18.29456902, 17.65773964, 17.24724579, 17.01507187, 16.95749664, 0.18554894, 0.08815949,  7.17074950e-03, 2.11779326e-03, 2.00439165e-03, 3.21983147e-03,  1.08448023e-02, 0.18554894, 0.08815949,  7.20007233e-03, 2.12619193e-03, 2.00673461e-03, 3.24245694e-03,  1.07009550e-02, 0.18554894, 0.08815949,  7.30083399e-03, 2.12565413e-03, 2.01858272e-03, 3.29278146e-03, 1.06722691e-02, 0.18554894, 0.08815949,  7.34072765e-03, 2.12824352e-03, 2.03013341e-03, 3.32346007e-03, 1.06433048e-02, 0.),\n",
       "          (22, 'J095838+202508', 149.66008  , 2.0418785e+01, 0.3016598, 0,  21.0576229,  3.13531483e-01, 21.571106 , 0.41596375, 21.21358, 0.08516374, 21.3297 , 0.03658652, 20.39923, 0.02568985, 21.53236, 0.08326023, 20.58461, 0.13866502, 21.0174, 0.26154056, 21.2097, 0.28216962, 21.28106, 0.07971196, 21.37878, 0.0375634 , 20.45382, 0.03357767, 21.59707, 0.08060038, 20.56524, 0.1254993 , 21.27128712, 0.3638669 , 21.00776211, 0.22044158,  21.56295888,  9.00292886e-02, 21.37176053, 0.02974922, 20.31078068, 2.00296798e-02, 21.85319439, 8.96415310e-02, 20.40608517, 0.14665852, 21.37121953, 0.34175434, 21.01263417, 0.19868518,  21.63033284,  8.62131491e-02, 21.36828603, 3.01843356e-02, 20.29462231, 2.33722954e-02, 21.8880843 , 8.90368414e-02, 20.38200177, 0.25549473, 21.27357143, 0.31126975, 21.04678196, 0.19364807,  21.68749279,  8.48831731e-02, 21.34927029, 3.38571778e-02, 20.2687859 , 3.40657036e-02, 21.92842716, 8.92173251e-02, 20.33680004, 2.26177257e-01, 21.08687191, 0.30271503, 21.06811123, 0.19364807, 21.73027973, 8.43993083e-02, 21.32341175, 4.48929513e-02, 20.2407072 , 3.05181439e-02, 21.98285274, 8.94227974e-02,  20.27405529,  1.96256144e-01, 20.86611748, 20.91533089,  21.90306282, 21.18404007, 20.14361763, 21.49313736,  19.82827377, 20.92903137, 20.98560333,  22.08932495, 21.28808594, 20.1767807 , 21.71790886,  19.96817398, 21.01976967, 21.03623581,  21.87867737, 21.32901573, 20.21641159, 21.73250771, 20.15023613, 21.15394211, 21.08299637,  21.79570198, 21.37726974, 20.26655197, 21.82313156, 20.31225777, 0.30271503, 0.19364807,  8.53013766e-02, 3.63215058e-02, 2.56718192e-02, 9.25724223e-02,  1.19741588e-01, 0.30271503, 0.19364807,  8.85496140e-02, 3.99744219e-02, 2.64680456e-02, 1.13864994e-01,  1.36208778e-01, 0.30271503, 0.19364807,  8.49914314e-02, 4.15101316e-02, 2.74520152e-02, 1.15406366e-01, 1.61075674e-01, 0.30271503, 0.19364807,  8.42121968e-02, 4.33966010e-02, 2.87495057e-02, 9.64000575e-02, 1.86998710e-01, 1.),\n",
       "          (23, 'J101401+523251', 153.50618  , 5.2547420e+01, 0.3548643, 0, -99.       , -9.90000000e+01, 21.685976 , 0.09863445, 21.33716, 0.13397707, 21.18451, 0.04492287, 20.91636, 0.04937922, 21.03022, 0.08262968, 20.84433, 0.26660299, 21.3827, 0.28916462, 21.5825, 0.31274442, 21.35872, 0.1241493 , 21.25877, 0.04561592, 21.02708, 0.0514172 , 21.12574, 0.0729116 , 20.87553, 0.2539496 , 21.45655934, 0.37494831, 21.55520932, 0.08115715,  21.17633359,  2.01331242e-01, 21.2635204 , 0.03991255, 20.97394291, 4.69445281e-02, 20.84499852, 9.43151123e-02, 20.10903279, 0.30111538, 21.52144994, 0.34787428, 21.54037274, 0.07283955,  21.14468373,  1.84260378e-01, 21.28932179, 4.12358892e-02, 20.99572362, 4.61993923e-02, 20.84638394, 1.04346664e-01, 20.06155385, 0.22682565, 21.46239513, 0.32048041, 21.52148098, 0.0688451 ,  21.10251278,  1.54081404e-01, 21.32000011, 4.28811173e-02, 21.01698917, 4.72133142e-02, 20.84854168, 1.11425374e-01, 20.02236027, 1.90196003e-01, 21.37663441, 0.29890995, 21.50638561, 0.0688451 , 21.06001644, 1.36214682e-01, 21.36132412, 4.40706258e-02, 21.04325085, 4.88028328e-02, 20.85514049, 1.03061357e-01,  20.00520878,  1.72112740e-01, 21.73857307, 21.74682617,  21.31270027, 21.52252769, 21.20222855, 21.07258224,  20.27923584, 21.79799461, 21.794384  ,  21.38158035, 21.57525253, 21.18360138, 21.07870293,  20.46711922, 21.84989548, 21.86216545,  21.46807098, 21.61030388, 21.30751038, 21.16910553, 20.37157249, 21.91751099, 21.92204857,  21.54133606, 21.66299438, 21.36614609, 21.22583008, 20.44194412, 0.33246827, 0.06989901,  1.58136387e-01, 4.25097889e-02, 4.71637111e-02, 1.10377844e-01,  2.03778426e-01, 0.34022584, 0.07100139,  1.68493769e-01, 4.17546611e-02, 4.74757606e-02, 1.09984824e-01,  2.42276647e-01, 0.34712654, 0.07254678,  1.82465221e-01, 4.13642930e-02, 4.62713826e-02, 1.04848971e-01, 2.21867079e-01, 0.3562935 , 0.0740464 ,  1.87019218e-01, 4.08892401e-02, 4.61450789e-02, 1.02649510e-01, 2.36723578e-01, 1.),\n",
       "          (24, 'J102615+633308', 156.56336  , 6.3552359e+01, 0.3337608, 1,  21.0481148,  3.42652958e-01, 20.8165951, 0.22812017, 21.02906, 0.08818752, 20.80791, 0.03685499, 20.09772, 0.02764641, 21.57219, 0.15390523, 20.38169, 0.17537925, 21.0614, 0.27618168, 20.9999, 0.26955777, 21.06585, 0.09892533, 20.82752, 0.04220962, 20.11917, 0.03311279, 21.61207, 0.1528933 , 20.35975, 0.1690893 , 21.35857503, 0.39162944, 21.03066746, 0.21872619,  20.91045491,  3.08073284e-02, 20.78432194, 0.0399002 , 20.01863019, 2.47124569e-02, 21.77001492, 8.64543951e-02, 20.08528248, 0.05922563, 21.22687329, 0.33527138, 21.00782002, 0.19439187,  20.89443768,  2.38889991e-02, 20.79203214, 3.16235030e-02, 20.01670445, 1.94131691e-02, 21.80679883, 7.05859654e-02, 20.06170644, 0.04560685, 21.17278523, 0.30960889, 20.90112347, 0.17784259,  20.8653397 ,  2.02183359e-02, 20.79292339, 2.75139616e-02, 20.00774998, 1.67379126e-02, 21.82760853, 6.26581153e-02, 20.01250309, 3.78909394e-02, 21.18339519, 0.3003502 , 20.86216717, 0.17784259, 20.83193188, 1.80241382e-02, 20.79153995, 2.52622472e-02, 19.99763279, 1.52449727e-02, 21.82705288, 5.76438707e-02,  19.93577938,  3.24577281e-02, 21.08910179, 20.6948204 ,  20.64771461, 20.73313141, 19.86195183, 21.31310654,  19.38441086, 21.23782921, 20.93014908,  20.89670372, 20.88451385, 20.09100914, 21.85758591,  20.00806808, 21.26846504, 20.95219421,  20.9122715 , 20.92572212, 20.12051964, 21.99387741, 20.08489609, 21.28791428, 20.9890728 ,  20.98018646, 20.94395065, 20.13626671, 21.86144257, 20.10820198, 0.29527085, 0.17784259,  1.39927142e-02, 2.20212984e-02, 1.23762372e-02, 3.32972315e-02,  1.79682205e-02, 0.29617425, 0.17784259,  1.75993896e-02, 2.53160475e-02, 1.52831033e-02, 5.45815269e-02,  3.19130241e-02, 0.29970887, 0.17784259,  1.78535555e-02, 2.62953653e-02, 1.57041975e-02, 6.17705268e-02, 3.42530431e-02, 0.30193414, 0.17784259,  1.90059990e-02, 2.67405675e-02, 1.59336245e-02, 5.47729586e-02, 3.49962506e-02, 1.),\n",
       "          (25, 'J103344+635317', 158.43355  , 6.3888111e+01, 0.3467169, 0,  19.8889751,  4.85370585e-02, 19.8761845, 0.03095455, 19.8246 , 0.03788802, 19.80387, 0.01703396, 19.36843, 0.01620048, 20.03135, 0.04118077, 19.39743, 0.07723822, 19.9304, 0.06876378, 19.8363, 0.06760475, 19.88883, 0.03663589, 19.86594, 0.02130282, 19.42901, 0.01954638, 20.07849, 0.04127231, 19.42641, 0.07588565, 19.87316052, 0.07705402, 19.89983288, 0.04481816,  19.77608029,  2.77877224e-02, 19.77376668, 0.0287811 , 19.3657848 , 1.19510663e-02, 19.98980443, 6.66622242e-02, 19.1770393 , 0.03581933, 19.87361325, 0.0723916 , 19.90377225, 0.04185719,  19.77297581,  2.18052950e-02, 19.78134908, 2.28082038e-02, 19.37374867, 9.61224602e-03, 19.98329152, 5.21465333e-02, 19.15878857, 0.02771839, 19.88583797, 0.07058545, 19.89361805, 0.04053411,  19.76443523,  1.88075568e-02, 19.78783077, 1.99466705e-02, 19.37801975, 8.47118375e-03, 19.97137493, 4.48379198e-02, 19.13699383, 2.36176533e-02, 19.89221363, 0.06970952, 19.89813022, 0.04013955, 19.75590114, 1.71550100e-02, 19.79835491, 1.85162185e-02, 19.38425236, 7.88195055e-03, 19.96058636, 4.08133511e-02,  19.12116794,  2.13982679e-02, 19.91200829, 19.91921234,  19.79637146, 19.83260727, 19.391716  , 19.97164345,  19.12113571, 19.92424202, 19.93087196,  19.78438187, 19.8448391 , 19.4074688 , 19.97750092,  19.14148521, 19.94700241, 19.95557976,  19.8024292 , 19.86155891, 19.43292046, 19.99707794, 19.17832756, 19.9608078 , 19.96924591,  19.82318497, 19.87118149, 19.44091225, 20.02605629, 19.19865608, 0.06970952, 0.04013955,  1.63799836e-02, 1.75787342e-02, 7.35074408e-03, 3.79279571e-02,  1.96833985e-02, 0.06970952, 0.04013955,  1.62000973e-02, 1.77778948e-02, 7.44797743e-03, 3.81331286e-02,  2.00557952e-02, 0.06970952, 0.04013955,  1.64716292e-02, 1.80537847e-02, 7.60836413e-03, 3.88269475e-02, 2.07480280e-02, 0.06970952, 0.04013955,  1.67895426e-02, 1.82145014e-02, 7.65956612e-03, 3.98771937e-02, 2.11401582e-02, 1.),\n",
       "          (26, 'J103816+452718', 159.56757  , 4.5454951e+01, 0.3258494, 0,  19.4543152,  1.52152456e-01, 19.38558  , 0.09795423, 19.378  , 0.02727668, 19.16478, 0.01071076, 18.83513, 0.01143865, 19.10492, 0.01986187, 18.63634, 0.0398836 , 19.2888, 0.14512309, 19.4212, 0.1526208 , 19.48603, 0.02688376, 19.2696 , 0.04518902, 19.00561, 0.01927659, 19.28891, 0.02863861, 18.80943, 0.04153379, 19.25120465, 0.18005917, 19.47117535, 0.1137062 ,  19.40628163,  1.79403120e-02, 19.1968414 , 0.00598596, 18.86566464, 8.04825105e-03, 19.1187698 , 1.73403509e-02, 18.57524602, 0.03635363, 19.31610478, 0.16625087, 19.46280278, 0.10169216,  19.39019383,  2.01720558e-02, 19.20084943, 6.47524049e-03, 18.87174023, 8.47789109e-03, 19.12371815, 1.81811210e-02, 18.58265294, 0.03722529, 19.38170284, 0.16111131, 19.41406292, 0.09417544,  19.36754078,  2.21671497e-02, 19.20097202, 7.37161383e-03, 18.87502903, 9.44729775e-03, 19.12686581, 2.09088750e-02, 18.5818829 , 4.01740505e-02, 19.43933277, 0.15923701, 19.39805012, 0.09209211, 19.3462923 , 1.99840125e-02, 19.20353679, 7.47382375e-03, 18.88204555, 1.00954468e-02, 19.1344984 , 2.23150298e-02,  18.57644062,  4.55786464e-02, 22.46858788, 21.64361   ,  21.18915749, 21.47067833, 21.10784149, 20.97471809,  20.63201332, 22.4954567 , 21.74162674,  21.33387947, 21.57086945, 21.20080185, 21.00600433,  20.73900604, 19.49395752, 19.41491127,  19.34977722, 19.24091148, 18.92015839, 19.05657578, 18.58936691, 19.50582123, 19.4340992 ,  19.3774147 , 19.25226593, 18.9315567 , 19.18315125, 18.61862183, 0.24312483, 0.18461471,  2.45586424e-02, 1.10127134e-02, 1.43198605e-02, 2.40553731e-02,  5.52694795e-02, 0.24312483, 0.18461471,  2.58155180e-02, 1.20773258e-02, 1.55999401e-02, 2.42699670e-02,  6.09933467e-02, 0.15871554, 0.09209211,  1.84421274e-02, 7.11585495e-03, 9.61844874e-03, 1.91056923e-02, 4.24293424e-02, 0.15871554, 0.09209211,  1.89175988e-02, 7.19066184e-03, 9.71995738e-03, 2.14680682e-02, 4.35881328e-02, 1.),\n",
       "          (27, 'J105117+474357', 162.82048  , 4.7732497e+01, 0.3353644, 1,  20.5538616,  2.62247345e-01, 20.7463932, 0.14150407, 20.73334, 0.05672372, 20.49695, 0.02193355, 20.1251 , 0.0214596 , 20.42188, 0.03660599, 20.20056, 0.11069499, 20.5632, 0.24882417, 20.6728, 0.25985612, 20.86749, 0.05467395, 20.59676, 0.03045489, 20.29459, 0.02783921, 20.5579 , 0.0443335 , 20.33702, 0.1094557 , 20.57823674, 0.3168079 , 20.70580403, 0.13589632,  20.75442425,  6.08052948e-02, 20.42860905, 0.03289871, 20.0467426 , 3.91885889e-02, 20.22674481, 3.85701082e-02, 19.96467511, 0.17784567, 20.62988271, 0.29182663, 20.67221059, 0.12019073,  20.78160275,  4.90640736e-02, 20.42272557, 2.57499414e-02, 20.04191388, 3.07028679e-02, 20.19824971, 2.95667522e-02, 19.94725217, 0.13701676, 20.63162083, 0.27458102, 20.62418598, 0.11096013,  20.81542629,  4.40027347e-02, 20.41302341, 2.21861544e-02, 20.03214878, 2.64520633e-02, 20.16358036, 2.48955962e-02, 19.93668026, 1.17570957e-01, 20.61207752, 0.26904549, 20.60388737, 0.11001631, 20.8648222 , 4.23360425e-02, 20.40831737, 2.03082193e-02, 20.02639179, 2.41896167e-02, 20.13270931, 2.22457135e-02,  19.94500904,  1.08726387e-01, 20.55611038, 20.50109863,  20.77922058, 20.38480949, 19.86861038, 20.04875183,  20.15051842, 20.56182671, 20.56454659,  20.75462341, 20.42598534, 19.91050339, 20.03170967,  20.35474586, 20.57643127, 20.61043739,  20.74214935, 20.42545319, 19.92908096, 20.0281105 , 20.26844978, 20.61326408, 20.6666832 ,  20.92517281, 20.47583771, 20.01085281, 20.09514999, 20.06686401, 0.26904549, 0.11001631,  3.59918336e-02, 1.82811306e-02, 1.92420253e-02, 1.89407734e-02,  1.21151788e-01, 0.26904549, 0.11001631,  3.51856116e-02, 1.89877449e-02, 1.99989864e-02, 1.86457924e-02,  1.46818986e-01, 0.26904549, 0.11001631,  3.47836763e-02, 1.89784407e-02, 2.03441249e-02, 1.85840847e-02, 1.35374368e-01, 0.26904549, 0.11001631,  4.11703787e-02, 1.98799065e-02, 2.19355109e-02, 1.97677378e-02, 1.11970479e-01, 1.),\n",
       "          (28, 'J105331+523753', 163.37843  , 5.2631356e+01, 0.2525969, 1,  19.32292  ,  1.33268762e-01, 18.9781342, 0.07633562, 18.94409, 0.02246018, 18.82757, 0.00880275, 18.48226, 0.00886487, 18.89697, 0.01405142, 18.8326 , 0.04721491, 18.9675, 0.13639376, 19.0095, 0.13854847, 19.02476, 0.02803692, 18.93416, 0.02821845, 18.59033, 0.02174089, 19.04239, 0.0175362 , 18.90897, 0.04898025, 18.85398213, 0.16367866, 19.11423604, 0.03805043,  18.98326413,  1.35332581e-02, 18.81684605, 0.00392058, 18.47627179, 5.09847349e-03, 18.84803692, 1.09287858e-02, 18.77877919, 0.04501081, 18.88931836, 0.14956207, 19.07834805, 0.03598847,  18.98774136,  1.44483755e-02, 18.81761159, 4.11659118e-03, 18.47765912, 5.46357967e-03, 18.83885564, 1.18735220e-02, 18.74704732, 0.04543572, 18.95060391, 0.14521304, 19.04678196, 0.0351112 ,  18.98710484,  1.64822074e-02, 18.81226391, 4.61290895e-03, 18.47306675, 6.16581825e-03, 18.81995243, 1.48974551e-02, 18.68938679, 5.65728349e-02, 18.99121837, 0.14401426, 19.02535419, 0.03473913, 18.98786716, 1.65399610e-02, 18.80783443, 5.14090922e-03, 18.46980266, 6.72933569e-03, 18.79912739, 1.44592994e-02,  18.61359196,  4.85022895e-02, 18.97894287, 18.96725273,  18.90967751, 18.71904755, 18.36236572, 18.6354866 ,  18.11234856, 18.99767303, 18.96904373,  18.92512703, 18.73667908, 18.40274239, 18.65163994,  18.20675659, 19.00448418, 18.98262215,  18.94154358, 18.76805305, 18.4215374 , 18.6823349 , 18.27144814, 19.02769661, 18.99577141,  18.97616768, 18.78886795, 18.44661331, 18.69081879, 18.33023453, 0.14401426, 0.03473913,  1.41577088e-02, 4.35772219e-03, 5.60701575e-03, 1.14399808e-02,  2.81189590e-02, 0.14401426, 0.03473913,  1.43606066e-02, 4.42906600e-03, 5.81945670e-03, 1.16114547e-02,  3.06734378e-02, 0.14401426, 0.03473913,  1.45793917e-02, 4.55891760e-03, 5.92107342e-03, 1.19444076e-02, 3.25566020e-02, 0.14401426, 0.03473913,  1.50518210e-02, 4.64716081e-03, 6.05941659e-03, 1.20381062e-02, 3.43679499e-02, 1.),\n",
       "          (29, 'J105525+485724', 163.85467  , 4.8956694e+01, 0.3801409, 0,  21.318346 ,  3.31431772e-01, 21.5969486, 0.32685276, 20.55776, 0.07938955, 20.43059, 0.02904294, 19.87632, 0.02394271, 19.76105, 0.0320734 , 19.7354 , 0.11242805, 21.2503, 0.28692862, 21.3879, 0.30286864, 20.72785, 0.08123478, 20.57305, 0.04338712, 20.09162, 0.03006629, 19.98312, 0.03573785, 19.85005, 0.1070041 , 21.15223424, 0.34785703, 21.31951062, 0.24760351,  20.84907452,  8.99342515e-02, 20.63464467, 0.02546705, 19.93323819, 2.06985391e-02, 19.96468274, 3.29079519e-02, 20.35554616, 0.11791668, 21.1578082 , 0.31450198, 21.39975537, 0.22990977,  20.8524474 ,  8.68169254e-02, 20.6189269 , 2.51758368e-02, 19.90683545, 2.20121957e-02, 19.95433034, 3.37640643e-02, 20.39200581, 0.11332821, 21.11732716, 0.29851163, 21.38296169, 0.21496797,  20.85098881,  8.59849368e-02, 20.59831661, 2.64058531e-02, 19.87775654, 2.32351239e-02, 19.94142384, 3.56153302e-02, 20.44547695, 1.12424742e-01, 21.10705738, 0.29851163, 21.30358867, 0.20075789, 20.85195522, 8.65916149e-02, 20.58213787, 2.61737087e-02, 19.85707645, 2.09577757e-02, 19.93589191, 3.96834142e-02,  20.52597599,  1.12377606e-01, 21.17790794, 21.03835297,  20.79642677, 20.56718636, 19.81002617, 19.96373749,  20.5411644 , 21.18030739, 21.06699181,  20.82567215, 20.5662384 , 19.80172157, 19.95976639,  20.77121353, 21.18573761, 21.19317436,  20.87081146, 20.58806801, 19.84776878, 19.93342209, 20.45080376, 21.19884872, 21.2779007 ,  20.91290665, 20.60771561, 19.86950302, 19.93590927, 20.42428017, 0.29851163, 0.19951279,  8.93860034e-02, 2.37475613e-02, 1.84611790e-02, 3.74525695e-02,  1.12356002e-01, 0.29851163, 0.19951279,  9.18264237e-02, 2.37268365e-02, 1.83205115e-02, 3.73158363e-02,  1.14001157e-01, 0.29851163, 0.19951279,  8.90366357e-02, 2.42087117e-02, 1.91142156e-02, 3.64213013e-02, 1.12974286e-01, 0.29851163, 0.19951279,  8.72237164e-02, 2.46507830e-02, 1.95006988e-02, 3.65048301e-02, 1.13237098e-01, 0.),\n",
       "          (30, 'J110452+475204', 166.21768  , 4.7867846e+01, 0.280054 , 0,  20.3117828,  2.17786973e-01, 20.9059849, 0.19454974, 20.93854, 0.06759027, 20.82549, 0.02770145, 20.45478, 0.02705105, 20.9638 , 0.05583634, 20.77874, 0.17622988, 20.9947, 0.25209796, 21.0169, 0.25432326, 21.01028, 0.06376975, 20.89224, 0.02924699, 20.56951, 0.02774276, 21.06973, 0.05667163, 20.80825, 0.1688712 , 21.19389836, 0.3448698 , 21.18958394, 0.06704159,  21.33005444,  7.29323697e-02, 20.89805714, 0.01986858, 20.49092404, 2.04985073e-02, 20.86078183, 5.64900911e-02, 20.5695583 , 0.17545533, 21.0546378 , 0.29391492, 21.14191808, 0.05986021,  21.34611882,  6.88934010e-02, 20.81530751, 2.01327041e-02, 20.42271985, 2.07593535e-02, 20.75062741, 6.46812518e-02, 20.43924321, 0.17054225, 20.94844097, 0.27034477, 21.10502285, 0.05641394,  21.38354534,  6.71928228e-02, 20.73230976, 2.52545163e-02, 20.35673946, 2.79259779e-02, 20.64467091, 8.40214271e-02, 20.31502766, 1.69121631e-01, 20.90813808, 0.27034477, 21.0480669 , 0.05452681, 21.44699459, 6.68113420e-02, 20.65940075, 2.68310884e-02, 20.30306225, 3.06108128e-02, 20.55472164, 7.11021244e-02,  20.20444469,  1.78803337e-01, 20.8919239 , 20.94800186,  21.48152542, 20.43932152, 20.11400795, 20.11860847,  19.66682625, 20.91469002, 20.97592926,  21.50640869, 20.46494675, 20.13186455, 20.19490051,  19.92666054, 20.98128128, 20.99931717,  21.46569824, 20.50648308, 20.17139435, 20.25956154, 20.07136536, 21.01355362, 21.04699326,  21.45958519, 20.56558037, 20.22244835, 20.35232162, 20.10641479, 0.27034477, 0.05452681,  6.60921281e-02, 2.01530581e-02, 2.36585161e-02, 4.37695085e-02,  1.00244973e-01, 0.27034477, 0.05452681,  6.64022046e-02, 2.06343622e-02, 2.40508340e-02, 4.69557179e-02,  1.27349228e-01, 0.27034477, 0.05452681,  6.59028738e-02, 2.14390522e-02, 2.49426195e-02, 4.98371152e-02, 1.45505110e-01, 0.27034477, 0.05452681,  6.58315439e-02, 2.26383358e-02, 2.61434959e-02, 5.42821362e-02, 1.50278905e-01, 1.),\n",
       "          (31, 'J112224+412052', 170.60134  , 4.1347881e+01, 0.3047991, 0,  21.7858028,  4.50786274e-01, 21.93069  , 0.41206754, 21.97289, 0.19139068, 21.65846, 0.05716064, 20.77323, 0.03935823, 21.94306, 0.13883843, 21.11701, 0.24836268, 20.5758, 0.22346122, 21.4004, 0.30946766, 22.00723, 0.1798519 , 21.67972, 0.05736617, 20.81851, 0.03899335, 21.98112, 0.1390067 , 21.18347, 0.2485654 , 20.54389302, 0.27906103, 21.35253254, 0.23628375,  22.44699017,  2.33044108e-01, 21.68775288, 0.05211222, 20.68433873, 3.56693203e-02, 22.20618359, 1.41800700e-01, 20.21790425, 0.31179339, 20.59202946, 0.25667742, 21.44157399, 0.21999341,  22.50501622,  2.21383041e-01, 21.73175992, 5.37795664e-02, 20.68463124, 3.94315289e-02, 22.15636624, 1.39352151e-01, 20.13563908, 0.22921675, 20.64072842, 0.24644529, 21.41454357, 0.20462319,  22.53272862,  2.14919845e-01, 21.78004116, 5.66063917e-02, 20.67953533, 5.16548622e-02, 22.07803768, 2.15671618e-01, 20.03812832, 1.82149797e-01, 20.68871097, 0.24491608, 21.34978466, 0.19653117, 22.5163248 , 2.09938825e-01, 21.83278065, 5.80649530e-02, 20.67700939, 5.17660352e-02, 21.98204975, 1.81497252e-01,  19.93696766,  1.52558586e-01, 20.72491455, 21.25067329,  22.44612885, 21.79008675, 20.58195305, 22.02045822,  20.06812668, 20.72418976, 21.34704971,  22.35341072, 21.82216835, 20.64567184, 22.11665535,  20.12645149, 20.80936623, 21.52073288,  22.60519791, 21.93541908, 20.80520439, 22.1812973 , 20.16728783, 20.83828545, 21.6233654 ,  22.73188591, 21.96350288, 20.8753376 , 22.28145027, 20.25409317, 0.24491608, 0.19653117,  2.03935076e-01, 6.37789360e-02, 4.36271383e-02, 1.72968812e-01,  1.58356037e-01, 0.24491608, 0.19653117,  2.01487788e-01, 6.25045273e-02, 4.62641135e-02, 1.88993407e-01,  1.67095421e-01, 0.24514352, 0.19840202,  2.09861774e-01, 5.75886418e-02, 5.35867309e-02, 2.00587301e-01, 1.73499842e-01, 0.24797065, 0.20684974,  2.15771358e-01, 5.65549669e-02, 4.76437551e-02, 2.19970591e-01, 1.87940865e-01, 1.),\n",
       "          (32, 'J112848+524509', 172.1983   , 5.2752600e+01, 0.3643955, 0,  20.83382  ,  2.92803464e-01, 21.2273178, 0.17204288, 21.13713, 0.09253888, 20.87937, 0.02945897, 20.63177, 0.03166858, 20.63867, 0.0455111 , 20.41871, 0.1260243 , 21.1277, 0.27541891, 21.2284, 0.28656955, 21.15544, 0.0868879 , 20.92393, 0.03669796, 20.67601, 0.03784031, 20.73377, 0.04591511, 20.45133, 0.1244178 , 21.15472905, 0.35071781, 21.20295826, 0.15976112,  21.24648205,  8.81666211e-02, 20.88164822, 0.0230731 , 20.47718541, 2.59649350e-02, 20.57471196, 4.46275733e-02, 20.21798817, 0.12194232, 21.15846242, 0.31786136, 21.13249577, 0.13913628,  21.29878224,  8.96336017e-02, 20.89169873, 2.33817860e-02, 20.46794308, 3.37411458e-02, 20.58328236, 4.54425814e-02, 20.21244229, 0.22323766, 21.07029957, 0.30147989, 21.08760685, 0.12862007,  21.36290211,  9.21679101e-02, 20.89709896, 2.57276014e-02, 20.45351261, 3.94299555e-02, 20.5857262 , 5.14313267e-02, 20.19759411, 1.66171786e-01, 21.03908138, 0.30147989, 21.02995472, 0.12683558, 21.44655399, 9.24233549e-02, 20.90637188, 3.02600820e-02, 20.44783764, 3.60602329e-02, 20.59147434, 5.90502300e-02,  20.18217258,  1.50612462e-01, 21.12522316, 21.04054642,  21.66261673, 20.86242867, 20.49474716, 20.61453056,  20.33541679, 21.14916229, 21.07900238,  21.70995903, 20.93107414, 20.51772499, 20.67331505,  20.26232147, 21.16610146, 21.14390564,  21.56528854, 21.00947571, 20.54306221, 20.6683712 , 20.25248337, 21.19911385, 21.20534325,  21.56064224, 21.05632019, 20.56061935, 20.72529411, 20.3700676 , 0.30147989, 0.12683558,  8.90410723e-02, 2.98816351e-02, 3.46359175e-02, 6.44865770e-02,  1.59548583e-01, 0.30147989, 0.12683558,  8.83988261e-02, 3.18318991e-02, 3.53767414e-02, 5.97647927e-02,  1.49160841e-01, 0.30147989, 0.12683558,  9.15000234e-02, 2.92895599e-02, 3.62120170e-02, 6.01495902e-02, 1.47815365e-01, 0.30147989, 0.12683558,  9.16497154e-02, 2.65926995e-02, 3.68023518e-02, 5.50361696e-02, 1.64722632e-01, 1.),\n",
       "          (33, 'J112933+493525', 172.38684  , 4.9590178e+01, 0.3450896, 1, -99.       , -9.90000000e+01, 21.1571064, 0.07214111, 21.48176, 0.10707707, 21.21152, 0.03487341, 20.82492, 0.03629377, 21.31993, 0.07785404, 20.94331, 0.21920671, 21.123 , 0.17173244, 21.3565, 0.18817665, 21.50978, 0.09466118, 21.30075, 0.03729685, 20.95189, 0.03957988, 21.44592, 0.08613838, 21.00367, 0.2006173 , 21.0706989 , 0.21249673, 21.48306767, 0.07560443,  21.68306271,  1.06957694e-01, 20.95701138, 0.02886614, 20.49630658, 3.36087743e-02, 20.92954365, 1.13176427e-01, 21.26125256, 0.23354223, 21.0498351 , 0.18875049, 21.39489926, 0.06600632,  21.70516194,  1.04875493e-01, 20.89762868, 4.22960804e-02, 20.43547238, 4.43937659e-02, 20.86219205, 1.04730035e-01, 21.21487225, 0.23184925, 21.05067295, 0.17937308, 21.33780331, 0.06162413,  21.72491116,  1.05165619e-01, 20.82803959, 3.44866600e-02, 20.36243671, 3.60823129e-02, 20.77629894, 8.41202694e-02, 21.1753735 , 2.45174558e-01, 21.08592777, 0.17748977, 21.3228014 , 0.05995656, 21.71429806, 1.61988759e-01, 20.76591282, 2.99414382e-02, 20.29326992, 3.11243206e-02, 20.7018774 , 7.22111511e-02,  21.27061825,  2.44493985e-01, 21.14358521, 21.20558357,  21.76540565, 20.67074776, 20.20040894, 20.43410492,  21.58553505, 21.1662159 , 21.26537895,  21.67788124, 20.72171021, 20.25963211, 20.52791977,  21.70560265, 21.19253922, 21.35039711,  21.65875816, 20.78530121, 20.32562065, 20.66444588, 21.77217293, 21.21078873, 21.45338249,  21.65317726, 20.8376503 , 20.37748909, 20.74578667, 21.50405312, 0.17748977, 0.05995656,  1.87257267e-01, 2.52313793e-02, 2.62839024e-02, 5.19074428e-02,  2.31348051e-01, 0.17748977, 0.05995656,  1.72754320e-01, 2.64439283e-02, 2.77574212e-02, 5.65920693e-02,  2.31416939e-01, 0.17748977, 0.05995656,  1.69738236e-01, 2.80389904e-02, 2.94967748e-02, 6.41750207e-02, 2.32177043e-01, 0.17809316, 0.06028466,  1.68867986e-01, 2.94240201e-02, 3.09401139e-02, 6.91675405e-02, 2.32975715e-01, 1.),\n",
       "          (34, 'J113304+651341', 173.2658   , 6.5228161e+01, 0.2414122, 0,  19.628994 ,  1.61169717e-01, 19.80439  , 0.12623585, 20.11768, 0.04627295, 20.08171, 0.01901771, 19.64132, 0.01764386, 19.95943, 0.03133562, 19.98493, 0.10678326, 19.8733, 0.06873224, 20.1095, 0.07200239, 20.27214, 0.04551821, 20.20501, 0.02581738, 19.79847, 0.02185749, 20.11364, 0.03086144, 20.1016 , 0.1046907 , 19.80396191, 0.07677375, 20.1365749 , 0.04904019,  20.17172734,  3.70788659e-02, 20.05778233, 0.01399095, 19.62051121, 1.29413144e-02, 20.01072995, 2.75467309e-02, 20.01112095, 0.10095808, 19.82888402, 0.07241989, 20.13854016, 0.04544157,  20.19312085,  3.66906014e-02, 20.07183064, 1.43481695e-02, 19.63273801, 1.33404677e-02, 20.03529729, 2.78886868e-02, 20.05735387, 0.09660523, 19.84870953, 0.07084793, 20.15276951, 0.04404823,  20.21317143,  3.83835376e-02, 20.08472866, 1.55913988e-02, 19.63988346, 1.50064507e-02, 20.05899281, 2.98927636e-02, 20.12324375, 9.61737250e-02, 19.85637455, 0.07011887, 20.1620615 , 0.04358258, 20.23610477, 4.03422244e-02, 20.10358791, 1.68742518e-02, 19.65042667, 1.68423422e-02, 20.08878879, 3.25609354e-02,  20.2225893 ,  9.61615813e-02, 19.71291161, 19.98761749,  20.5050869 , 19.70558167, 19.05184174, 19.30987358,  19.18391418, 19.92042732, 20.2207222 ,  20.37464905, 20.18054008, 19.70672798, 20.15814972,  20.27226448, 19.95048332, 20.25292969,  20.37648201, 20.2040062 , 19.73771477, 20.18457031, 20.28611374, 19.98206902, 20.2869091 ,  20.37322426, 20.22652245, 19.76831436, 20.20692062, 20.31813431, 0.07011887, 0.04358258,  3.68302298e-02, 1.32994774e-02, 1.11857528e-02, 2.32066997e-02,  5.02417526e-02, 0.07011887, 0.04358258,  3.88678783e-02, 1.71786687e-02, 1.79353569e-02, 3.41231340e-02,  9.63750038e-02, 0.07011887, 0.04358258,  3.88215478e-02, 1.66695462e-02, 1.69404666e-02, 3.22548591e-02, 9.62584143e-02, 0.07028053, 0.04358258,  3.89043326e-02, 1.62329704e-02, 1.61164049e-02, 3.11275378e-02, 9.61604042e-02, 0.),\n",
       "          (35, 'J115855+312559', 179.72834  , 3.1433100e+01, 0.243033 , 0, -99.       , -9.90000000e+01, 19.3653278, 0.02532968, 19.24629, 0.02707824, 19.02642, 0.01069805, 18.65189, 0.009934  , 18.81554, 0.0139171 , 18.83512, 0.04203723, 19.2572, 0.13283132, 19.2944, 0.13467351, 19.44715, 0.03350141, 19.29334, 0.03499981, 18.94719, 0.01767249, 19.1538 , 0.02345297, 19.13219, 0.04431387, 19.26931111, 0.16749404, 19.35081593, 0.04119234,  19.30396382,  1.75815396e-02, 19.06106679, 0.00770617, 18.66892926, 6.33463624e-03, 18.82385556, 9.94821583e-03, 18.78589551, 0.03923096, 19.30160893, 0.15272316, 19.38921727, 0.03910374,  19.30271901,  1.78919938e-02, 19.06362523, 7.90251028e-03, 18.67056264, 6.70443963e-03, 18.82370557, 1.05507120e-02, 18.79371632, 0.04069036, 19.29664845, 0.14396539, 19.39675945, 0.03813801,  19.29530376,  1.95382694e-02, 19.06300396, 8.43551370e-03, 18.66865772, 7.40474493e-03, 18.8202557 , 1.15446692e-02, 18.80040974, 4.21993508e-02, 19.28822307, 0.13908707, 19.40472584, 0.03769514, 19.28803997, 1.83948250e-02, 19.0663126 , 8.97672809e-03, 18.67054539, 7.67541340e-03, 18.82104282, 1.20963472e-02,  18.81196003,  4.33813276e-02, 19.27766037, 19.40844154,  19.21941757, 19.05817795, 18.63808823, 18.72128296,  18.82580566, 19.28245735, 19.41189766,  19.23083115, 19.06461716, 18.64525795, 18.73581886,  18.80553818, 19.30094337, 19.42046165,  19.25378418, 19.08047104, 18.65996933, 18.7597599 , 18.78270912, 19.31565666, 19.43006706,  19.27732849, 19.08853722, 18.67498589, 18.79265976, 18.80988312, 0.1383862 , 0.03769514,  1.58847747e-02, 8.19593621e-03, 6.85256670e-03, 1.01504350e-02,  4.24860637e-02, 0.1383862 , 0.03769514,  1.60526409e-02, 8.24468853e-03, 6.89796777e-03, 1.02872435e-02,  4.17003309e-02, 0.1383862 , 0.03769514,  1.63956147e-02, 8.36596043e-03, 6.99206912e-03, 1.05166019e-02, 4.08326794e-02, 0.1383862 , 0.03769514,  1.67550384e-02, 8.42834447e-03, 7.08944659e-03, 1.08401521e-02, 4.18675432e-02, 0.),\n",
       "          (36, 'J115959+38242', 179.99524  , 3.8406102e+01, 0.2678905, 0,  20.8114   ,  2.76620791e-01, 22.2806263, 0.48916466, 21.85498, 0.1438972 , 21.46125, 0.04368961, 20.52035, 0.03198264, 21.77001, 0.14145542, 21.11044, 0.25263462, 20.7084, 0.2384939 , 21.5854, 0.33675585, 21.86324, 0.133836  , 21.51743, 0.04620519, 20.55782, 0.0327935 , 21.75145, 0.1299171 , 21.11645, 0.2434647 , 20.77101628, 0.30908896, 21.57629696, 0.28577576,  22.22538296,  1.57302145e-01, 21.49143139, 0.03916173, 20.42928807, 2.73127238e-02, 21.84084622, 1.33120906e-01, 21.6331474 , 0.27699164, 20.82617558, 0.28490718, 21.65992345, 0.26481935,  22.30557813,  1.52812167e-01, 21.53874005, 4.04759623e-02, 20.41378392, 3.11602973e-02, 21.81711568, 1.62053736e-01, 21.59062375, 0.26986248, 20.86506695, 0.27264194, 21.70668644, 0.25422164,  22.40518993,  1.52190908e-01, 21.5987286 , 4.17160029e-02, 20.38824314, 3.77513412e-02, 21.78529591, 2.24845959e-01, 21.53118176, 2.67574759e-01, 20.87729816, 0.2643728 , 21.68525677, 0.24946438, 22.51844768, 1.52402079e-01, 21.67635898, 4.19004070e-02, 20.35888653, 3.37801807e-02, 21.7548502 , 2.00992121e-01,  21.47233753,  2.72893812e-01, 20.79030037, 21.33628845, -99.        , 21.9720192 , 20.19521713, 21.73835754,  20.99701309, 20.8532505 , 21.46956062, -99.        , 21.91356659, 20.23715401, 21.7914257 ,  20.9508152 , 20.98608398, 21.84658623,  22.72606277, 21.76580811, 20.44110298, 21.83914566, 21.48496056, 21.01730347, 21.87455559,  22.58829308, 21.77769279, 20.51564407, 21.89954948, 21.63155746, 0.26193572, 0.24946438, -9.90000000e+01, 3.94961505e-02, 2.67256681e-02, 1.82102677e-01,  2.08193998e-01, 0.26193572, 0.24946438, -9.90000000e+01, 3.99943856e-02, 2.77781501e-02, 1.91224527e-01,  1.99521200e-01, 0.2662563 , 0.24991339,  1.54588236e-01, 4.19168281e-02, 3.35183715e-02, 1.99816606e-01, 2.85076325e-01, 0.26951607, 0.25278777,  1.52199850e-01, 4.17566005e-02, 3.59004049e-02, 2.11248244e-01, 2.69075786e-01, 1.),\n",
       "          (37, 'J120934+305326', 182.3937   , 3.0890605e+01, 0.2193171, 0,  19.4467945,  3.38434785e-02, 19.30394  , 0.01959342, 19.337  , 0.02493659, 19.14828, 0.00936706, 18.71404, 0.00927794, 18.93837, 0.01497092, 19.36974, 0.06962556, 19.3774, 0.06121423, 19.5508, 0.06252267, 19.41011, 0.03314644, 19.22757, 0.0189972 , 18.80659, 0.02095131, 19.0398 , 0.02242655, 19.39953, 0.06932599, 19.41298596, 0.06713232, 19.74323575, 0.03878879,  19.36000172,  1.42520139e-02, 19.19280736, 0.003827  , 18.73143879, 4.39051374e-03, 18.94621769, 1.11104908e-02, 19.48686711, 0.06808668, 19.45292844, 0.06438662, 19.66943539, 0.03627271,  19.35698308,  1.44839233e-02, 19.18899907, 3.84400160e-03, 18.72584332, 4.48163684e-03, 18.94167889, 1.16035135e-02, 19.48538197, 0.06702363, 19.46391529, 0.06320911, 19.6055798 , 0.03524255,  19.35199589,  1.59346271e-02, 19.18347019, 4.28297390e-03, 18.71655506, 5.34699370e-03, 18.93646091, 1.37793264e-02, 19.47975964, 6.98939673e-02, 19.47333126, 0.06270081, 19.556917  , 0.03483659, 19.35246067, 1.78821062e-02, 19.18382816, 4.97133213e-03, 18.71110897, 6.74758865e-03, 18.9380701 , 1.71623711e-02,  19.47498112,  7.51367566e-02, 19.41913986, 19.38344955,  19.27870941, 19.14993095, 18.55493927, 18.8062458 ,  19.25739288, 19.44242096, 19.41653442,  19.29449654, 19.14678955, 18.57694435, 18.89303017,  19.23924255, 19.46746826, 19.44831848,  19.31599236, 19.16101074, 18.60711861, 18.89257431, 19.14983559, 19.48177528, 19.47861671,  19.33040047, 19.17026711, 18.63101959, 18.90579796, 19.16746712, 0.06269525, 0.03483659,  1.84045217e-02, 5.68219186e-03, 6.31533260e-03, 1.61265336e-02,  9.55199531e-02, 0.06269525, 0.03483659,  1.86740873e-02, 5.66577512e-03, 6.44463403e-03, 1.74684661e-02,  9.39364122e-02, 0.06269525, 0.03483659,  1.90474882e-02, 5.74047473e-03, 6.62625221e-03, 1.74611334e-02, 8.65109700e-02, 0.06269525, 0.03483659,  1.93019398e-02, 5.78962393e-03, 6.77373740e-03, 1.76751004e-02, 8.79273115e-02, 1.),\n",
       "          (38, 'J121915+453930', 184.8111   , 4.5658234e+01, 0.3038046, 1,  21.0821171,  1.31205575e-01, 21.2712536, 0.06674505, 21.33541, 0.12027291, 21.05005, 0.03729669, 20.62755, 0.03627842, 20.9945 , 0.07287818, 21.18858, 0.26452752, 21.5014, 0.10603954, 21.2897, 0.09894596, 21.3221 , 0.08427943, 21.14433, 0.03966713, 20.73337, 0.0381823 , 21.09913, 0.07947075, 21.17932, 0.2487753 , 21.41116253, 0.12621442, 21.34502331, 0.05602891,  21.63998715,  1.33934514e-01, 21.02617184, 0.02970633, 20.48771779, 3.01608486e-02, 20.66264836, 6.83473266e-02, 20.72371975, 0.37200317, 21.41116704, 0.11473951, 21.37632169, 0.05185096,  21.66576566,  1.26458424e-01, 21.00127972, 3.09086223e-02, 20.44432057, 3.57096352e-02, 20.59687794, 8.35604632e-02, 20.64321126, 0.24294761, 21.33002132, 0.10657489, 21.38976139, 0.04988631,  21.68514866,  1.24319167e-01, 20.96743626, 3.91763871e-02, 20.3887524 , 3.36946896e-02, 20.51649326, 6.88682809e-02, 20.55106968, 1.94018280e-01, 21.24382572, 0.10488049, 21.39417057, 0.0488496 , 21.68978863, 1.24429662e-01, 20.931114  , 3.48311418e-02, 20.32842045, 2.93022458e-02, 20.43171482, 5.85571720e-02,  20.45981388,  1.63988185e-01, 21.14800453, 21.39467049,  21.52202988, 20.80550575, 20.16521454, 20.2511673 ,  20.20692253, 21.16242027, 21.40011215,  21.50639534, 20.83150864, 20.17100525, 20.27521706,  20.21546555, 21.21868134, 21.4314785 ,  21.57186127, 20.86898994, 20.2094593 , 20.33848763, 20.2365036 , 21.27894211, 21.46657753,  21.66812134, 20.91839027, 20.26446724, 20.35083771, 20.23743629, 0.10488049, 0.0488496 ,  1.33661866e-01, 2.85403155e-02, 2.31927850e-02, 4.56137150e-02,  1.19506184e-01, 0.10488049, 0.0488496 ,  1.31750935e-01, 2.92320938e-02, 2.33168128e-02, 4.66353616e-02,  1.20450217e-01, 0.10488049, 0.0488496 ,  1.37490866e-01, 3.02588519e-02, 2.41574344e-02, 4.94337522e-02, 1.22806911e-01, 0.10488049, 0.0488496 ,  1.27973961e-01, 3.16674124e-02, 2.54128857e-02, 4.99992637e-02, 1.22912453e-01, 1.),\n",
       "          (39, 'J123519+063556', 188.82712  , 6.5990045e+00, 0.3327215, 0,  20.85333  ,  2.72073789e-01, 20.5553913, 0.14148327, 20.69683, 0.07599554, 20.67203, 0.03437819, 20.18436, 0.02757183, 20.93474, 0.06932728, 20.38007, 0.17488723, 20.6733, 0.08764352, 20.582 , 0.08541747, 20.73045, 0.07528644, 20.69219, 0.04110948, 20.23781, 0.02896769, 20.95927, 0.06819865, 20.35428, 0.1677581 , 20.64171139, 0.10407589, 20.67942349, 0.04744432,  20.70699231,  7.62874654e-02, 20.83236615, 0.03429325, 20.28915898, 2.39464054e-02, 20.94863621, 8.22341171e-02, 20.71940152, 0.2053015 , 20.65829648, 0.09612263, 20.67692746, 0.04398484,  20.68750752,  7.70331336e-02, 20.82251729, 3.25412576e-02, 20.26838673, 2.43518444e-02, 20.93314732, 1.02699268e-01, 20.69457425, 0.19535515, 20.66923183, 0.09243171, 20.66917652, 0.04240863,  20.66260189,  8.02732366e-02, 20.81013721, 3.35993882e-02, 20.23895306, 2.83162757e-02, 20.90935177, 1.06034287e-01, 20.62726063, 1.90137552e-01, 20.66963939, 0.09136884, 20.66620617, 0.04156425, 20.637821  , 8.63651048e-02, 20.80210285, 3.86110835e-02, 20.20724087, 3.60992672e-02, 20.87848263, 9.47481838e-02,  20.51984577,  2.69946303e-01, 20.6057415 , 20.66424751,  20.52018738, 20.72335434, 20.03848648, 20.4137001 ,  20.82042885, 20.63362885, 20.68738747,  20.58063316, 20.76556015, 20.07773781, 20.53501892,  20.57210732, 20.69474983, 20.7173233 ,  20.65695   , 20.85037041, 20.15956497, 20.69803619, 20.46152496, 20.7463932 , 20.75151253,  20.73633766, 20.91883469, 20.23536873, 20.83400536, 20.46768761, 0.09136884, 0.04156425,  7.12884566e-02, 3.91830648e-02, 2.84269975e-02, 5.68057429e-02,  1.90509461e-01, 0.09136884, 0.04156425,  7.53698284e-02, 4.07362199e-02, 2.94734872e-02, 6.35213575e-02,  2.60565169e-01, 0.09136884, 0.04156425,  8.08582355e-02, 4.23859720e-02, 3.17806216e-02, 7.38119502e-02, 2.14382205e-01, 0.09136884, 0.04156425,  8.69920021e-02, 3.67611563e-02, 3.40787684e-02, 8.36593228e-02, 2.17280202e-01, 1.),\n",
       "          (40, 'J124033+212716', 190.13664  , 2.1454358e+01, 0.2833736, 0,  21.4949474,  4.19657754e-01, 21.1662369, 0.29614113, 21.12954, 0.07573466, 21.00947, 0.03358263, 20.38968, 0.02604688, 21.23955, 0.07172791, 20.3604 , 0.12019111, 21.0009, 0.28702098, 21.0541, 0.29309069, 21.17015, 0.07115373, 21.04363, 0.03783365, 20.43962, 0.03579412, 21.29756, 0.07264955, 20.36231, 0.1163778 , 21.18342511, 0.38864538, 21.01217381, 0.23364344,  21.12827603,  6.15028631e-02, 21.05500523, 0.0333339 , 20.41278187, 2.18136607e-02, 21.02041356, 7.10698142e-02, 20.46655194, 0.12607645, 21.14871014, 0.34599033, 21.04060925, 0.21188524,  21.11517514,  6.37641117e-02, 21.0710658 , 3.43405607e-02, 20.43619145, 2.23183001e-02, 20.9922141 , 8.75526659e-02, 20.5330428 , 0.12176978, 21.19429821, 0.33245828, 21.01624149, 0.19766363,  21.0872311 ,  9.38240421e-02, 21.085257  , 3.83613364e-02, 20.45657391, 2.39442836e-02, 20.95009464, 9.96178030e-02, 20.6181702 , 1.20559022e-01, 21.2193201 , 0.32743744, 20.91246395, 0.18944503, 21.05175762, 8.34827941e-02, 21.10486584, 4.19609636e-02, 20.47980099, 2.57123613e-02, 20.9019659 , 8.76108095e-02,  20.73025303,  1.20912384e-01, 21.37623215, 21.05025673,  21.19677162, 21.24807358, 20.57069969, 21.04371452,  20.82004166, 21.37885284, 21.09890938,  21.23016548, 21.2535305 , 20.59457397, 21.08805847,  20.78406334, 21.39055443, 21.22223663,  21.2730751 , 21.28531456, 20.63726234, 21.15189362, 20.80970764, 21.40134621, 21.2743988 ,  21.32313728, 21.30919838, 20.67086792, 21.19415283, 20.82168007, 0.33245215, 0.18944503,  8.77681483e-02, 3.91895991e-02, 2.57049030e-02, 9.18314624e-02,  1.20897045e-01, 0.33277622, 0.18994161,  9.05095654e-02, 3.89462238e-02, 2.50016916e-02, 9.56597144e-02,  1.20301160e-01, 0.33422149, 0.19952014,  9.41582392e-02, 3.76405594e-02, 2.39709203e-02, 1.01452590e-01, 1.20718859e-01, 0.3355576 , 0.2036038 ,  9.86014270e-02, 3.67598444e-02, 2.33633064e-02, 1.02694366e-01, 1.20925782e-01, 1.),\n",
       "          (41, 'J124423+021540', 191.0974   , 2.2612393e+00, 0.2393777, 0, -99.       , -9.90000000e+01, 19.8266735, 0.03237301, 19.54688, 0.0278724 , 19.23489, 0.01035042, 18.45345, 0.00804032, 18.89958, 0.01336084, 19.24766, 0.04513265, 20.0682, 0.20711437, 19.7863, 0.18532447, 19.6967 , 0.03394216, 19.4048 , 0.0191754 , 18.61452, 0.0202706 , 19.09726, 0.0262    , 19.42649, 0.05771378, 20.00357548, 0.25536616, 19.93939892, 0.04565594,  19.61738888,  1.60664077e-02, 19.21126668, 0.00497029, 18.45708195, 3.50169753e-03, 18.87323109, 9.10104858e-03, 19.34727971, 0.04015893, 20.02910794, 0.23276865, 19.90071667, 0.04199726,  19.64425839,  1.61161618e-02, 19.21957196, 5.09723017e-03, 18.46972836, 3.62964742e-03, 18.88050259, 9.83764393e-03, 19.40188016, 0.03953803, 19.9982552 , 0.21936794, 19.88585133, 0.04064502,  19.67312283,  1.68063257e-02, 19.22347874, 5.60239652e-03, 18.47811741, 4.09476069e-03, 18.88363117, 1.12816787e-02, 19.47195286, 3.99109026e-02, 19.95511036, 0.21936794, 19.86500721, 0.04002978, 19.71116237, 1.73294696e-02, 19.23070888, 6.30701303e-03, 18.49100094, 4.57578286e-03, 18.89087276, 1.28103925e-02,  19.56933956,  3.98627200e-02, 19.81718445, 19.82616043,  19.84037399, 19.25163651, 18.48502922, 18.88574982,  20.24123573, 19.84858131, 19.83577156,  19.82715607, 19.23984146, 18.49739647, 18.90058899,  19.95698738, 19.88558388, 19.84442711,  19.8329277 , 19.25189018, 18.50797462, 18.89845276, 19.87228012, 19.90295982, 19.85682297,  19.80773926, 19.25483704, 18.51791191, 18.91227722, 19.82240677, 0.21936794, 0.04002978,  1.69357620e-02, 7.04029632e-03, 5.23699064e-03, 1.31133533e-02,  4.28301350e-02, 0.21936794, 0.04002978,  1.70609700e-02, 6.96422704e-03, 5.29698444e-03, 1.32938088e-02,  4.02596351e-02, 0.21936794, 0.04002978,  1.70051666e-02, 7.04194144e-03, 5.34884434e-03, 1.32676784e-02, 3.97853934e-02, 0.21936794, 0.04002978,  1.72630477e-02, 7.06108031e-03, 5.39802478e-03, 1.34376932e-02, 3.96054685e-02, 0.),\n",
       "          (42, 'J124619+444902', 191.58123  , 4.4817342e+01, 0.3222393, 0, -99.       , -9.90000000e+01, 20.50296  , 0.0358344 , 20.46124, 0.05285939, 20.18449, 0.01780481, 19.49398, 0.01387455, 20.55409, 0.04046644, 19.7098 , 0.07915881, 20.6381, 0.22474591, 20.4113, 0.20544292, 20.52572, 0.05713158, 20.24485, 0.02286066, 19.61103, 0.01767334, 20.68233, 0.0409416 , 19.78613, 0.07841487, 20.57447545, 0.27646929, 20.54582516, 0.04663751,  20.52640263,  1.07103831e-01, 20.2186958 , 0.01450522, 19.4946262 , 2.35922766e-02, 20.58369938, 1.11896408e-01, 20.02494542, 0.28776209, 20.50217046, 0.24293383, 20.52537144, 0.04310389,  20.53413762,  8.48886848e-02, 20.22943867, 1.15284857e-02, 19.50421704, 1.87308287e-02, 20.6199912 , 9.10507810e-02, 20.12808217, 0.24902279, 20.48787922, 0.22953514, 20.511908  , 0.0415498 ,  20.53136868,  7.36086539e-02, 20.2386517 , 1.01075086e-02, 19.51027912, 1.63745160e-02, 20.65621227, 8.18387061e-02, 20.27757305, 2.48440326e-01, 20.48170452, 0.22953514, 20.50861339, 0.04072955, 20.5196188 , 6.69423808e-02, 20.25317745, 9.41730537e-03, 19.51907902, 1.51761168e-02, 20.69973354, 7.83140154e-02,  20.51951389,  2.85410966e-01, 20.45583725, 20.54118347,  20.41997147, 20.2900238 , 19.51604462, 20.66937065,  24.82871246, 20.46171951, 20.55231857,  20.46787643, 20.30007553, 19.52627182, 20.69878578,  22.3680687 , 20.48306656, 20.57178879,  20.53399086, 20.30863953, 19.54430199, 20.74303246, 21.4120903 , 20.53855896, 20.58462143,  20.59605598, 20.32600212, 19.57261658, 20.79236031, 20.91275978, 0.22953514, 0.04068596,  5.61793333e-02, 8.96188886e-03, 1.39213470e-02, 7.00533156e-02,  1.38958284e+01, 0.22953514, 0.04068596,  5.87135809e-02, 9.04524314e-03, 1.40531001e-02, 7.19771667e-02,  1.44087709e+00, 0.22953514, 0.04068596,  6.23999639e-02, 9.11687168e-03, 1.42884200e-02, 7.49710195e-02, 5.97359230e-01, 0.22953514, 0.04068596,  6.60709252e-02, 9.26383647e-03, 1.46659447e-02, 7.84557099e-02, 3.77140672e-01, 1.),\n",
       "          (43, 'J124835+123403', 192.14431  , 1.2567479e+01, 0.2634083, 0, -99.       , -9.90000000e+01, 20.0997066, 0.03929835, 20.14354, 0.04643682, 19.90679, 0.0159917 , 19.30193, 0.01310295, 20.11698, 0.02989438, 19.70044, 0.08312978, 19.8637, 0.0663921 , 20.3181, 0.07231538, 20.16611, 0.0495045 , 19.94381, 0.02144725, 19.35734, 0.02200277, 20.1841 , 0.03663206, 19.70377, 0.07997277, 19.82759015, 0.07391463, 20.46518055, 0.04839433,  20.17105786,  3.82288909e-02, 19.92232815, 0.01103157, 19.28323475, 7.88304061e-03, 20.05553738, 2.68800091e-02, 19.72531048, 0.10321809, 19.85765637, 0.07025048, 20.41570081, 0.04425019,  20.20955075,  3.93002609e-02, 19.93626775, 1.12889106e-02, 19.29298581, 8.37180208e-03, 20.06591023, 2.89749498e-02, 19.80293645, 0.10172401, 19.87803692, 0.0687114 , 20.38131184, 0.04240079,  20.25979084,  4.14260835e-02, 19.94871944, 1.20610311e-02, 19.29969257, 9.88369942e-03, 20.07013935, 3.21195304e-02, 19.91483921, 1.01707839e-01, 19.89375858, 0.06797991, 20.33622341, 0.04146649, 20.33009128, 4.20283230e-02, 19.96405964, 1.29958932e-02, 19.31099491, 1.16021556e-02, 20.07276707, 3.60309464e-02,  20.08395366,  1.01856569e-01, 19.90866661, 20.26519775,  20.58428383, 19.95800591, 19.27205086, 19.9794426 , -99.        , 19.91671753, 20.28689003,  20.54850578, 19.96910477, 19.29131889, 19.99691772,  21.71896553, 19.93111229, 20.32448387,  20.48745346, 19.99855804, 19.31714058, 20.05441856, 21.14381409, 19.94824791, 20.36137199,  20.43099976, 20.01719666, 19.35957146, 20.09179306, 20.36841965, 0.06797991, 0.04146649,  3.88080338e-02, 1.42077565e-02, 1.17382418e-02, 3.52316034e-02, -9.90000000e+01, 0.06797991, 0.04146649,  3.92304793e-02, 1.43537392e-02, 1.19484141e-02, 3.58032507e-02,  1.83601476e-01, 0.06797991, 0.04146649,  4.03117745e-02, 1.43316477e-02, 1.22359851e-02, 3.77505076e-02, 1.21865792e-01, 0.06797991, 0.04146649,  4.17271366e-02, 1.37805734e-02, 1.27236376e-02, 3.90726254e-02, 1.03921087e-01, 1.),\n",
       "          (44, 'J124911+464535', 192.29658  , 4.6759588e+01, 0.3725162, 0, -99.       , -9.90000000e+01, 21.7029076, 0.25912308, 21.34126, 0.10810991, 21.16446, 0.03579518, 21.08284, 0.0483474 , 21.25296, 0.07965532, 20.67296, 0.16291263, 22.042 , 0.34151562, 22.1829, 0.36064137, 21.38582, 0.09911   , 21.29525, 0.04245061, 21.20339, 0.04829298, 21.40826, 0.07768829, 20.79462, 0.1547373 , 22.0418121 , 0.42895608, 21.86956326, 0.21296521,  21.28149525,  8.57823868e-02, 21.20292393, 0.02796871, 21.01609723, 4.26332740e-02, 21.78076283, 7.84976623e-02, 20.69878689, 0.17764918, 22.12313832, 0.39987107, 21.76432027, 0.18321463,  21.23369588,  1.44862737e-01, 21.20300473, 2.90895654e-02, 20.99973859, 4.80385670e-02, 21.89801778, 7.62658387e-02, 20.72942151, 0.18576856, 22.15261311, 0.38459616, 21.66498989, 0.16554851,  21.16563458,  1.18282042e-01, 21.19248623, 3.40712216e-02, 20.96558231, 6.59406896e-02, 22.02591366, 7.59190232e-02, 20.75832409, 3.20736451e-01, 22.19552021, 0.38459616, 21.52215938, 0.15998623, 21.08944492, 1.01371339e-01, 21.17777805, 4.31194328e-02, 20.92181759, 5.82263845e-02, 22.16572933, 7.66260192e-02,  20.78491001,  2.48490390e-01, 22.37468529, 21.95571136,  21.39199448, 21.34908867, 21.13626289, 22.43275833,  20.6298275 , 22.44010735, 22.12539864,  21.5300045 , 21.50725555, 21.27889252, 22.36769676,  20.84806252, 22.54751587, 22.3115921 ,  21.72266388, 21.67418861, 21.46084785, 22.3260498 , 21.10998726, 22.65213966, 22.44874954,  21.84019661, 21.76736832, 21.56231689, 22.25294685, 21.17809677, 0.3883924 , 0.17302058,  1.23216640e-01, 3.51438526e-02, 6.52577815e-02, 7.94661465e-02,  1.98157700e-01, 0.39745913, 0.18522185,  1.39917930e-01, 2.96875477e-02, 5.10906444e-02, 7.83791434e-02,  2.42272968e-01, 0.41397544, 0.19985048,  8.72611170e-02, 2.79301639e-02, 4.38546167e-02, 7.77049536e-02, 1.82346485e-01, 0.43175973, 0.21162846,  8.57693378e-02, 2.79062721e-02, 4.27796129e-02, 7.65744676e-02, 1.79427196e-01, 1.),\n",
       "          (45, 'J125503+255609', 193.76131  , 2.5935913e+01, 0.3119362, 0,  20.5297222,  2.11130313e-01, 20.873003 , 0.13292509, 20.75651, 0.06650624, 20.6745 , 0.02438528, 20.0524 , 0.0221686 , 20.79585, 0.06286619, 20.06045, 0.11581256, 20.5312, 0.199731  , 20.713 , 0.21462054, 20.83276, 0.0684679 , 20.74608, 0.03819003, 20.12447, 0.02546377, 20.85553, 0.08852282, 20.03052, 0.1094867 , 20.45060841, 0.24410156, 20.75477711, 0.12245876,  20.62990681,  6.97274433e-02, 20.66554944, 0.017847  , 20.00509755, 4.15141205e-02, 20.56470982, 1.05870287e-01, 20.09936635, 0.11051352, 20.55036534, 0.22937272, 20.67951955, 0.10645706,  20.5820197 ,  8.11625135e-02, 20.67548741, 1.80387961e-02, 19.99967946, 3.25071886e-02, 20.54832066, 8.70014816e-02, 20.09965695, 0.10537271, 20.60495228, 0.22125904, 20.64202923, 0.09902569,  20.52104229,  7.10452456e-02, 20.68097919, 1.99005321e-02, 19.98575062, 2.78993781e-02, 20.52668995, 7.41414391e-02, 20.10190243, 1.54278817e-01, 20.5837801 , 0.21888117, 20.61084156, 0.09665909, 20.45700435, 6.15732497e-02, 20.68837719, 2.35763283e-02, 19.97195415, 2.53249249e-02, 20.50951557, 6.70908802e-02,  20.11047344,  1.64001086e-01, 20.38239861, 20.45553207,  20.27832031, 20.62303352, 19.84116554, 20.31355095,  19.59119987, 20.45922852, 20.55140686,  20.37538719, 20.68704414, 19.91764259, 20.4251976 ,  19.93432426, 20.54214859, 20.61420822,  20.4468956 , 20.72915649, 19.96874428, 20.52070808, 20.0813942 , 20.60221481, 20.66579247,  20.51882935, 20.76215744, 20.02920914, 20.56583595, 20.13754082, 0.21888117, 0.09665909,  4.80455111e-02, 2.38935297e-02, 2.06522361e-02, 5.15242881e-02,  1.03935075e-01, 0.21888117, 0.09665909,  5.25387299e-02, 2.53445486e-02, 2.21593952e-02, 5.71045431e-02,  1.42564662e-01, 0.21888117, 0.09665909,  5.61155124e-02, 2.62304747e-02, 2.32272918e-02, 6.23555127e-02, 1.63244990e-01, 0.21888117, 0.09665909,  5.99592830e-02, 2.44549105e-02, 2.45575207e-02, 6.50018926e-02, 1.71908959e-01, 1.),\n",
       "          (46, 'J125718+410221', 194.32638  , 4.1039269e+01, 0.3131323, 0,  20.8657532,  2.71842932e-01, 21.14727  , 0.13946955, 21.03509, 0.09571227, 20.79107, 0.03333599, 19.89834, 0.02053326, 21.18171, 0.07848771, 20.15918, 0.11730891, 20.981 , 0.25939231, 20.8342, 0.24474626, 21.01408, 0.09273978, 20.77917, 0.03946757, 19.89417, 0.02727317, 21.18914, 0.0775568 , 20.11606, 0.1132532 , 20.88900487, 0.31588636, 20.86597554, 0.12536137,  20.84352795,  1.02451425e-01, 20.66545788, 0.03398531, 19.89427868, 1.58020531e-02, 20.83900563, 8.32489216e-02, 20.03942792, 0.1307996 , 20.82773961, 0.27866112, 20.89443387, 0.11363354,  20.80960263,  1.26405152e-01, 20.65692128, 3.76882918e-02, 19.90048398, 1.64320237e-02, 20.79854955, 1.21716876e-01, 20.09608067, 0.14459503, 20.79482502, 0.27702949, 20.88996929, 0.10695161,  20.775639  ,  1.12780597e-01, 20.64388126, 4.27402619e-02, 19.90089268, 1.92110744e-02, 20.74677128, 1.02732122e-01, 20.1847691 , 1.47039471e-01, 20.77349453, 0.27702949, 20.86379032, 0.10367473, 20.75283031, 1.01527372e-01, 20.63481312, 3.89656701e-02, 19.90277653, 2.38043963e-02, 20.69943409, 9.04156504e-02,  20.33143215,  1.44976024e-01, 20.82472992, 20.88081932,  20.79747391, 20.66658592, 19.94140625, 20.86425781,  20.72442627, 20.85578537, 20.91703606,  20.80862427, 20.69923973, 19.96525574, 20.86783218,  20.61299324, 20.89514923, 20.9622879 ,  20.83919144, 20.7345314 , 19.99292183, 20.86142349, 20.46649933, 20.92474937, 21.00116158,  20.87024689, 20.76504707, 20.02105522, 20.85502434, 20.39695549, 0.27702949, 0.10367473,  9.73139140e-02, 3.69084350e-02, 2.33779514e-02, 9.68071555e-02,  1.26268132e-01, 0.27702949, 0.10367473,  9.83184639e-02, 3.80353270e-02, 2.38971575e-02, 9.71263812e-02,  1.32157473e-01, 0.27702949, 0.10367473,  1.01125796e-01, 3.92919717e-02, 2.38376671e-02, 9.65547695e-02, 1.42617999e-01, 0.27702949, 0.10399746,  1.04060074e-01, 4.04119765e-02, 2.21693036e-02, 9.59873649e-02, 1.46039382e-01, 1.),\n",
       "          (47, 'J130059+451057', 195.2479   , 4.5182383e+01, 0.3308769, 0,  21.4795113,  3.44835599e-01, 21.8574448, 0.34550362, 21.06518, 0.21668723, 20.4965 , 0.05921824, 19.88722, 0.04970423, 20.09846, 0.09178719, 19.30353, 0.15363542, 21.8185, 0.33820733, 22.15  , 0.3843088 , 22.72634, 0.3306628 , 21.77514, 0.0699756 , 21.27371, 0.05414185, 21.56357, 0.10965   , 20.6958 , 0.1769755 , 21.79528348, 0.42068395, 22.13033787, 0.29385869,  21.3226997 ,  1.88872991e-01, 21.17892186, 0.06985202, 20.49352376, 5.48247467e-02, 20.3913242 , 8.75129151e-02, 20.26824109, 0.26777801, 21.88260258, 0.39392542, 21.92520894, 0.2415878 ,  21.20774068,  1.34025502e-01, 21.11719312, 5.19323860e-02, 20.43652142, 4.09379891e-02, 20.31566037, 6.42328841e-02, 20.20204533, 0.19826562, 21.77868694, 0.35731792, 21.76184505, 0.21359684,  21.08145947,  1.03719785e-01, 21.04922909, 4.24071722e-02, 20.37848133, 3.37362742e-02, 20.24056667, 5.21082626e-02, 20.13381619, 1.61861065e-01, 21.62989979, 0.33802808, 21.58479099, 0.20158451, 20.96265011, 8.54692892e-02, 20.98727588, 3.68239407e-02, 20.33189945, 2.97123221e-02, 20.18114452, 4.53534117e-02,  20.07311802,  1.40713368e-01, 21.35584068, 21.08329964,  20.50165367, 20.79113197, 20.08443832, 20.09438324,  19.37750435, 21.44982719, 21.26507759,  20.58158302, 20.82622147, 20.14974594, 20.09668159,  19.48101616, 21.5809803 , 21.49925995,  20.81978416, 20.93060875, 20.28694534, 20.16571617, 19.78027725, 21.68701172, 21.65442276,  21.00441933, 21.0205555 , 20.34473801, 20.21606445, 20.04709244, 0.33802808, 0.20158451,  5.14216345e-02, 2.82752893e-02, 2.17613835e-02, 3.85158785e-02,  6.82062620e-02, 0.33802808, 0.20158451,  5.53499990e-02, 2.92040346e-02, 2.31105111e-02, 3.85974977e-02,  7.50289680e-02, 0.33802808, 0.20158451,  6.89283804e-02, 3.21512430e-02, 2.62234188e-02, 4.11313516e-02, 9.88401533e-02, 0.33802808, 0.20158451,  8.17056594e-02, 3.49282210e-02, 2.76570832e-02, 4.30836306e-02, 1.26374510e-01, 0.),\n",
       "          (48, 'J130128+510451', 195.36798  , 5.1080884e+01, 0.3477514, 0,  19.8016872,  1.62094605e-01, 19.8830814, 0.08659765, 20.01813, 0.03599466, 19.85353, 0.01543615, 19.52501, 0.01521425, 19.96922, 0.02618939, 19.55761, 0.06626031, 19.7687, 0.16007723, 19.859 , 0.16576755, 20.12394, 0.03294444, 19.95021, 0.02086403, 19.65294, 0.01988295, 20.08006, 0.02882257, 19.57283, 0.0633445 , 19.7198898 , 0.198051  , 19.87453763, 0.09878927,  20.01818768,  2.25826104e-02, 19.82707707, 0.01173186, 19.51204411, 1.07264213e-02, 20.02721135, 2.04939499e-02, 19.49298016, 0.06182795, 19.7152747 , 0.17846418, 19.84906758, 0.08798164,  20.02176465,  2.34555745e-02, 19.83265103, 1.25018396e-02, 19.52496136, 1.12337878e-02, 20.04152287, 2.12590257e-02, 19.46567906, 0.09463311, 19.7519154 , 0.17066617, 19.86326832, 0.0837911 ,  20.01910633,  2.60572823e-02, 19.83404964, 1.45133324e-02, 19.53644413, 1.26931161e-02, 20.05742306, 2.49473639e-02, 19.4230122 , 8.84718044e-02, 19.77710895, 0.16774681, 19.86487369, 0.08267572, 20.01709537, 3.12401786e-02, 19.8398035 , 1.72458139e-02, 19.55537967, 1.40670485e-02, 20.08438282, 2.83670374e-02,  19.37569027,  7.78660854e-02, 19.82603645, 19.9137001 ,  20.06279755, 19.89997101, 19.61736298, 20.14751244,  19.36802292, 19.83921814, 19.92568016,  20.07474136, 19.90753937, 19.62760925, 20.1598053 ,  19.40071106, 19.8551178 , 19.94887161,  20.10077095, 19.92509842, 19.63950729, 20.16988564, 19.44620705, 19.87088013, 19.96344948,  20.1179142 , 19.9404583 , 19.65150261, 20.1810894 , 19.47853088, 0.16774681, 0.08267572,  3.03821223e-02, 1.67681464e-02, 1.47147332e-02, 3.04107611e-02,  7.11239325e-02, 0.16774681, 0.08267572,  3.07181909e-02, 1.68854407e-02, 1.44696874e-02, 2.94282069e-02,  7.32978131e-02, 0.16774681, 0.08267572,  3.14635317e-02, 1.71607404e-02, 1.42056027e-02, 2.87101792e-02, 7.64344971e-02, 0.16774681, 0.08267572,  3.02084801e-02, 1.72669574e-02, 1.39539393e-02, 2.79832947e-02, 7.87442675e-02, 1.),\n",
       "          (49, 'J130559+422638', 196.49715  , 4.2443902e+01, 0.3156838, 0,  22.1773663,  3.96736709e-01, 22.85018  , 0.47669155, 23.62476, 0.79731909, 22.11153, 0.08666444, 21.11753, 0.05654951, 23.36637, 0.54152256, 21.1621 , 0.25094177, 21.5168, 0.26389437, 22.5231, 0.39057672, 23.3632 , 0.6401552 , 22.12084, 0.08798151, 21.10543, 0.05606675, 23.36442, 0.5293328 , 21.11463, 0.2414211 , 21.64859501, 0.35071477, 22.18203465, 0.26509103, -99.        , -9.90000000e+01, 22.16210667, 0.08508342, 21.11860005, 5.03318822e-02, 21.76246754, 3.45932848e-01, 20.91278187, 0.2634021 , 21.77441014, 0.332865  , 21.93929852, 0.21569652, -99.        , -9.90000000e+01, 22.18177022, 8.43154242e-02, 21.10652722, 5.11780941e-02, 21.59292783, 2.32877066e-01, 20.99486722, 0.27829584, 21.82211918, 0.31961365, 21.92313999, 0.20157291, -99.        , -9.90000000e+01, 22.19984859, 8.48396190e-02, 21.08030743, 6.43528852e-02, 21.42565578, 1.73541982e-01, 21.12703365, 2.79064539e-01, 21.89334087, 0.31712195, 21.81008892, 0.18881298, 25.86427097, 4.42264363e+00, 22.21622639, 8.47847500e-02, 21.0431097 , 6.63745667e-02, 21.27823047, 1.39285741e-01,  21.33429127,  2.71048013e-01, 22.0037365 , 22.08156395,  24.39564514, 22.30228233, 21.16934586, 21.58126068,  20.97447205, 22.0294323 , 22.16654015, -99.        , 22.4383316 , 21.25971031, 21.75334549,  21.07001114, 21.98228073, 22.32182884, -99.        , 22.50219154, 21.3542366 , 21.88283157, 21.22006607, 22.14643288, 22.46735573, -99.        , 22.60183907, 21.52840042, 22.08732414, 21.40738487, 0.31956809, 0.19965475,  1.25572471e+00, 8.47755716e-02, 6.85852174e-02, 1.69376479e-01,  2.75727028e-01, 0.32278018, 0.2066277 , -9.90000000e+01, 8.46687848e-02, 6.48020040e-02, 1.98466414e-01,  2.76938353e-01, 0.31690886, 0.2199634 , -9.90000000e+01, 8.43707513e-02, 5.39555893e-02, 2.23604973e-01, 2.79914403e-01, 0.33782874, 0.23338335, -9.90000000e+01, 8.41728283e-02, 5.02199566e-02, 2.69946987e-01, 2.72681207e-01, 1.),\n",
       "          (50, 'J131037+214817', 197.65307  , 2.1804729e+01, 0.2831024, 0,  20.2257042,  1.26983049e-01, 20.5680847, 0.10233116, 20.38008, 0.04529534, 20.19416, 0.01716694, 19.84391, 0.01735721, 20.17242, 0.02878508, 19.68558, 0.06575458, 20.1536, 0.1322419 , 20.3792, 0.14386586, 20.47958, 0.04590457, 20.27105, 0.0215197 , 19.95728, 0.02938973, 20.27087, 0.03115906, 19.7874 , 0.06665622, 20.11232487, 0.1630065 , 20.44420353, 0.10799672,  20.36633603,  3.41118891e-02, 20.19926755, 0.01034397, 19.79686085, 1.18120332e-02, 19.92160527, 2.70149297e-02, 19.78622357, 0.06330401, 20.17086972, 0.1504996 , 20.46855344, 0.09761508,  20.38931073,  3.48429689e-02, 20.20902623, 1.05477481e-02, 19.80023373, 1.23656253e-02, 19.89485158, 3.82068256e-02, 19.82119359, 0.06240264, 20.18958706, 0.14356949, 20.4675259 , 0.09208241,  20.41370052,  3.73904916e-02, 20.21391529, 1.17502969e-02, 19.79632992, 1.55190109e-02, 19.85842938, 4.04488960e-02, 19.86239094, 6.32062833e-02, 20.19139652, 0.14290399, 20.4737585 , 0.08925402, 20.44616871, 3.98204045e-02, 20.22196369, 1.38002979e-02, 19.79140262, 2.01307947e-02, 19.82106952, 3.59281589e-02,  19.91500454,  6.38909005e-02, 24.99781036, 22.6926899 ,  22.63179207, 22.02511978, 20.91555214, 20.70353889,  20.5742569 , 25.76313972, 22.84052658,  22.63977814, 22.03854942, 20.98387337, 20.75357246,  20.74029922, 20.24861145, 20.44676399,  20.52972221, 20.28716278, 19.81830406, 19.78028107, 20.06413651, 20.27601242, 20.57192039,  20.5308876 , 20.30595779, 19.85746384, 19.88329697, 20.03647041, 0.22650972, 0.16459457,  8.43928402e-02, 1.80640695e-02, 1.29727055e-02, 2.61034506e-02,  6.52819587e-02, 0.22650972, 0.16459457,  8.50158753e-02, 1.82888944e-02, 1.31893279e-02, 2.61209800e-02,  6.73693477e-02, 0.14290399, 0.08727728,  4.01891576e-02, 1.51509406e-02, 1.96332947e-02, 3.18312679e-02, 6.29566063e-02, 0.14290399, 0.0895055 ,  4.01274281e-02, 1.40847437e-02, 2.03543434e-02, 3.49993757e-02, 6.33233504e-02, 1.),\n",
       "          (51, 'J131419+104739', 198.57887  , 1.0794177e+01, 0.2961086, 1,  19.89247  ,  1.29247639e-01, 19.81822  , 0.08495317, 19.66505, 0.04021193, 19.22419, 0.01141952, 18.81012, 0.01149069, 18.98308, 0.01592448, 18.59456, 0.03432671, 20.0683, 0.14587827, 19.7228, 0.12826466, 19.80918, 0.06609235, 19.33866, 0.03589724, 18.94897, 0.0228806 , 19.14026, 0.03600952, 18.70353, 0.03546295, 20.22804753, 0.19482618, 19.77762143, 0.09668318,  19.60974232,  4.04412479e-02, 19.28611485, 0.00665029, 18.82187954, 8.06154796e-03, 19.05038563, 1.25077884e-02, 18.56118123, 0.02890506, 20.10609807, 0.16816141, 19.7351817 , 0.08552326,  19.61252965,  4.03683730e-02, 19.28887357, 6.91510327e-03, 18.82206715, 8.49439469e-03, 19.04651822, 1.30253015e-02, 18.5457076 , 0.03045146, 20.03598064, 0.15798254, 19.71625752, 0.08019451,  19.61408657,  4.16758004e-02, 19.28619236, 7.66982361e-03, 18.81700176, 9.68406698e-03, 19.03284496, 1.47149217e-02, 18.51542515, 4.16538572e-02, 20.01135998, 0.15798254, 19.71874027, 0.07768516, 19.62183361, 4.02442043e-02, 19.2843893 , 9.09489795e-03, 18.81305103, 9.39516443e-03, 19.01625995, 1.70101937e-02,  18.47622852,  3.69359100e-02, 19.89760017, 19.6622467 ,  19.64277458, 19.27047729, 18.75471497, 18.91269684,  18.26067924, 19.91730881, 19.68293381,  19.65215492, 19.27562714, 18.76622581, 18.9327774 ,  18.2863369 , 19.96899796, 19.70529175,  19.6759758 , 19.2822361 , 18.78863335, 18.95923042, 18.34760666, 20.00097656, 19.7249012 ,  19.66926956, 19.29341888, 18.80265617, 18.97432709, 18.38693237, 0.15798254, 0.07768516,  3.77410600e-02, 8.31296462e-03, 8.19038502e-03, 1.42238896e-02,  2.78588671e-02, 0.15798254, 0.07768516,  3.80685407e-02, 8.35248816e-03, 8.27768046e-03, 1.44894066e-02,  2.85250565e-02, 0.15798254, 0.07768516,  3.89129880e-02, 8.40348548e-03, 8.45029111e-03, 1.48467640e-02, 3.01810550e-02, 0.15798254, 0.07768516,  3.86733760e-02, 8.49048635e-03, 8.56013869e-03, 1.50546434e-02, 3.12942612e-02, 1.),\n",
       "          (52, 'J131904+510309', 199.76566  , 5.1052584e+01, 0.3175549, 0,  20.76667  ,  3.23811868e-01, 21.0766716, 0.1785514 , 20.71463, 0.06589361, 20.07003, 0.01802926, 19.42617, 0.01491135, 19.2868 , 0.0166978 , 18.88702, 0.03602152, 21.9814, 0.37870355, 21.0897, 0.26745113, 20.88136, 0.06401557, 20.24973, 0.02583402, 19.66104, 0.01716418, 19.56713, 0.01937616, 19.09612, 0.04014095, 22.05563847, 0.48971423, 21.05621449, 0.16406761,  20.81674115,  6.56430209e-02, 20.11423794, 0.01294321, 19.41027943, 1.14160462e-02, 19.26890866, 1.59570366e-02, 18.84386174, 0.03238256, 21.88175381, 0.41285249, 21.08472813, 0.14793286,  20.822338  ,  7.00972814e-02, 20.13040913, 1.35916663e-02, 19.41926945, 1.25186999e-02, 19.27118291, 1.78114665e-02, 18.85377301, 0.03528636, 21.66877789, 0.36054964, 21.05587429, 0.13791237,  20.81555599,  7.45030658e-02, 20.14637989, 1.50511639e-02, 19.42565769, 1.43060631e-02, 19.26721806, 2.02660005e-02, 18.86162228, 4.38604614e-02, 21.46105938, 0.35701307, 21.0132616 , 0.13209469, 20.80238323, 8.40311833e-02, 20.16980343, 1.64068239e-02, 19.43831997, 1.62324298e-02, 19.26332645, 2.32759027e-02,  18.87640362,  4.76157425e-02, 21.51163864, 21.08897972,  20.95104218, 20.22871208, 19.48378944, 19.35354233,  19.06929588, 21.44400978, 20.99991989,  20.97601509, 20.22621346, 19.44740868, 19.33030319,  19.13193321, 21.54289055, 21.10770798,  20.91786575, 20.28015137, 19.53623009, 19.37692642, 19.03804398, 21.76893616, 21.21561432,  20.98149109, 20.31590843, 19.59155464, 19.43332481, 19.03286552, 0.35701307, 0.13209469,  7.77481053e-02, 1.73070618e-02, 1.62081077e-02, 2.33004501e-02,  4.17558635e-02, 0.35701307, 0.13209469,  7.57566080e-02, 1.73888605e-02, 1.56740059e-02, 2.28550430e-02,  3.75044423e-02, 0.35701307, 0.13209469,  8.13099872e-02, 1.59487234e-02, 1.59985326e-02, 2.22375601e-02, 4.43243251e-02, 0.35701307, 0.13675236,  7.54013226e-02, 1.52557926e-02, 1.46066821e-02, 2.06065859e-02, 4.47584969e-02, 0.),\n",
       "          (53, 'J132633+421824', 201.63897  , 4.2306699e+01, 0.317651 , 0,  21.1683731,  2.69197858e-01, 20.6396561, 0.12975421, 20.45974, 0.07962943, 20.28819, 0.02461709, 19.6505 , 0.02035483, 20.51863, 0.05739298, 19.88841, 0.11905837, 20.4051, 0.15232102, 20.813 , 0.17838835, 20.54558, 0.08007251, 20.39641, 0.02752399, 19.76681, 0.02317659, 20.66363, 0.05724471, 19.94094, 0.1165479 , 20.40663449, 0.19188902, 20.8586723 , 0.1380196 ,  20.58686749,  8.46065862e-02, 20.32751576, 0.02106288, 19.65532986, 1.66101324e-02, 20.56348721, 5.37656415e-02, 19.93360249, 0.11593598, 20.46772755, 0.17717084, 20.8332137 , 0.12198025,  20.56645192,  8.21799707e-02, 20.32561482, 2.13203499e-02, 19.64782132, 1.74629274e-02, 20.57934941, 5.41254010e-02, 19.93024243, 0.18215593, 20.49002117, 0.1688039 , 20.79184956, 0.11328254,  20.53264851,  8.37922557e-02, 20.32116932, 2.27519030e-02, 19.63658375, 1.96641095e-02, 20.59398502, 5.64011892e-02, 19.92796368, 1.48714018e-01, 20.50119762, 0.16410539, 20.73003559, 0.10940558, 20.49089794, 8.23200166e-02, 20.31905727, 2.31672009e-02, 19.62780742, 1.82159834e-02, 20.61245136, 5.88755162e-02,  19.9367445 ,  1.37827686e-01, 20.45430756, 20.56292343,  20.24548912, 20.32431602, 19.54255295, 20.60209084,  20.05427933, 20.48100853, 20.60268021,  20.35757637, 20.34562111, 19.58340073, 20.59544945,  20.09553337, 20.51185036, 20.66037941,  20.48155594, 20.35676384, 19.62467575, 20.64769936, 20.01897812, 20.53554344, 20.70184898,  20.51283836, 20.36269379, 19.65447807, 20.64612961, 19.97532845, 0.16410539, 0.10940558,  6.04054718e-02, 2.14146719e-02, 1.54912046e-02, 6.30618956e-02,  1.41281324e-01, 0.16410539, 0.10940558,  6.69747622e-02, 2.18390357e-02, 1.60851199e-02, 6.26773269e-02,  1.46752792e-01, 0.16410539, 0.10940558,  7.50763254e-02, 2.20643202e-02, 1.67083788e-02, 6.18854734e-02, 1.36761632e-01, 0.16410539, 0.10940558,  7.72709013e-02, 2.21851582e-02, 1.71733587e-02, 6.19934996e-02, 1.31372482e-01, 1.),\n",
       "          (54, 'J132937+573315', 202.40604  , 5.7554223e+01, 0.3091325, 1,  20.0129128,  9.54991645e-02, 19.5410385, 0.05274229, 19.45995, 0.03333204, 19.06733, 0.0104718 , 18.61151, 0.00961453, 18.66072, 0.01296533, 18.48513, 0.03382999, 20.0043, 0.13087316, 19.6386, 0.11477586, 19.78278, 0.03867109, 19.40211, 0.01999687, 18.98772, 0.02006818, 19.03284, 0.01856799, 18.84779, 0.04025509, 19.96953885, 0.16149799, 19.68808476, 0.07462967,  19.50327412,  2.84962065e-02, 19.06693188, 0.00674553, 18.61642758, 6.43138938e-03, 18.65049855, 9.18560175e-03, 18.48240201, 0.03012454, 19.95450391, 0.14528427, 19.68552007, 0.06747746,  19.50106419,  2.82978255e-02, 19.05644788, 6.93881139e-03, 18.60236348, 6.67468226e-03, 18.63355626, 9.60703148e-03, 18.48073186, 0.02934309, 19.96531529, 0.13806775, 19.65295261, 0.06333668,  19.49686665,  3.04343426e-02, 19.04180378, 7.50933397e-03, 18.58275265, 7.42812257e-03, 18.60985989, 1.04980460e-02, 18.47473377, 3.05004281e-02, 19.99049549, 0.13713066, 19.62542705, 0.06170606, 19.49805813, 2.80099767e-02, 19.03081684, 6.83406135e-03, 18.56540851, 6.72068651e-03, 18.58748607, 9.45433914e-03,  18.470331  ,  3.30922569e-02, 19.94508171, 19.50050735,  19.47677612, 18.95589828, 18.46987724, 18.50695992,  18.41394424, 19.94950867, 19.51996613,  19.47247887, 18.9679203 , 18.47023201, 18.49783897,  18.40364838, 19.95939064, 19.53668785,  19.50725555, 18.98139954, 18.48423386, 18.50462151, 18.42167664, 19.97627449, 19.5573616 ,  19.51441002, 18.99275208, 18.50033951, 18.5105381 , 18.44674301, 0.13713066, 0.06170606,  2.52658728e-02, 5.86740154e-03, 5.66155184e-03, 8.07523318e-03,  2.89005457e-02, 0.13713066, 0.06170606,  2.51660701e-02, 5.93273046e-03, 5.66340207e-03, 8.00767974e-03,  2.86277817e-02, 0.13713066, 0.06170606,  2.59852008e-02, 6.00684341e-03, 5.73691128e-03, 8.05785983e-03, 2.91071042e-02, 0.13713066, 0.06170606,  2.61569958e-02, 6.06998093e-03, 5.82264610e-03, 8.10189008e-03, 2.97869167e-02, 0.),\n",
       "          (55, 'J134559+112848', 206.49544  , 1.1479940e+01, 0.2372538, 0,  19.349884 ,  1.54754986e-01, 19.3434086, 0.06743511, 18.98473, 0.0245718 , 18.65063, 0.00839982, 18.32884, 0.00837226, 18.28617, 0.00961898, 18.26094, 0.02684412, 19.5976, 0.16380926, 19.2342, 0.14255973, 19.33961, 0.03182279, 19.06994, 0.01761746, 18.7558 , 0.01371267, 18.82188, 0.0196406 , 18.7268 , 0.03421313, 19.64196316, 0.21019765, 19.3151981 , 0.08302518,  19.07964818,  1.56198486e-02, 18.7047054 , 0.00391965, 18.37041585, 4.74910522e-03, 18.29135052, 6.71073660e-03, 18.19998662, 0.0226243 , 19.54091443, 0.18254366, 19.32656468, 0.07502585,  19.07068433,  1.66301713e-02, 18.70496358, 4.22298234e-03, 18.36783589, 5.25766702e-03, 18.28230275, 7.72667323e-03, 18.19010915, 0.02638753, 19.46167797, 0.17631275, 19.3195538 , 0.07103897,  19.05829662,  1.93963846e-02, 18.70190853, 4.81941497e-03, 18.36157269, 6.05101460e-03, 18.27002186, 9.05672918e-03, 18.17671055, 3.01989370e-02, 19.42577152, 0.17631275, 19.31416492, 0.06931619, 19.05073337, 1.94070571e-02, 18.70352917, 5.20437901e-03, 18.36005382, 6.00183031e-03, 18.26211338, 8.40124086e-03,  18.16970424,  2.75842617e-02, 19.33797455, 19.23690987,  19.00742149, 18.68902779, 18.30397034, 18.13765335,  18.05553818, 19.34543991, 19.25411797,  19.01183319, 18.69201088, 18.31461143, 18.15638924,  18.05999947, 19.35316849, 19.27573204,  19.01852417, 18.69811249, 18.33000565, 18.18791771, 18.09538269, 19.39658928, 19.30261421,  19.04128075, 18.70849037, 18.35419083, 18.24645996, 18.17674637, 0.17631275, 0.06931619,  1.71541534e-02, 4.72392206e-03, 5.24305818e-03, 6.89118302e-03,  2.28417459e-02, 0.17631275, 0.06931619,  1.72239981e-02, 4.73691903e-03, 5.29469705e-03, 7.01113191e-03,  2.29357957e-02, 0.17631275, 0.06931619,  1.73304708e-02, 4.76361445e-03, 5.37030313e-03, 7.21771164e-03, 2.36955668e-02, 0.17631275, 0.06931619,  1.76975436e-02, 4.80936521e-03, 5.49127094e-03, 7.61756955e-03, 2.55395107e-02, 0.),\n",
       "          (56, 'J135008+662438', 207.5334   , 6.6410649e+01, 0.3839081, 0,  22.039938 ,  4.57353882e-01, 21.68246  , 0.36414729, 21.44099, 0.14308137, 21.16763, 0.05201774, 21.0205 , 0.0573788 , 20.97433, 0.08509826, 20.55288, 0.20360639, 22.4069, 0.52538629, 21.7769, 0.41595052, 21.52082, 0.1309708 , 21.27144, 0.05560615, 21.18231, 0.05838268, 21.07264, 0.07908908, 20.66421, 0.1973283 , 21.14544789, 0.4102589 , 21.73106114, 0.28992645,  21.46762387,  1.45964068e-01, 21.17404858, 0.04857445, 21.05664364, 5.31787211e-02, 21.39622227, 9.01859943e-02, 20.60834614, 0.20732279, 21.34246434, 0.40054215, 21.50709523, 0.23831284,  21.42725934,  1.80238129e-01, 21.18510236, 4.90341416e-02, 21.06966199, 5.34772711e-02, 21.42922963, 8.63047330e-02, 20.57923878, 0.22085405, 21.38812107, 0.38456644, 21.46240276, 0.21984951,  21.37167782,  1.31398843e-01, 21.19900745, 5.34456118e-02, 21.08045048, 7.99991450e-02, 21.44903416, 8.49493723e-02, 20.53117603, 2.60820019e-01, 21.3676012 , 0.36826797, 21.4094141 , 0.21332125, 21.31102352, 1.14235754e-01, 21.22469501, 5.53875422e-02, 21.09269886, 7.43801291e-02, 21.46143703, 8.47754449e-02,  20.47139339,  2.44968069e-01, 21.65183258, 21.63605118,  21.73260117, 21.47029495, 21.1154232 , 21.75936699,  20.51696587, 21.67413712, 21.74026871,  21.60656738, 21.50299454, 21.22716331, 21.81581497,  20.87926292, 21.70033646, 21.88864899,  21.79530716, 21.55966949, 21.42133904, 21.79998207, 20.98999977, 21.71522903, 22.0799427 ,  21.93192482, 21.65891647, 21.52300072, 21.88180923, 21.10682106, 0.396796  , 0.21908965,  1.71981910e-01, 4.99291141e-02, 6.98684364e-02, 8.62521715e-02,  2.35002686e-01, 0.4001847 , 0.22871338,  1.37960245e-01, 4.92757376e-02, 7.74420907e-02, 8.70736338e-02,  2.52338210e-01, 0.40419384, 0.24296257,  1.90202985e-01, 4.86026114e-02, 5.33823927e-02, 8.68315768e-02, 2.04763437e-01, 0.40648669, 0.26257226,  2.36011040e-01, 4.82587727e-02, 5.30228473e-02, 8.81651292e-02, 2.03911807e-01, 1.),\n",
       "          (57, 'J140333+612115', 210.88585  , 6.1354094e+01, 0.2816222, 0,  21.5416431,  3.73224645e-01, 21.3708668, 0.28489044, 21.56849, 0.1020366 , 21.23038, 0.04047914, 20.28898, 0.02702881, 22.11369, 0.19947385, 20.85988, 0.23148802, 21.4463, 0.29382515, 21.3921, 0.287628  , 21.60009, 0.09814543, 21.25537, 0.03932789, 20.3159 , 0.03520414, 22.11725, 0.2002166 , 20.85031, 0.2249312 , 21.47792355, 0.37477029, 21.43371884, 0.23278807,  21.72709958,  1.15866404e-01, 21.15313069, 0.04232195, 20.26048771, 2.33309412e-02, 21.84484402, 2.31814770e-01, 20.67149846, 0.26629093, 21.38337697, 0.32658827, 21.22678937, 0.19691628,  21.8225726 ,  1.12711913e-01, 21.14818562, 4.51238536e-02, 20.25519742, 2.56418672e-02, 21.79228581, 1.73807545e-01, 20.50409688, 0.20982889, 21.3110146 , 0.29925368, 21.15211529, 0.19691628,  21.93781704,  1.12209284e-01, 21.13813061, 5.33811559e-02, 20.24436802, 3.06575311e-02, 21.75345272, 1.45788087e-01, 20.30905384, 1.52417460e-01, 21.27835254, 0.29369137, 21.14249401, 0.19691628, 22.07441692, 1.12840111e-01, 21.13212185, 5.21026453e-02, 20.2373064 , 2.80017233e-02, 21.75432949, 1.34135883e-01,  20.11778621,  1.17489728e-01, 21.40198135, 21.16964912,  22.18774414, 21.26229477, 20.30113029, 21.93722725,  20.16511726, 21.43520546, 21.20833969,  22.16234589, 21.2669735 , 20.32373428, 21.93208504,  20.23800659, 21.45370865, 21.24975395,  22.13344955, 21.27158546, 20.35083389, 21.89520073, 20.30186081, 21.48994637, 21.28402519,  22.15720558, 21.2952919 , 20.38284302, 21.86442947, 20.38814735, 0.29369137, 0.19691628,  1.13203097e-01, 5.40335250e-02, 2.73179859e-02, 1.46028773e-01,  1.12892912e-01, 0.29369137, 0.19691628,  1.12798342e-01, 5.42668723e-02, 2.78926817e-02, 1.45338794e-01,  1.20732004e-01, 0.29459287, 0.19691628,  1.12385417e-01, 5.44978763e-02, 2.85976348e-02, 1.40484312e-01, 1.28045434e-01, 0.29889191, 0.19691628,  1.12721067e-01, 5.57008925e-02, 2.94532867e-02, 1.36558685e-01, 1.38636860e-01, 1.),\n",
       "          (58, 'J141013+434435', 212.55428  , 4.3743078e+01, 0.3558286, 0,  21.7236977,  1.55635317e-01, 21.4808846, 0.08773207, 21.68395, 0.14256915, 21.24994, 0.04210627, 20.77967, 0.04333151, 21.43265, 0.11310997, 20.34015, 0.15978893, 21.576 , 0.12320712, 21.3139, 0.11232118, 21.70628, 0.1327777 , 21.27022, 0.04161503, 20.81233, 0.04249531, 21.46519, 0.1087179 , 20.35387, 0.1553184 , 21.47894208, 0.14801364, 21.39956013, 0.07766007,  21.45313946,  1.33824991e-01, 21.26107518, 0.03640155, 20.82075993, 3.97024174e-02, 21.0553352 , 1.22629705e-01, 20.84584538, 0.17147121, 21.50519933, 0.13544265, 21.41511525, 0.07046852,  21.40175618,  1.49697329e-01, 21.27778806, 3.85819578e-02, 20.82500447, 4.10128750e-02, 21.04742993, 1.18996570e-01, 20.86764706, 0.16122112, 21.54861492, 0.13029851, 21.44172138, 0.06749851,  21.34761662,  1.26769607e-01, 21.29407162, 4.24111021e-02, 20.82317013, 4.48608051e-02, 21.04364628, 1.13178826e-01, 20.87677044, 1.56029921e-01, 21.55659847, 0.1264778 , 21.46743374, 0.06604391, 21.30794697, 1.12362014e-01, 21.31567936, 4.53954584e-02, 20.82395725, 5.04318539e-02, 21.0538538 , 1.05031706e-01,  20.88561802,  1.53580439e-01, 21.68558693, 21.61475563,  21.44403076, 21.46285439, 20.88270569, 21.18056107,  20.73949814, 21.7165184 , 21.64130592,  21.4928627 , 21.48724937, 20.94174576, 21.22842598,  20.88817596, 21.77812576, 21.69593239,  21.58703995, 21.53930855, 21.03177071, 21.29741096, 21.09269524, 21.84737587, 21.75582314,  21.70244598, 21.60109901, 21.13035965, 21.37626839, 21.21224785, 0.12823705, 0.0673034 ,  1.17162166e-01, 4.29170123e-02, 4.89709656e-02, 1.08576962e-01,  1.51196324e-01, 0.1296537 , 0.06788574,  1.22551933e-01, 4.20065763e-02, 4.91280110e-02, 1.13470679e-01,  1.51630679e-01, 0.13250269, 0.06914351,  1.33656802e-01, 4.03506942e-02, 4.38172502e-02, 1.17226530e-01, 1.57169221e-01, 0.135846  , 0.07064221,  1.48646086e-01, 3.87997236e-02, 4.14334576e-02, 1.18856680e-01, 1.61641527e-01, 1.),\n",
       "          (59, 'J144010+461937', 220.04142  , 4.6326934e+01, 0.3007507, 0,  19.6288929,  1.21875550e-01, 19.5598812, 0.0869123 , 19.1269 , 0.02403843, 18.90008, 0.0091401 , 18.51811, 0.00870052, 18.85329, 0.0131376 , 18.49216, 0.02930234, 19.4859, 0.12499893, 19.4685, 0.12421508, 19.25785, 0.03267546, 19.09385, 0.02003767, 18.73613, 0.01409182, 19.10239, 0.02168764, 18.65508, 0.03202533, 19.41040341, 0.15119106, 19.57544819, 0.10279986,  19.18960682,  1.58458653e-02, 18.94174305, 0.00400286, 18.52985302, 4.39367545e-03, 18.88182751, 8.62319113e-03, 18.45045201, 0.02543545, 19.49155034, 0.14134771, 19.57727803, 0.09243395,  19.20248784,  1.65481791e-02, 18.94640149, 4.18234184e-03, 18.53809727, 4.55952528e-03, 18.89064015, 9.37119022e-03, 18.45847501, 0.02592674, 19.51814121, 0.13538605, 19.54371494, 0.0862298 ,  19.21340221,  1.76885072e-02, 18.94737095, 4.61677381e-03, 18.54444927, 5.13007061e-03, 18.89847416, 1.04882944e-02, 18.46426052, 2.73618957e-02, 19.54509525, 0.13538605, 19.51648311, 0.08443776, 19.22810154, 1.91254847e-02, 18.95088558, 5.29280394e-03, 18.55497532, 5.86784196e-03, 18.91288166, 1.15084587e-02,  18.47459202,  2.96508855e-02, 19.59561729, 19.47994804,  19.27717018, 18.9581089 , 18.56613731, 18.93232346,  18.46962929, 19.60671234, 19.5063839 ,  19.2633667 , 18.95942688, 18.57711792, 18.94911575,  18.48871231, 19.61163712, 19.51952171,  19.26498604, 18.96720505, 18.58442307, 18.95181274, 18.50301743, 19.61570358, 19.53023529,  19.2713623 , 18.97689629, 18.59264374, 18.95634651, 18.51178741, 0.13538605, 0.08443776,  2.04817204e-02, 5.14556086e-03, 5.56882120e-03, 1.14759016e-02,  2.97476064e-02, 0.13538605, 0.08443776,  2.02229748e-02, 5.15181086e-03, 5.62542731e-03, 1.16547707e-02,  3.02750756e-02, 0.13538605, 0.08443776,  2.02531592e-02, 5.18885073e-03, 5.66340441e-03, 1.16837574e-02, 3.06766041e-02, 0.13538605, 0.08443776,  2.03724510e-02, 5.23537353e-03, 5.70644774e-03, 1.17326479e-02, 3.09253966e-02, 0.),\n",
       "          (60, 'J151707+370512', 229.28083  , 3.7086741e+01, 0.3533184, 0,  20.5003986,  2.28904921e-01, 20.78103  , 0.12770006, 20.85451, 0.07393681, 20.54178, 0.02494858, 20.26249, 0.02695206, 20.8363 , 0.06015053, 19.99451, 0.09593863, 20.5703, 0.2129969 , 20.6811, 0.22255334, 20.88388, 0.07216378, 20.56283, 0.02784629, 20.3042 , 0.03137208, 20.88438, 0.05982343, 19.96382, 0.08981135, 20.61997334, 0.27485925, 20.68996159, 0.12871531,  20.85678212,  1.42617983e-01, 20.5377361 , 0.03982919, 20.20162503, 2.23022768e-02, 20.73921887, 6.09746306e-02, 19.58986966, 0.16408537, 20.61401166, 0.24744822, 20.63862027, 0.11314651,  20.86266698,  1.19699553e-01, 20.52185429, 3.08886912e-02, 20.19151868, 2.43808524e-02, 20.73843182, 6.89541607e-02, 19.51895512, 0.12096364, 20.54983563, 0.22704197, 20.62269444, 0.10602759,  20.86577076,  1.04356785e-01, 20.49935764, 2.63019226e-02, 20.17479939, 3.08527557e-02, 20.72874874, 8.88074902e-02, 19.43845791, 9.76433344e-02, 20.52489071, 0.22235595, 20.6090105 , 0.10570525, 20.87141018, 9.64381094e-02, 20.47696094, 2.36865083e-02, 20.15709286, 2.79050997e-02, 20.71170788, 8.35339789e-02,  19.3591917 ,  8.34465429e-02, 20.36997795, 20.41546631,  20.67454338, 20.33246994, 19.90676117, 20.34108162,  18.88066673, 20.40828323, 20.48801041,  20.70785522, 20.38045883, 19.96727562, 20.46440697,  19.07541275, 20.50866318, 20.59075165,  20.76788712, 20.47717094, 20.14237595, 20.59928703, 19.28020668, 20.55989265, 20.646698  ,  20.91092682, 20.54066467, 20.20235252, 20.73540688, 19.3896637 , 0.22235595, 0.10570525,  7.40007852e-02, 1.90738781e-02, 2.03838053e-02, 5.46194125e-02,  4.94006565e-02, 0.22235595, 0.10570525,  7.63064177e-02, 1.99358409e-02, 2.15521719e-02, 6.11895365e-02,  5.91059398e-02, 0.22235595, 0.10570525,  8.06443270e-02, 2.17931197e-02, 2.53239340e-02, 6.92833996e-02, 7.13754237e-02, 0.22235595, 0.10570525,  9.20003974e-02, 2.31055811e-02, 2.67621996e-02, 7.85375098e-02, 7.89462500e-02, 1.),\n",
       "          (61, 'J154050+572442', 235.20914  , 5.7411646e+01, 0.2944454, 0,  19.7471848,  1.31560466e-01, 19.4104614, 0.07560455, 19.25971, 0.02388048, 19.0059 , 0.00899452, 18.6806 , 0.00921337, 18.96622, 0.03824759, 18.57531, 0.04134601, 19.6663, 0.13527661, 19.4117, 0.12324144, 19.45119, 0.03042307, 19.23561, 0.01926081, 18.96221, 0.01607856, 19.28757, 0.01961701, 18.82667, 0.04349561, 19.57102315, 0.16291247, 19.49995152, 0.09396185,  19.30369679,  1.44650441e-02, 19.04016987, 0.00462299, 18.67632405, 5.15420556e-03, 18.95194546, 1.27346716e-02, 18.56871907, 0.04304198, 19.60605611, 0.14940812, 19.46987141, 0.08332019,  19.31274022,  1.50583435e-02, 19.04527463, 4.71338934e-03, 18.68202771, 5.45948897e-03, 18.95788564, 1.32346535e-02, 18.5822028 , 0.0442835 , 19.63232464, 0.1434769 , 19.41744274, 0.07747306,  19.32158703,  1.60256889e-02, 19.04735798, 5.06227397e-03, 18.6839661 , 5.99605028e-03, 18.96040195, 1.48732104e-02, 18.5939793 , 4.68331116e-02, 19.66821079, 0.1434769 , 19.41946964, 0.07549223, 19.33826237, 1.70580594e-02, 19.05296306, 5.67383937e-03, 18.69052105, 6.69150329e-03, 18.96764736, 1.67038488e-02,  18.61248569,  4.87319793e-02, 19.72031403, 19.37458038,  19.37542915, 19.05548859, 18.68288231, 18.9648819 ,  18.66680527, 19.72520447, 19.38778687,  19.37215614, 19.06266403, 18.68969345, 18.97009468,  18.67564774, 19.73392105, 19.41324234,  19.37825584, 19.07348442, 18.7026844 , 18.98603821, 18.68055725, 19.73591995, 19.43018341,  19.38500023, 19.08355713, 18.71582794, 19.00115776, 18.6799469 , 0.1434769 , 0.07549223,  2.02037055e-02, 5.69445156e-03, 6.79188473e-03, 1.65976597e-02,  4.98756387e-02, 0.1434769 , 0.07549223,  2.02052925e-02, 5.73220985e-03, 6.83462614e-03, 1.66775392e-02,  4.95848282e-02, 0.1434769 , 0.07549223,  1.99987706e-02, 5.78962236e-03, 6.91689437e-03, 1.69242480e-02, 4.94268395e-02, 0.1434769 , 0.07549223,  1.94236258e-02, 5.84358439e-03, 7.00113673e-03, 1.71615773e-02, 4.94463450e-02, 0.),\n",
       "          (62, 'J155945+403325', 239.93573  , 4.0557026e+01, 0.2268112, 0, -99.       , -9.90000000e+01, 20.0228748, 0.04747344, 20.14584, 0.03784815, 19.94822, 0.01540395, 19.48849, 0.01385751, 19.73112, 0.02146853, 20.18106, 0.10419487, 19.6779, 0.13286479, 20.043 , 0.15243459, 20.24052, 0.0368042 , 20.03082, 0.02681453, 19.60145, 0.01881397, 19.85056, 0.02345525, 20.25209, 0.1007785 , 19.63493649, 0.16366746, 20.1456062 , 0.05782164,  20.31694333,  3.25057445e-02, 19.95201222, 0.01116466, 19.49099461, 8.57384174e-03, 19.70695988, 2.06542631e-02, 20.04950253, 0.12099854, 19.6840247 , 0.15020549, 20.11891545, 0.05228489,  20.33130635,  3.12889561e-02, 19.95051183, 1.14319617e-02, 19.48853864, 8.96524487e-03, 19.70135297, 2.21743424e-02, 20.06640424, 0.12385433, 19.72852749, 0.14485021, 20.10653538, 0.04990946,  20.33898014,  3.16123887e-02, 19.9425816 , 1.29503843e-02, 19.47817272, 1.08838541e-02, 19.68499416, 2.88669173e-02, 20.08363766, 1.30622670e-01, 19.72912197, 0.14197232, 20.11937504, 0.04888518, 20.34656315, 3.26790881e-02, 19.93548946, 1.62252438e-02, 19.46738415, 1.47430987e-02, 19.6654089 , 3.44521896e-02,  20.10897999,  1.37081302e-01, 19.62526512, 20.13472939,  20.5839386 , 19.83762932, 19.25485992, 19.35652542,  19.39762306, 19.66220284, 20.12250137,  20.49583244, 19.83880424, 19.27770042, 19.46393013,  19.81435585, 19.69642639, 20.16353607,  20.44390678, 19.86090088, 19.29423523, 19.4424305 , 19.80801392, 19.7149601 , 20.16675949,  20.47127151, 19.87718391, 19.35005951, 19.51352692, 20.09350967, 0.14197232, 0.04854991,  3.13134546e-02, 1.50074268e-02, 1.11509904e-02, 2.38450258e-02,  7.80800690e-02, 0.14197232, 0.04854991,  3.18323473e-02, 1.50236758e-02, 1.13880573e-02, 2.63244727e-02,  1.14612848e-01, 0.14197232, 0.04854991,  3.25533188e-02, 1.53325665e-02, 1.15628147e-02, 2.58083255e-02, 1.13945330e-01, 0.14197232, 0.04854991,  3.21220135e-02, 1.55642455e-02, 1.21728782e-02, 2.75548718e-02, 1.48215913e-01, 1.),\n",
       "          (63, 'J160437+081959', 241.15277  , 8.3330861e+00, 0.3122817, 0,  21.5978336,  3.55088441e-01, 21.6421585, 0.26110557, 21.26114, 0.0851906 , 20.78763, 0.02607487, 19.72919, 0.01568549, 21.00386, 0.04915531, 19.88162, 0.07525414, 21.6724, 0.27358781, 21.4985, 0.25541372, 21.31957, 0.08017255, 20.83193, 0.02895874, 19.79074, 0.01780445, 21.08867, 0.05148128, 19.86976, 0.07014457, 21.62874524, 0.33929281, 21.32904736, 0.18982762,  21.19819562,  7.96144262e-02, 20.7418224 , 0.01768888, 19.76348416, 9.32236372e-03, 20.85520855, 4.71774076e-02, 19.70097653, 0.071305  , 21.52615536, 0.29385182, 21.27877415, 0.16681692,  21.19135274,  8.28132515e-02, 20.74538029, 1.85796859e-02, 19.78020848, 9.37020953e-03, 20.85545338, 5.72098696e-02, 19.68681325, 0.11188536, 21.44124455, 0.26848134, 21.21684116, 0.15294808,  21.17608303,  1.12221700e-01, 20.74432987, 2.22670651e-02, 19.79292721, 1.00577980e-02, 20.85671085, 9.88027253e-02, 19.66400951, 1.27619111e-01, 21.3654974 , 0.26101558, 21.15495281, 0.14798971, 21.16188602, 1.13021606e-01, 20.7482851 , 2.87044681e-02, 19.80731563, 1.17787702e-02, 20.8696783 , 9.19238350e-02,  19.64295177,  1.15070724e-01, 21.42893791, 21.19439507,  21.20296669, 20.8026371 , 19.87870979, 20.95148849,  19.67786217, 21.45879936, 21.23503685,  21.23781776, 20.82398415, 19.8919487 , 20.95916748,  19.7015152 , 21.51660347, 21.28498077,  21.26912117, 20.85300255, 19.91496658, 20.9795742 , 19.74107552, 21.56787682, 21.32909966,  21.30716705, 20.88078117, 19.93591499, 20.99958801, 19.79199791, 0.26101558, 0.14798971,  1.07976215e-01, 2.88958652e-02, 1.25602129e-02, 9.11772668e-02,  1.09310873e-01, 0.26101558, 0.14798971,  1.11498373e-01, 2.94696190e-02, 1.20236313e-02, 9.18244136e-02,  1.11718366e-01, 0.26101558, 0.14798971,  1.14759829e-01, 2.67242515e-02, 1.11571089e-02, 9.35666009e-02, 1.15864049e-01, 0.26274784, 0.14859174,  1.18852479e-01, 2.44406516e-02, 1.06253013e-02, 9.53073461e-02, 1.21427670e-01, 1.),\n",
       "          (64, 'J164607+313054', 251.52724  , 3.1514862e+01, 0.2906376, 0,  20.57406  ,  2.36217642e-01, 20.56576  , 0.12983423, 20.58709, 0.0506477 , 20.40906, 0.01937996, 19.71144, 0.01547148, 20.60506, 0.03847645, 20.10128, 0.09633595, 20.8853, 0.08743526, 20.5359, 0.07959437, 20.63943, 0.04779522, 20.45197, 0.02185497, 19.77587, 0.01700111, 20.66067, 0.03702343, 20.11694, 0.09099659, 20.85455243, 0.10429849, 20.57148282, 0.0583319 ,  20.64474217,  3.40430139e-02, 20.4128143 , 0.01180915, 19.74354664, 9.63346336e-03, 20.64474789, 3.58482743e-02, 19.83408658, 0.09484366, 20.82134045, 0.09414336, 20.5525359 , 0.05302213,  20.65293874,  3.36012495e-02, 20.41930569, 1.20075025e-02, 19.76229848, 9.69659697e-03, 20.66336049, 3.64285911e-02, 19.83086575, 0.12442181, 20.79190868, 0.08965186, 20.55959744, 0.05092376,  20.65733952,  3.69376153e-02, 20.41989559, 1.32961621e-02, 19.7800526 , 1.03354041e-02, 20.68382305, 3.99178350e-02, 19.82051128, 1.31796705e-01, 20.77315121, 0.08768249, 20.56032734, 0.0498027 , 20.66630535, 4.28118773e-02, 20.42111568, 1.57283580e-02, 19.80116062, 1.15037954e-02, 20.71237926, 4.80887145e-02,  19.80871563,  1.37618909e-01, 20.80610275, 20.62040901,  20.79622841, 20.43601799, 19.81436539, 20.54229546,  19.74974632, 20.82059479, 20.63253212,  20.80124092, 20.46525002, 19.84000015, 20.58451653,  19.81213951, 20.84958458, 20.63827896,  20.77647018, 20.49332047, 19.86333275, 20.72394753, 19.88365746, 20.87875938, 20.65822601,  20.77159309, 20.51822472, 19.89474869, 20.79008675, 19.93397141, 0.08768249, 0.0498027 ,  4.00013291e-02, 1.87438682e-02, 1.45717113e-02, 6.26838370e-02,  1.19901537e-01, 0.08768249, 0.0498027 ,  3.96113284e-02, 1.92553772e-02, 1.33191260e-02, 6.51694417e-02,  1.26993655e-01, 0.08768249, 0.0498027 ,  4.14536768e-02, 1.69674919e-02, 1.24210107e-02, 6.00298359e-02, 1.35640444e-01, 0.08768249, 0.0498027 ,  4.17973053e-02, 1.54180893e-02, 1.14242645e-02, 5.04217167e-02, 1.35573443e-01, 1.),\n",
       "          (65, 'J164849+495751', 252.20563  , 4.9964126e+01, 0.3818633, 1,  20.8720226,  3.08125608e-01, 21.3616753, 0.26774781, 21.91235, 0.18077413, 21.63038, 0.05970599, 21.55682, 0.06549274, 21.46722, 0.08985734, 21.18607, 0.27712534, 21.4222, 0.30803817, 21.6057, 0.33091687, 21.86436, 0.1578999 , 21.65779, 0.06396732, 21.60668, 0.06741112, 21.54569, 0.09953964, 21.20984, 0.3013254 , 22.04035107, 0.48810688, 22.5451347 , 0.3616618 ,  21.63417164,  1.70835674e-01, 20.14001576, 0.02763539, 19.33078496, 4.63051918e-03, 18.92515103, 1.43999567e-02, 18.75036732, 0.04217068, 21.90091504, 0.42110099, 22.1865405 , 0.2849905 ,  21.60401524,  1.30639819e-01, 20.06805791, 2.03532252e-02, 19.27406682, 5.96400703e-03, 18.86961736, 1.07670944e-02, 18.71345509, 0.03305915, 21.94933933, 0.40513514, 21.8581242 , 0.23502824,  21.56461948,  1.09457782e-01, 19.98595089, 1.64050319e-02, 19.21081585, 4.87677047e-03, 18.80727428, 8.83787679e-03, 18.67450947, 2.84546892e-02, 21.95918255, 0.39291544, 21.59263782, 0.20217754, 21.52244358, 9.67541138e-02, 19.90583401, 1.40088523e-02, 19.15331249, 4.24329976e-03, 18.7504404 , 7.71057242e-03,  18.64502506,  2.54584708e-02, 20.84544945, 20.49038315,  21.06950188, 19.41796875, 18.77921677, 18.43308449,  18.61852074, 20.85569   , 20.5334549 ,  21.06925011, 19.40911674, 18.78427124, 18.43658829,  18.61210442, 20.89470863, 20.63933563,  21.04226685, 19.42535591, 18.8041935 , 18.44841003, 18.55998611, 20.97506142, 20.71948242,  21.05419159, 19.44445419, 18.82368088, 18.45939827, 18.54909134, 0.30929266, 0.18925991,  5.85464754e-02, 8.22225256e-03, 2.74761476e-03, 5.29515422e-03,  2.28541431e-02, 0.30929266, 0.18925991,  5.85328556e-02, 8.15548908e-03, 2.76063413e-03, 5.31226991e-03,  2.27194814e-02, 0.30929266, 0.18925991,  5.70913706e-02, 8.27838609e-03, 2.81255333e-03, 5.37042717e-03, 2.16546463e-02, 0.30929266, 0.18925991,  5.77239772e-02, 8.42529256e-03, 2.86428312e-03, 5.42505475e-03, 2.14384402e-02, 1.),\n",
       "          (66, 'J172010+542133', 260.04093  , 5.4359199e+01, 0.29377  , 0, -99.       , -9.90000000e+01, 21.1179352, 0.07963451, 21.03451, 0.07714245, 20.88983, 0.02876969, 20.41911, 0.02906069, 21.05712, 0.07398834, 20.5767 , 0.19339385, 20.6915, 0.22578206, 21.0259, 0.25776589, 21.12928, 0.0736755 , 20.98993, 0.03291687, 20.51885, 0.02994738, 21.15165, 0.07153068, 20.50554, 0.1711584 , 20.82159726, 0.30162874, 21.17228619, 0.07654346,  21.19883458,  7.64703701e-02, 20.95586697, 0.0225699 , 20.33399884, 4.13363624e-02, 21.8132774 , 1.53212816e-01, 20.56174008, 0.21731776, 20.70903767, 0.25866798, 21.13095273, 0.06771915,  21.22375668,  7.15948082e-02, 20.95678319, 2.19196505e-02, 20.3178233 , 3.91774779e-02, 21.8941058 , 1.43394241e-01, 20.53660573, 0.26749023, 20.63191647, 0.23733975, 21.0930447 , 0.06363289,  21.2511639 ,  7.02767634e-02, 20.95433468, 2.26526622e-02, 20.29594654, 3.37111832e-02, 21.95977062, 1.39298091e-01, 20.49531788, 2.44196144e-01, 20.61348705, 0.23728867, 21.06052189, 0.06220575, 21.28416805, 7.04595864e-02, 20.9532774 , 2.43153583e-02, 20.27266292, 3.03342162e-02, 21.98884945, 1.36606998e-01,  20.4446085 ,  2.30783918e-01, 20.45558739, 20.90709877,  20.86937141, 20.40769958, 19.56781769, 19.66215515,  18.91459084, 20.49820518, 21.02342796,  20.93133926, 20.4752655 , 19.71639252, 19.79812813,  19.13289261, 20.63340378, 21.11407471,  21.29556656, 20.99335098, 20.26254654, 21.67744637, 20.41021919, 20.69097519, 21.15896416,  21.36398315, 21.03388977, 20.3221302 , 21.82649803, 20.49933815, 0.23728867, 0.06220575,  7.02152801e-02, 1.87455131e-02, 1.45790439e-02, 2.76191712e-02,  5.18719814e-02, 0.23728867, 0.06220575,  7.43393523e-02, 1.99491180e-02, 1.67170243e-02, 3.13039998e-02,  6.34239880e-02, 0.23728867, 0.06220575,  7.26007901e-02, 2.64045206e-02, 2.76452539e-02, 1.79025941e-01, 2.05676266e-01, 0.23728867, 0.06220575,  7.05920513e-02, 2.46332094e-02, 2.92047874e-02, 1.27729451e-01, 2.23270715e-01, 1.)],\n",
       "         dtype=(numpy.record, [('id', '>i4'), ('name', 'S30'), ('ra', '>f8'), ('dec', '>f8'), ('z', '>f8'), ('adjacent', '>i4'), ('ref_mag_FUV', '>f8'), ('ref_magerr_FUV', '>f8'), ('ref_mag_NUV', '>f8'), ('ref_magerr_NUV', '>f8'), ('ref_mag_U', '>f8'), ('ref_magerr_U', '>f8'), ('ref_mag_G', '>f8'), ('ref_magerr_G', '>f8'), ('ref_mag_R', '>f8'), ('ref_magerr_R', '>f8'), ('ref_mag_I', '>f8'), ('ref_magerr_I', '>f8'), ('ref_mag_Z', '>f8'), ('ref_magerr_Z', '>f8'), ('psf_mag_FUV', '>f8'), ('psf_magerr_FUV', '>f8'), ('psf_mag_NUV', '>f8'), ('psf_magerr_NUV', '>f8'), ('psf_mag_U', '>f8'), ('psf_magerr_U', '>f8'), ('psf_mag_G', '>f8'), ('psf_magerr_G', '>f8'), ('psf_mag_R', '>f8'), ('psf_magerr_R', '>f8'), ('psf_mag_I', '>f8'), ('psf_magerr_I', '>f8'), ('psf_mag_Z', '>f8'), ('psf_magerr_Z', '>f8'), ('aper_mag_3p1_FUV', '>f8'), ('aper_magerr_3p1_FUV', '>f8'), ('aper_mag_3p1_NUV', '>f8'), ('aper_magerr_3p1_NUV', '>f8'), ('aper_mag_3p1_U', '>f8'), ('aper_magerr_3p1_U', '>f8'), ('aper_mag_3p1_G', '>f8'), ('aper_magerr_3p1_G', '>f8'), ('aper_mag_3p1_R', '>f8'), ('aper_magerr_3p1_R', '>f8'), ('aper_mag_3p1_I', '>f8'), ('aper_magerr_3p1_I', '>f8'), ('aper_mag_3p1_Z', '>f8'), ('aper_magerr_3p1_Z', '>f8'), ('aper_mag_3p9_FUV', '>f8'), ('aper_magerr_3p9_FUV', '>f8'), ('aper_mag_3p9_NUV', '>f8'), ('aper_magerr_3p9_NUV', '>f8'), ('aper_mag_3p9_U', '>f8'), ('aper_magerr_3p9_U', '>f8'), ('aper_mag_3p9_G', '>f8'), ('aper_magerr_3p9_G', '>f8'), ('aper_mag_3p9_R', '>f8'), ('aper_magerr_3p9_R', '>f8'), ('aper_mag_3p9_I', '>f8'), ('aper_magerr_3p9_I', '>f8'), ('aper_mag_3p9_Z', '>f8'), ('aper_magerr_3p9_Z', '>f8'), ('aper_mag_4p7_FUV', '>f8'), ('aper_magerr_4p7_FUV', '>f8'), ('aper_mag_4p7_NUV', '>f8'), ('aper_magerr_4p7_NUV', '>f8'), ('aper_mag_4p7_U', '>f8'), ('aper_magerr_4p7_U', '>f8'), ('aper_mag_4p7_G', '>f8'), ('aper_magerr_4p7_G', '>f8'), ('aper_mag_4p7_R', '>f8'), ('aper_magerr_4p7_R', '>f8'), ('aper_mag_4p7_I', '>f8'), ('aper_magerr_4p7_I', '>f8'), ('aper_mag_4p7_Z', '>f8'), ('aper_magerr_4p7_Z', '>f8'), ('aper_mag_5p5_FUV', '>f8'), ('aper_magerr_5p5_FUV', '>f8'), ('aper_mag_5p5_NUV', '>f8'), ('aper_magerr_5p5_NUV', '>f8'), ('aper_mag_5p5_U', '>f8'), ('aper_magerr_5p5_U', '>f8'), ('aper_mag_5p5_G', '>f8'), ('aper_magerr_5p5_G', '>f8'), ('aper_mag_5p5_R', '>f8'), ('aper_magerr_5p5_R', '>f8'), ('aper_mag_5p5_I', '>f8'), ('aper_magerr_5p5_I', '>f8'), ('aper_mag_5p5_Z', '>f8'), ('aper_magerr_5p5_Z', '>f8'), ('iso_mag_1p2_FUV', '>f8'), ('iso_mag_1p2_NUV', '>f8'), ('iso_mag_1p2_U', '>f8'), ('iso_mag_1p2_G', '>f8'), ('iso_mag_1p2_R', '>f8'), ('iso_mag_1p2_I', '>f8'), ('iso_mag_1p2_Z', '>f8'), ('iso_mag_1p5_FUV', '>f8'), ('iso_mag_1p5_NUV', '>f8'), ('iso_mag_1p5_U', '>f8'), ('iso_mag_1p5_G', '>f8'), ('iso_mag_1p5_R', '>f8'), ('iso_mag_1p5_I', '>f8'), ('iso_mag_1p5_Z', '>f8'), ('iso_mag_2p0_FUV', '>f8'), ('iso_mag_2p0_NUV', '>f8'), ('iso_mag_2p0_U', '>f8'), ('iso_mag_2p0_G', '>f8'), ('iso_mag_2p0_R', '>f8'), ('iso_mag_2p0_I', '>f8'), ('iso_mag_2p0_Z', '>f8'), ('iso_mag_2p5_FUV', '>f8'), ('iso_mag_2p5_NUV', '>f8'), ('iso_mag_2p5_U', '>f8'), ('iso_mag_2p5_G', '>f8'), ('iso_mag_2p5_R', '>f8'), ('iso_mag_2p5_I', '>f8'), ('iso_mag_2p5_Z', '>f8'), ('iso_magerr_1p2_FUV', '>f8'), ('iso_magerr_1p2_NUV', '>f8'), ('iso_magerr_1p2_U', '>f8'), ('iso_magerr_1p2_G', '>f8'), ('iso_magerr_1p2_R', '>f8'), ('iso_magerr_1p2_I', '>f8'), ('iso_magerr_1p2_Z', '>f8'), ('iso_magerr_1p5_FUV', '>f8'), ('iso_magerr_1p5_NUV', '>f8'), ('iso_magerr_1p5_U', '>f8'), ('iso_magerr_1p5_G', '>f8'), ('iso_magerr_1p5_R', '>f8'), ('iso_magerr_1p5_I', '>f8'), ('iso_magerr_1p5_Z', '>f8'), ('iso_magerr_2p0_FUV', '>f8'), ('iso_magerr_2p0_NUV', '>f8'), ('iso_magerr_2p0_U', '>f8'), ('iso_magerr_2p0_G', '>f8'), ('iso_magerr_2p0_R', '>f8'), ('iso_magerr_2p0_I', '>f8'), ('iso_magerr_2p0_Z', '>f8'), ('iso_magerr_2p5_FUV', '>f8'), ('iso_magerr_2p5_NUV', '>f8'), ('iso_magerr_2p5_U', '>f8'), ('iso_magerr_2p5_G', '>f8'), ('iso_magerr_2p5_R', '>f8'), ('iso_magerr_2p5_I', '>f8'), ('iso_magerr_2p5_Z', '>f8'), ('probPSF', '>f8')]))"
      ]
     },
     "execution_count": 38,
     "metadata": {},
     "output_type": "execute_result"
    }
   ],
   "source": [
    "phot"
   ]
  },
  {
   "cell_type": "code",
   "execution_count": 39,
   "metadata": {},
   "outputs": [
    {
     "name": "stdout",
     "output_type": "stream",
     "text": [
      "GALAXIE: J003601+003307, ID: 1, PHOTOMETRY: GP_Aperture_Matched_Photometry_v0.fits, EMISSION_LINES: lzlcs_optlines_obs.csv\n"
     ]
    },
    {
     "ename": "NameError",
     "evalue": "name 'build_model_w' is not defined",
     "output_type": "error",
     "traceback": [
      "\u001b[0;31m---------------------------------------------------------------------------\u001b[0m",
      "\u001b[0;31mNameError\u001b[0m                                 Traceback (most recent call last)",
      "\u001b[1;32m/Users/amanda/Desktop/Paper/low-redshift-survey/spielwiese.ipynb Cell 43\u001b[0m in \u001b[0;36m3\n\u001b[1;32m      <a href='vscode-notebook-cell:/Users/amanda/Desktop/Paper/low-redshift-survey/spielwiese.ipynb#X60sZmlsZQ%3D%3D?line=0'>1</a>\u001b[0m objid \u001b[39m=\u001b[39m \u001b[39m1\u001b[39m\n\u001b[1;32m      <a href='vscode-notebook-cell:/Users/amanda/Desktop/Paper/low-redshift-survey/spielwiese.ipynb#X60sZmlsZQ%3D%3D?line=1'>2</a>\u001b[0m obs \u001b[39m=\u001b[39m build_obs(objid\u001b[39m=\u001b[39mobjid)\n\u001b[0;32m----> <a href='vscode-notebook-cell:/Users/amanda/Desktop/Paper/low-redshift-survey/spielwiese.ipynb#X60sZmlsZQ%3D%3D?line=2'>3</a>\u001b[0m model \u001b[39m=\u001b[39m build_model_w(objid\u001b[39m=\u001b[39mobjid, fit_el\u001b[39m=\u001b[39m\u001b[39mTrue\u001b[39;00m)\n\u001b[1;32m      <a href='vscode-notebook-cell:/Users/amanda/Desktop/Paper/low-redshift-survey/spielwiese.ipynb#X60sZmlsZQ%3D%3D?line=3'>4</a>\u001b[0m sps\u001b[39m=\u001b[39mbuild_sps()\n\u001b[1;32m      <a href='vscode-notebook-cell:/Users/amanda/Desktop/Paper/low-redshift-survey/spielwiese.ipynb#X60sZmlsZQ%3D%3D?line=4'>5</a>\u001b[0m thetas \u001b[39m=\u001b[39m model\u001b[39m.\u001b[39mtheta\u001b[39m.\u001b[39mcopy()\n",
      "\u001b[0;31mNameError\u001b[0m: name 'build_model_w' is not defined"
     ]
    }
   ],
   "source": [
    "objid = 1\n",
    "obs = build_obs(objid=objid)\n",
    "model = build_model_w(objid=objid, fit_el=True)\n",
    "sps=build_sps()\n",
    "thetas = model.theta.copy()\n",
    "\n",
    "spec, phot, _ = model.predict(thetas, obs=obs, sps=sps)\n",
    "\n",
    "phot_unc = np.random.normal(loc=0., scale=np.abs(obs['maggies_unc']))\n",
    "spec_unc = np.random.normal(loc=0., scale=np.abs(obs['unc']))\n",
    "\n",
    "phot_final = phot + phot_unc\n",
    "spec_final = spec + spec_unc\n",
    "\n",
    "phot_dat = Table([obs['filters'], obs['eff_wavelength'], phot_final, np.abs(phot_unc), obs['phot_mask']], \n",
    "                  names=['filters', 'eff_wavelength', 'phot', 'phot_unc', 'mask'])\n",
    "spec_dat = Table([obs['wavelength'], spec_final, np.abs(spec_unc), obs['mask']], \n",
    "                  names=['wavelength', 'spectrum', 'spec_unc', 'mask'])\n",
    "\n",
    "phot_file =  phot_mock + 'mock_photometry_' + str(i) + '.dat' #'psd_grid_mocks/' + str(ind+1) + '/mock_photometry_' + str(i) + '.dat'\n",
    "spec_file =  phot_mock + 'mock_spectrum_' + str(i) + '.dat' #'psd_grid_mocks/' + str(ind+1) + '/mock_spectrum_' + str(i) + '.dat'\n",
    "#phot_file = 'mock_data_fixed_highz/mock_photometry_' + str(i) + '.dat'\n",
    "#spec_file = 'mock_data_fixed_highz/mock_spectrum_' + str(i) + '.dat'\n",
    "\n",
    "phot_dat.write(phot_file, format='ascii', overwrite=True)\n",
    "spec_dat.write(spec_file, format='ascii', overwrite=True)"
   ]
  },
  {
   "cell_type": "code",
   "execution_count": 40,
   "metadata": {},
   "outputs": [
    {
     "ename": "NameError",
     "evalue": "name 'spec' is not defined",
     "output_type": "error",
     "traceback": [
      "\u001b[0;31m---------------------------------------------------------------------------\u001b[0m",
      "\u001b[0;31mNameError\u001b[0m                                 Traceback (most recent call last)",
      "\u001b[1;32m/Users/amanda/Desktop/Paper/low-redshift-survey/spielwiese.ipynb Cell 44\u001b[0m in \u001b[0;36m1\n\u001b[0;32m----> <a href='vscode-notebook-cell:/Users/amanda/Desktop/Paper/low-redshift-survey/spielwiese.ipynb#X61sZmlsZQ%3D%3D?line=0'>1</a>\u001b[0m spec\n",
      "\u001b[0;31mNameError\u001b[0m: name 'spec' is not defined"
     ]
    }
   ],
   "source": [
    "spec"
   ]
  },
  {
   "cell_type": "code",
   "execution_count": 41,
   "metadata": {},
   "outputs": [
    {
     "data": {
      "text/plain": [
       "array([ 30.848469 ,  39.194013 ,  61.752844 ,  23.902108 ,  21.293996 ,\n",
       "        17.924301 ,  32.573245 ,  61.689684 ,  16.382929 ,   0.       ,\n",
       "       136.51584  , 270.69147  , 851.03992  ,  19.74732  ,   0.       ,\n",
       "        17.411655 , 454.49678  ,  18.705467 ,   0.       ,   4.8370173])"
      ]
     },
     "execution_count": 41,
     "metadata": {},
     "output_type": "execute_result"
    }
   ],
   "source": [
    "obs['spectrum']"
   ]
  },
  {
   "cell_type": "code",
   "execution_count": 42,
   "metadata": {},
   "outputs": [
    {
     "data": {
      "text/plain": [
       "20"
      ]
     },
     "execution_count": 42,
     "metadata": {},
     "output_type": "execute_result"
    }
   ],
   "source": [
    "len(obs['unc'])"
   ]
  },
  {
   "cell_type": "code",
   "execution_count": 43,
   "metadata": {},
   "outputs": [],
   "source": [
    "import time, sys, os\n",
    "import numpy as np\n",
    "from astropy.table import Table\n",
    "from sedpy.observate import load_filters\n",
    "from prospect import prospect_args\n",
    "from prospect.fitting import fit_model, lnprobfn\n",
    "from prospect.io import write_results as writer\n",
    "from prospect.models.sedmodel import PolySpecModel\n",
    "#from prospect.models.templates import TemplateLibrary, adjust_continuity_agebins, adjust_dirichlet_agebins, adjust_stochastic_params\n",
    "from prospect.models import priors, sedmodel, transforms\n",
    "from astropy.cosmology import Planck15 as cosmo\n",
    "from prospect.likelihood import NoiseModel\n",
    "from prospect.likelihood.kernels import Uncorrelated"
   ]
  },
  {
   "cell_type": "code",
   "execution_count": 44,
   "metadata": {},
   "outputs": [],
   "source": [
    "\n",
    "\n",
    "def build_model_w(objid=0, non_param_sfh=True, dirichlet_sfh=False, stochastic_sfh=False, add_duste=False, add_neb=False, \n",
    "                marginalize_neb=False, add_agn=False, n_bins_sfh=10, fit_continuum=False, switch_off_phot=False, \n",
    "                switch_off_spec=False, fixed_dust=False, outlier_model=False, **extras):\n",
    "    \n",
    "    obs = build_obs(objid=objid)\n",
    "    \n",
    "    if non_param_sfh and not dirichlet_sfh and not stochastic_sfh:\n",
    "        model_params = TemplateLibrary[\"continuity_sfh\"]\n",
    "    elif dirichlet_sfh:\n",
    "        model_params = TemplateLibrary[\"dirichlet_sfh\"]\n",
    "    elif stochastic_sfh:\n",
    "        model_params = TemplateLibrary[\"stochastic_sfh\"]\n",
    "    else:\n",
    "        model_params = TemplateLibrary[\"parametric_sfh\"]\n",
    "        \n",
    "    model_params[\"zred\"]['isfree'] = True\n",
    "    model_params[\"zred\"][\"init\"] = obs['z_spec']\n",
    "    model_params[\"zred\"][\"prior\"] = priors.TopHat(mini=obs['z_spec']-0.005, maxi=obs['z_spec']+0.005)\n",
    "    \n",
    "    if non_param_sfh:\n",
    "        t_univ = cosmo.age(obs['z_spec']).value\n",
    "        tbinmax = 0.95 * t_univ * 1e9\n",
    "        #lim1, lim2, lim3, lim4 = 7.4772, 8.0, 8.5, 9.0\n",
    "        # Early time bins: 1-5 Myr, 5-10, 10-30, 30-100, log...\n",
    "        lim1, lim2, lim3, lim4 = 6.69897, 7.0, 7.47712, 8.0\n",
    "        agelims = np.concatenate(([6., lim1, lim2], \n",
    "                                  np.log10(np.logspace(lim3, np.log10(tbinmax), n_bins_sfh-3)).flatten().tolist(), \n",
    "                                  [np.log10(t_univ*1e9)]))\n",
    "        if dirichlet_sfh:\n",
    "            model_params = adjust_dirichlet_agebins(model_params, agelims=agelims)\n",
    "            model_params[\"total_mass\"][\"prior\"] = priors.LogUniform(mini=3e9, maxi=1e12)\n",
    "        \n",
    "        elif stochastic_sfh:\n",
    "            agebins = np.array([agelims[:-1], agelims[1:]])\n",
    "            model_params['agebins']['init'] = agebins.T\n",
    "            model_params[\"logmass\"][\"prior\"] = priors.TopHat(mini=9.5, maxi=12.0)\n",
    "            \n",
    "            model_params['sigma_reg']['init'] = 0.4\n",
    "            model_params['sigma_reg']['prior'] = priors.LogUniform(mini=0.1, maxi=5.0)\n",
    "\n",
    "            model_params['tau_eq']['init'] = 2500/1e3 \n",
    "            model_params['tau_eq']['prior'] = priors.TopHat(mini=0.01, maxi=t_univ)\n",
    "            \n",
    "            model_params['tau_in']['isfree'] = False\n",
    "            model_params['tau_in']['init'] = t_univ\n",
    "\n",
    "            model_params['sigma_dyn']['init'] = 0.03 \n",
    "            model_params['sigma_dyn']['prior'] = priors.LogUniform(mini=0.001, maxi=0.1)\n",
    "            \n",
    "            model_params['tau_dyn']['init'] = 25/1e3\n",
    "            model_params['tau_dyn']['prior'] = priors.ClippedNormal(mini=0.005, maxi=0.2, mean=0.01, sigma=0.02)\n",
    "            \n",
    "            model_params = adjust_stochastic_params(model_params, tuniv=t_univ)\n",
    "            \n",
    "        else:\n",
    "            model_params = adjust_continuity_agebins(model_params, tuniv=t_univ, nbins=n_bins_sfh)\n",
    "            agebins = np.array([agelims[:-1], agelims[1:]])\n",
    "            model_params['agebins']['init'] = agebins.T\n",
    "            model_params[\"logmass\"][\"prior\"] = priors.TopHat(mini=9.5, maxi=12.0)\n",
    "            \n",
    "    else:\n",
    "        model_params[\"tau\"][\"prior\"] = priors.LogUniform(mini=1e-1, maxi=10)\n",
    "        model_params[\"tage\"][\"prior\"] = priors.TopHat(mini=1e-3, maxi=cosmo.age(obs['redshift']).value)\n",
    "        model_params[\"mass\"][\"prior\"] = priors.LogUniform(mini=3e9, maxi=1e12)\n",
    "        model_params[\"mass\"][\"init_disp\"] = 1e11\n",
    "    \n",
    "    if fixed_dust:\n",
    "        model_params[\"logzsol\"][\"prior\"] = priors.ClippedNormal(mini=-1.0, maxi=0.19, mean=0.0, sigma=0.15)\n",
    "    else:\n",
    "        model_params[\"logzsol\"][\"prior\"] = priors.TopHat(mini=-1.0, maxi=0.19)\n",
    "        \n",
    "    if fixed_dust:\n",
    "        model_params['dust_type']['init'] = 2\n",
    "        model_params[\"dust2\"][\"prior\"] = priors.ClippedNormal(mini=0.0, maxi=4.0, mean=0.3, sigma=1)\n",
    "        model_params['dust1'] = {\"N\": 1,\n",
    "                                \"isfree\": False,\n",
    "                                \"init\": 0.0, \"units\": \"optical depth towards young stars\",\n",
    "                                \"prior\": None}\n",
    "    else:\n",
    "        model_params['dust_type']['init'] = 4\n",
    "        model_params[\"dust2\"][\"prior\"] = priors.ClippedNormal(mini=0.0, maxi=4.0, mean=0.3, sigma=1)\n",
    "        model_params[\"dust_index\"] = {\"N\": 1,\n",
    "                                      \"isfree\": True,\n",
    "                                      \"init\": 0.0, \"units\": \"power-law multiplication of Calzetti\",\n",
    "                                      \"prior\": priors.TopHat(mini=-1.0, maxi=1.0)}\n",
    "        def to_dust1(dust1_fraction=None, dust1=None, dust2=None, **extras):\n",
    "            return(dust1_fraction*dust2)\n",
    "        model_params['dust1'] = {\"N\": 1,\n",
    "                                \"isfree\": False,\n",
    "                                'depends_on': to_dust1,\n",
    "                                \"init\": 0.0, \"units\": \"optical depth towards young stars\",\n",
    "                                \"prior\": None}\n",
    "        model_params['dust1_fraction'] = {'N': 1,\n",
    "                                          'isfree': True,\n",
    "                                          'init': 1.0,\n",
    "                                          'prior': priors.ClippedNormal(mini=0.0, maxi=2.0, mean=1.0, sigma=0.3)}\n",
    "    \n",
    "    # velocity dispersion\n",
    "    model_params.update(TemplateLibrary['spectral_smoothing'])\n",
    "    model_params[\"sigma_smooth\"][\"prior\"] = priors.TopHat(mini=40.0, maxi=400.0)\n",
    "\n",
    "    \n",
    "    if add_duste:\n",
    "        # Add dust emission (with fixed dust SED parameters)\n",
    "        model_params.update(TemplateLibrary[\"dust_emission\"])\n",
    "        model_params['duste_gamma']['isfree'] = True\n",
    "        model_params['duste_gamma']['init'] = 0.01\n",
    "        model_params['duste_gamma']['prior'] = priors.LogUniform(mini=1e-4, maxi=0.1)\n",
    "        model_params['duste_qpah']['isfree'] = True\n",
    "        model_params['duste_qpah']['prior'] = priors.TopHat(mini=0.5, maxi=7.0)\n",
    "        model_params['duste_umin']['isfree'] = True\n",
    "        model_params['duste_umin']['init'] = 1.0\n",
    "        model_params['duste_umin']['prior'] = priors.ClippedNormal(mini=0.1, maxi=15.0, mean=2.0, sigma=1.0)\n",
    "\n",
    "    if add_agn:\n",
    "        # Allow for the presence of an AGN in the mid-infrared\n",
    "        model_params.update(TemplateLibrary[\"agn\"])\n",
    "        model_params['fagn']['isfree'] = True\n",
    "        model_params['fagn']['prior'] = priors.LogUniform(mini=1e-5, maxi=3.0)\n",
    "        model_params['agn_tau']['isfree'] = True\n",
    "        model_params['agn_tau']['prior'] = priors.LogUniform(mini=5.0, maxi=150.)\n",
    "\n",
    "    if add_neb:\n",
    "        # Add nebular emission\n",
    "        model_params.update(TemplateLibrary[\"nebular\"])\n",
    "        model_params['gas_logu']['isfree'] = True\n",
    "        model_params['gas_logu']['init'] = -2.0\n",
    "        model_params['gas_logz']['isfree'] = True\n",
    "        _ = model_params[\"gas_logz\"].pop(\"depends_on\")\n",
    "        \n",
    "        # Adjust for widths of emission lines, i.e. gas velocity dispersion\n",
    "        model_params[\"nebemlineinspec\"][\"init\"] = False\n",
    "        model_params[\"eline_sigma\"] = {'N': 1, \n",
    "                                       'isfree': True, \n",
    "                                       'init': 100.0, 'units': 'km/s',\n",
    "                                       'prior': priors.TopHat(mini=30, maxi=250)}\n",
    "        if marginalize_neb:\n",
    "            model_params.update(TemplateLibrary['nebular_marginalization'])\n",
    "            model_params['eline_prior_width']['init'] = 1.0\n",
    "            model_params['use_eline_prior']['init'] = True\n",
    "\n",
    "    # This removes the continuum from the spectroscopy. Highly recommend using when modeling both photometry & spectroscopy\n",
    "    if fit_continuum:\n",
    "        # order of polynomial that's fit to spectrum\n",
    "        #polyorder_estimate = int(np.clip(np.round((np.min([7500*(obs['redshift']+1), 9150.0])-np.max([3525.0*(obs['redshift']+1), 6000.0]))/(obs['redshift']+1)*100), 10, 30))\n",
    "        model_params['polyorder'] = {'N': 1,\n",
    "                                     'init': 10,\n",
    "                                     'isfree': False}\n",
    "        \n",
    "    # This is a pixel outlier model. It helps to marginalize over poorly modeled noise, such as residual sky lines or\n",
    "    # even missing absorption lines.\n",
    "    if outlier_model:\n",
    "        model_params['f_outlier_spec'] = {\"N\": 1,\n",
    "                                          \"isfree\": True,\n",
    "                                          \"init\": 0.01,\n",
    "                                          \"prior\": priors.TopHat(mini=1e-5, maxi=0.5)}\n",
    "        model_params['nsigma_outlier_spec'] = {\"N\": 1,\n",
    "                                               \"isfree\": False,\n",
    "                                               \"init\": 50.0}\n",
    "        \n",
    "    model = PolySpecModel(model_params)\n",
    "    # model = sedmodel.SedModel(model_params)\n",
    "    \n",
    "    return model\n",
    "\n",
    "\n"
   ]
  },
  {
   "cell_type": "code",
   "execution_count": 45,
   "metadata": {},
   "outputs": [
    {
     "name": "stdout",
     "output_type": "stream",
     "text": [
      "GALAXIE: J003601+003307, ID: 1, PHOTOMETRY: GP_Aperture_Matched_Photometry_v0.fits, EMISSION_LINES: lzlcs_optlines_obs.csv\n"
     ]
    },
    {
     "ename": "NameError",
     "evalue": "name 'TemplateLibrary' is not defined",
     "output_type": "error",
     "traceback": [
      "\u001b[0;31m---------------------------------------------------------------------------\u001b[0m",
      "\u001b[0;31mNameError\u001b[0m                                 Traceback (most recent call last)",
      "\u001b[1;32m/Users/amanda/Desktop/Paper/low-redshift-survey/spielwiese.ipynb Cell 49\u001b[0m in \u001b[0;36m1\n\u001b[0;32m----> <a href='vscode-notebook-cell:/Users/amanda/Desktop/Paper/low-redshift-survey/spielwiese.ipynb#X66sZmlsZQ%3D%3D?line=0'>1</a>\u001b[0m model \u001b[39m=\u001b[39m build_model_w(objid\u001b[39m=\u001b[39;49m\u001b[39m1\u001b[39;49m)\n",
      "\u001b[1;32m/Users/amanda/Desktop/Paper/low-redshift-survey/spielwiese.ipynb Cell 49\u001b[0m in \u001b[0;36m8\n\u001b[1;32m      <a href='vscode-notebook-cell:/Users/amanda/Desktop/Paper/low-redshift-survey/spielwiese.ipynb#X66sZmlsZQ%3D%3D?line=4'>5</a>\u001b[0m obs \u001b[39m=\u001b[39m build_obs(objid\u001b[39m=\u001b[39mobjid)\n\u001b[1;32m      <a href='vscode-notebook-cell:/Users/amanda/Desktop/Paper/low-redshift-survey/spielwiese.ipynb#X66sZmlsZQ%3D%3D?line=6'>7</a>\u001b[0m \u001b[39mif\u001b[39;00m non_param_sfh \u001b[39mand\u001b[39;00m \u001b[39mnot\u001b[39;00m dirichlet_sfh \u001b[39mand\u001b[39;00m \u001b[39mnot\u001b[39;00m stochastic_sfh:\n\u001b[0;32m----> <a href='vscode-notebook-cell:/Users/amanda/Desktop/Paper/low-redshift-survey/spielwiese.ipynb#X66sZmlsZQ%3D%3D?line=7'>8</a>\u001b[0m     model_params \u001b[39m=\u001b[39m TemplateLibrary[\u001b[39m\"\u001b[39m\u001b[39mcontinuity_sfh\u001b[39m\u001b[39m\"\u001b[39m]\n\u001b[1;32m      <a href='vscode-notebook-cell:/Users/amanda/Desktop/Paper/low-redshift-survey/spielwiese.ipynb#X66sZmlsZQ%3D%3D?line=8'>9</a>\u001b[0m \u001b[39melif\u001b[39;00m dirichlet_sfh:\n\u001b[1;32m     <a href='vscode-notebook-cell:/Users/amanda/Desktop/Paper/low-redshift-survey/spielwiese.ipynb#X66sZmlsZQ%3D%3D?line=9'>10</a>\u001b[0m     model_params \u001b[39m=\u001b[39m TemplateLibrary[\u001b[39m\"\u001b[39m\u001b[39mdirichlet_sfh\u001b[39m\u001b[39m\"\u001b[39m]\n",
      "\u001b[0;31mNameError\u001b[0m: name 'TemplateLibrary' is not defined"
     ]
    }
   ],
   "source": [
    "model = build_model_w(objid=1)"
   ]
  },
  {
   "cell_type": "code",
   "execution_count": null,
   "metadata": {},
   "outputs": [],
   "source": []
  }
 ],
 "metadata": {
  "kernelspec": {
   "display_name": "astro",
   "language": "python",
   "name": "python3"
  },
  "language_info": {
   "codemirror_mode": {
    "name": "ipython",
    "version": 3
   },
   "file_extension": ".py",
   "mimetype": "text/x-python",
   "name": "python",
   "nbconvert_exporter": "python",
   "pygments_lexer": "ipython3",
   "version": "3.10.6"
  },
  "orig_nbformat": 4
 },
 "nbformat": 4,
 "nbformat_minor": 2
}
