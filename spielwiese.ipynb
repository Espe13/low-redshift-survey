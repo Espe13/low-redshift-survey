{
 "cells": [
  {
   "cell_type": "code",
   "execution_count": 4,
   "metadata": {},
   "outputs": [],
   "source": [
    "import sys\n",
    "import os\n",
    "import numpy as np\n",
    "import pandas as pd\n",
    "import pickle\n",
    "import math\n",
    "from astropy.io import fits\n",
    "from sedpy.observate import load_filters\n",
    "from prospect import prospect_args\n",
    "from prospect.fitting import fit_model\n",
    "from prospect.models.sedmodel import SpecModel, LineSpecModel\n",
    "from prospect.io import write_results as writer\n",
    "from astropy.cosmology import Planck15 as cosmo\n",
    "from astropy.table import Table\n",
    "from prospect.likelihood import NoiseModel\n",
    "from prospect.likelihood.kernels import Uncorrelated\n",
    "from prospect.sources.galaxy_basis import CSPSpecBasis"
   ]
  },
  {
   "cell_type": "code",
   "execution_count": 22,
   "metadata": {},
   "outputs": [],
   "source": [
    "path_wdir = \"/Users/amanda/Desktop/Paper/technical/\"\n",
    "path_data = os.path.join(path_wdir, \"data/\")\n",
    "path_output = os.path.join(path_wdir, \"prospector/\")\n",
    "\n",
    "\n"
   ]
  },
  {
   "cell_type": "code",
   "execution_count": 16,
   "metadata": {},
   "outputs": [],
   "source": [
    "file = [0,1,2,3,4,8]"
   ]
  },
  {
   "cell_type": "code",
   "execution_count": 17,
   "metadata": {},
   "outputs": [],
   "source": [
    "filename = 'test2.pickle'\n",
    "\n",
    "# open the file in write mode and save the dictionary as a pickle\n",
    "with open(path_output + filename, 'wb') as f:\n",
    "    pickle.dump(file, f)\n"
   ]
  },
  {
   "cell_type": "code",
   "execution_count": 18,
   "metadata": {},
   "outputs": [],
   "source": [
    "\n",
    "# open the file in read mode and load the pickled dictionary\n",
    "with open(path_output + filename, 'rb') as f:\n",
    "    output = pickle.load(f)"
   ]
  },
  {
   "cell_type": "code",
   "execution_count": 19,
   "metadata": {},
   "outputs": [
    {
     "data": {
      "text/plain": [
       "[0, 1, 2, 3, 4, 8]"
      ]
     },
     "execution_count": 19,
     "metadata": {},
     "output_type": "execute_result"
    }
   ],
   "source": [
    "output"
   ]
  },
  {
   "cell_type": "code",
   "execution_count": 28,
   "metadata": {},
   "outputs": [],
   "source": [
    "from astropy.io import fits\n",
    "import pandas as pd\n",
    "import numpy as np\n",
    "\n",
    "# Read the CSV file using pandas\n",
    "# It is important that the data itself does not contain any data type that is not convertable to float.\n",
    "# If it does, a dictionary is required to translate the data.\n",
    "df = pd.read_csv(path_data+'galaxies_nostring.csv')\n",
    "df = df.astype(float)\n",
    "\n",
    "# Convert the dataframe to a numpy structured array\n",
    "data = df.to_records(index=False)\n",
    "\n",
    "# Create a new FITS binary table HDU\n",
    "hdu = fits.BinTableHDU.from_columns(data)\n",
    "\n",
    "# Write the FITS file\n",
    "hdu.writeto(path_data+'galaxies_nostring.fits', overwrite=True)"
   ]
  },
  {
   "cell_type": "code",
   "execution_count": 112,
   "metadata": {},
   "outputs": [],
   "source": [
    "\n",
    "num_to_id_translate = {'3307':'J003601+003307',\n",
    "                '15440':'J004743+015440',\n",
    "                '223':'J011309+000223',\n",
    "                '52044':'J012217+052044',\n",
    "                '145935':'J012910+145935',\n",
    "                '414608':'J072326+414608',\n",
    "                '472607':'J080425+472607',\n",
    "                '414146':'J081112+414146',\n",
    "                '211459':'J081409+211459',\n",
    "                '182052':'J082652+182052',\n",
    "                '480541':'J083440+480541',\n",
    "                '392925':'J090918+392925',\n",
    "                '183108':'J091113+183108',\n",
    "                '523960':'J091207+523960',\n",
    "                '505009':'J091208+505009',\n",
    "                '315221':'J091703+315221',\n",
    "                '395714':'J092552+395714',\n",
    "                '510925':'J093355+510925',\n",
    "                '593244':'J094001+593244',\n",
    "                '405249':'J095236+405249',\n",
    "                '235709':'J095700+235709',\n",
    "                '202508':'J095838+202508',\n",
    "                '523251':'J101401+523251',\n",
    "                '633308':'J102615+633308',\n",
    "                '635317':'J103344+635317',\n",
    "                '452718':'J103816+452718',\n",
    "                '474357':'J105117+474357',\n",
    "                '523753':'J105331+523753',\n",
    "                '485724':'J105525+485724',\n",
    "                '475204':'J110452+475204',\n",
    "                '412052':'J112224+412052',\n",
    "                '524509':'J112848+524509',\n",
    "                '493525':'J112933+493525',\n",
    "                '651341':'J113304+651341',\n",
    "                '312559':'J115855+312559',\n",
    "                '382422':'J115959+382422',\n",
    "                '305326':'J120934+305326',\n",
    "                '453930':'J121915+453930',\n",
    "                '63556':'J123519+063556',\n",
    "                '212716':'J124033+212716',\n",
    "                '21540':'J124423+021540',\n",
    "                '444902':'J124619+444902',\n",
    "                '123403':'J124835+123403',\n",
    "                '464535':'J124911+464535',\n",
    "                '255609':'J125503+255609',\n",
    "                '410221':'J125718+410221',\n",
    "                '451057':'J130059+451057',\n",
    "                '510451':'J130128+510451',\n",
    "                '422638':'J130559+422638',\n",
    "                '214817':'J131037+214817',\n",
    "                '104739':'J131419+104739',\n",
    "                '510309':'J131904+510309',\n",
    "                '421824':'J132633+421824',\n",
    "                '573315':'J132937+573315',\n",
    "                '112848':'J134559+112848',\n",
    "                '662438':'J135008+662438',\n",
    "                '612115':'J140333+612115',\n",
    "                '434435':'J141013+434435',\n",
    "                '461937':'J144010+461937',\n",
    "                '370512':'J151707+370512',\n",
    "                '572442':'J154050+572442',\n",
    "                '403325':'J155945+403325',\n",
    "                '81959':'J160437+081959',\n",
    "                '313054':'J164607+313054',\n",
    "                '495751':'J164849+495751',\n",
    "                '542133':'J172010+542133'}\n",
    "id_to_num_translate = {v: k for k, v in num_to_id_translate.items()}\n"
   ]
  },
  {
   "cell_type": "code",
   "execution_count": 113,
   "metadata": {},
   "outputs": [],
   "source": [
    "data = fits.open(os.path.join(path_data, 'galaxies_nostring.fits'))\n",
    "el_cat = data[1].data"
   ]
  },
  {
   "cell_type": "code",
   "execution_count": 114,
   "metadata": {},
   "outputs": [
    {
     "data": {
      "text/plain": [
       "array([3.30700e+03, 1.54400e+04, 2.23000e+02, 5.20440e+04, 1.45935e+05,\n",
       "       4.14608e+05, 4.72607e+05, 4.14146e+05, 2.11459e+05, 1.82052e+05,\n",
       "       4.80541e+05, 3.92925e+05, 1.83108e+05, 5.23960e+05, 5.05009e+05,\n",
       "       3.15221e+05, 3.95714e+05, 5.10925e+05, 5.93244e+05, 4.05249e+05,\n",
       "       2.35709e+05, 2.02508e+05, 5.23251e+05, 6.33308e+05, 6.35317e+05,\n",
       "       4.52718e+05, 4.74357e+05, 5.23753e+05, 4.85724e+05, 4.75204e+05,\n",
       "       4.12052e+05, 5.24509e+05, 4.93525e+05, 6.51341e+05, 3.12559e+05,\n",
       "       3.82422e+05, 3.05326e+05, 4.53930e+05, 6.35560e+04, 2.12716e+05,\n",
       "       2.15400e+04, 4.44902e+05, 1.23403e+05, 4.64535e+05, 2.55609e+05,\n",
       "       4.10221e+05, 4.51057e+05, 5.10451e+05, 4.22638e+05, 2.14817e+05,\n",
       "       1.04739e+05, 5.10309e+05, 4.21824e+05, 5.73315e+05, 1.12848e+05,\n",
       "       6.62438e+05, 6.12115e+05, 4.34435e+05, 4.61937e+05, 3.70512e+05,\n",
       "       5.72442e+05, 4.03325e+05, 8.19590e+04, 3.13054e+05, 4.95751e+05,\n",
       "       5.42133e+05])"
      ]
     },
     "execution_count": 114,
     "metadata": {},
     "output_type": "execute_result"
    }
   ],
   "source": [
    "el_cat['OBJID']"
   ]
  },
  {
   "cell_type": "code",
   "execution_count": 115,
   "metadata": {},
   "outputs": [
    {
     "data": {
      "text/plain": [
       "'3307'"
      ]
     },
     "execution_count": 115,
     "metadata": {},
     "output_type": "execute_result"
    }
   ],
   "source": [
    "str(int(el_cat['OBJID'][0]))"
   ]
  },
  {
   "cell_type": "code",
   "execution_count": 116,
   "metadata": {},
   "outputs": [
    {
     "data": {
      "text/plain": [
       "'J003601+003307'"
      ]
     },
     "execution_count": 116,
     "metadata": {},
     "output_type": "execute_result"
    }
   ],
   "source": [
    "ID = str(int(el_cat['OBJID'][0]))\n",
    "num_to_id_translate[ID]"
   ]
  },
  {
   "cell_type": "code",
   "execution_count": 121,
   "metadata": {},
   "outputs": [
    {
     "name": "stdout",
     "output_type": "stream",
     "text": [
      "J003601+003307\n",
      "J004743+015440\n",
      "J011309+000223\n",
      "J012217+052044\n",
      "J012910+145935\n",
      "J072326+414608\n",
      "J080425+472607\n",
      "J081112+414146\n",
      "J081409+211459\n",
      "J082652+182052\n",
      "J083440+480541\n",
      "J090918+392925\n",
      "J091113+183108\n",
      "J091207+523960\n",
      "J091208+505009\n",
      "J091703+315221\n",
      "J092552+395714\n",
      "J093355+510925\n",
      "J094001+593244\n",
      "J095236+405249\n",
      "J095700+235709\n",
      "J095838+202508\n",
      "J101401+523251\n",
      "J102615+633308\n",
      "J103344+635317\n",
      "J103816+452718\n",
      "J105117+474357\n",
      "J105331+523753\n",
      "J105525+485724\n",
      "J110452+475204\n",
      "J112224+412052\n",
      "J112848+524509\n",
      "J112933+493525\n",
      "J113304+651341\n",
      "J115855+312559\n",
      "J115959+382422\n",
      "J120934+305326\n",
      "J121915+453930\n",
      "J123519+063556\n",
      "J124033+212716\n",
      "J124423+021540\n",
      "J124619+444902\n",
      "J124835+123403\n",
      "J124911+464535\n",
      "J125503+255609\n",
      "J125718+410221\n",
      "J130059+451057\n",
      "J130128+510451\n",
      "J130559+422638\n",
      "J131037+214817\n",
      "J131419+104739\n",
      "J131904+510309\n",
      "J132633+421824\n",
      "J132937+573315\n",
      "J134559+112848\n",
      "J135008+662438\n",
      "J140333+612115\n",
      "J141013+434435\n",
      "J144010+461937\n",
      "J151707+370512\n",
      "J154050+572442\n",
      "J155945+403325\n",
      "J160437+081959\n",
      "J164607+313054\n",
      "J164849+495751\n",
      "J172010+542133\n"
     ]
    }
   ],
   "source": [
    "for i in range(len((el_cat['OBJID']))):\n",
    "    ID = num_to_id_translate[str(int(el_cat['OBJID'][i]))]\n",
    "    print(ID)"
   ]
  },
  {
   "cell_type": "code",
   "execution_count": 122,
   "metadata": {},
   "outputs": [],
   "source": [
    "list=[]\n",
    "for i in range(len((el_cat['OBJID']))):\n",
    "    ID = num_to_id_translate[str(int(el_cat['OBJID'][i]))]\n",
    "    list.append(ID)"
   ]
  },
  {
   "cell_type": "code",
   "execution_count": 119,
   "metadata": {},
   "outputs": [
    {
     "data": {
      "text/plain": [
       "'[3.30700e+03 1.54400e+04 2.23000e+02 5.20440e+04 1.45935e+05 4.14608e+05\\n 4.72607e+05 4.14146e+05 2.11459e+05 1.82052e+05 4.80541e+05 3.92925e+05\\n 1.83108e+05 5.23960e+05 5.05009e+05 3.15221e+05 3.95714e+05 5.10925e+05\\n 5.93244e+05 4.05249e+05 2.35709e+05 2.02508e+05 5.23251e+05 6.33308e+05\\n 6.35317e+05 4.52718e+05 4.74357e+05 5.23753e+05 4.85724e+05 4.75204e+05\\n 4.12052e+05 5.24509e+05 4.93525e+05 6.51341e+05 3.12559e+05 3.82422e+05\\n 3.05326e+05 4.53930e+05 6.35560e+04 2.12716e+05 2.15400e+04 4.44902e+05\\n 1.23403e+05 4.64535e+05 2.55609e+05 4.10221e+05 4.51057e+05 5.10451e+05\\n 4.22638e+05 2.14817e+05 1.04739e+05 5.10309e+05 4.21824e+05 5.73315e+05\\n 1.12848e+05 6.62438e+05 6.12115e+05 4.34435e+05 4.61937e+05 3.70512e+05\\n 5.72442e+05 4.03325e+05 8.19590e+04 3.13054e+05 4.95751e+05 5.42133e+05]'"
      ]
     },
     "execution_count": 119,
     "metadata": {},
     "output_type": "execute_result"
    }
   ],
   "source": [
    "str(el_cat['OBJID'])"
   ]
  },
  {
   "cell_type": "code",
   "execution_count": 123,
   "metadata": {},
   "outputs": [
    {
     "data": {
      "text/plain": [
       "66"
      ]
     },
     "execution_count": 123,
     "metadata": {},
     "output_type": "execute_result"
    }
   ],
   "source": [
    "len(list)"
   ]
  },
  {
   "cell_type": "code",
   "execution_count": null,
   "metadata": {},
   "outputs": [],
   "source": []
  }
 ],
 "metadata": {
  "kernelspec": {
   "display_name": "astro",
   "language": "python",
   "name": "python3"
  },
  "language_info": {
   "codemirror_mode": {
    "name": "ipython",
    "version": 3
   },
   "file_extension": ".py",
   "mimetype": "text/x-python",
   "name": "python",
   "nbconvert_exporter": "python",
   "pygments_lexer": "ipython3",
   "version": "3.10.6"
  },
  "orig_nbformat": 4
 },
 "nbformat": 4,
 "nbformat_minor": 2
}
