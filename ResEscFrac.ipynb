{
 "cells": [
  {
   "cell_type": "code",
   "execution_count": 1,
   "metadata": {},
   "outputs": [],
   "source": [
    "import os\n",
    "import numpy as np\n",
    "import pickle\n",
    "import dill\n",
    "import sys\n",
    "import matplotlib.pyplot as plt\n",
    "from copy import deepcopy\n",
    "\n",
    "from astropy.cosmology import FlatLambdaCDM\n",
    "cosmo = FlatLambdaCDM(H0=70, Om0=0.3)\n",
    "from astropy.cosmology import Planck15 as cosmo\n",
    "\n",
    "from prospect import prospect_args\n",
    "from prospect.fitting import fit_model\n",
    "from prospect.io import write_results as writer\n",
    "from prospect.likelihood import NoiseModel\n",
    "from prospect.likelihood.kernels import Uncorrelated\n",
    "from prospect.sources.galaxy_basis import CSPSpecBasis\n",
    "from prospect.utils.obsutils import fix_obs\n",
    "from prospect.utils.plotting import get_best\n",
    "\n",
    "import prospect.io.read_results as reader\n",
    "from toolbox_prospector import *\n",
    "from Plot import *\n",
    "from prospect.models import sedmodel\n",
    "\n",
    "from sedpy.observate import load_filters\n",
    "from prospect.models.sedmodel import SpecModel, LineSpecModel\n",
    "from dynesty.plotting import _quantile as weighted_quantile\n",
    "\n",
    "import Build\n"
   ]
  },
  {
   "cell_type": "code",
   "execution_count": 11,
   "metadata": {},
   "outputs": [],
   "source": [
    "path_wdir   =   \"/Users/amanda/Desktop/Paper/technical/\"\n",
    "path_data   =   os.path.join(path_wdir, \"data/\")\n",
    "path_plots  =   os.path.join(path_wdir, \"plots/iot_snr20/\")\n",
    "path_output =   os.path.join(path_wdir, \"prospector/snr20/\")\n",
    "path_flury  =   os.path.join(path_data, 'flury/')\n",
    "path_mock   =   os.path.join(path_data, 'mock/')\n",
    "\n",
    "#------------------------------------------------------Mock Photometry----------------------------------------------------------------------\n",
    "\n",
    "with open(path_mock + 'distorted_data.pickle', 'rb') as f:\n",
    "    dis_data = pickle.load(f)\n",
    "\n",
    "#--------------------------------------------------------Mock Thetas------------------------------------------------------------------------\n",
    "\n",
    "with open(path_mock + 'mock_thetas.pickle', 'rb') as f:\n",
    "    thetas = pickle.load(f)\n",
    "\n",
    "#--------------------------------------------------------Results------------------------------------------------------------------------\n",
    "\n",
    "#with open(path_data + 'eout_snr20.dat', 'rb') as f:\n",
    "#    iot20 = dill.load(f)\n"
   ]
  },
  {
   "cell_type": "markdown",
   "metadata": {},
   "source": [
    "## Create dictionary with the results\n",
    "\n",
    "The function reads out the .h5 file, and prepares it for work, for example by delogifying some of the values. The customized function 'build_output2' creates a dictionary with all the results. THERE ARE SOME PROBLEMS WITH IT! NO SFH INFO POSSIBLE! (the problems are in the build_output function, which is in the Build.py file, something about some non fitting array lenghs.)"
   ]
  },
  {
   "cell_type": "code",
   "execution_count": 3,
   "metadata": {},
   "outputs": [],
   "source": [
    "def ouput_maker(num='0'):\n",
    "    res, obs, mod                   =   reader.results_from(path_output + num + '_Thetas.h5')\n",
    "    model                           =   Build.build_model(objid=3)\n",
    "    parnames, theta_map             =   get_best(res)\n",
    "    sps                             =   reader.get_sps(res)\n",
    "    \n",
    "    pre_spec, pre_phot, pre_frac    =   model.predict(thetas['thetas_'+num], obs=obs, sps=sps)\n",
    "    spec, phot, mfrac               =   mod.predict(theta_map, obs=obs, sps=sps)\n",
    "\n",
    "    eout = {}\n",
    "    eout['res']         =   res \n",
    "    eout['obs']         =   obs   \n",
    "    eout['sps']         =   sps  \n",
    "    eout['model']       =   model  \n",
    "    eout['parnames']    =   parnames  \n",
    "    eout['theta_map']   =   theta_map\n",
    "    eout['pre_spec']    =   pre_spec\n",
    "    eout['pre_phot']    =   pre_phot\n",
    "    eout['spec']        =   spec\n",
    "    eout['phot']        =   phot  \n",
    "\n",
    "    ncalc               =   100\n",
    "    nsample_0           =   res['chain'].shape[0]\n",
    "    res['weights']     /=   np.sum(res['weights']) #normalize the probability to 1\n",
    "    sample_idx          =   np.random.choice(np.arange(nsample_0), size=ncalc, p=res['weights'], replace=False) \n",
    "\n",
    "    trot                =   Build.build_output(res=res, mod=mod, sps=sps, obs=obs, sample_idx=sample_idx, ncalc=ncalc)\n",
    "    eout |= trot \n",
    "\n",
    "    return eout"
   ]
  },
  {
   "cell_type": "markdown",
   "metadata": {},
   "source": [
    "Loop over every single theta vector we gave as an input to get everything we need for the plotting:"
   ]
  },
  {
   "cell_type": "code",
   "execution_count": null,
   "metadata": {},
   "outputs": [],
   "source": [
    "theta_name      =   ['0',  '1',  '2',  '3',  '4',  '5',  '6']\n",
    "names           =   ['eout_0',  'eout_1',   'eout_2',   'eout_3',   'eout_4',   'eout_5',   'eout_6']\n",
    "\n",
    "#theta_name      =   ['7', '8', '9', '10', '11', '12']\n",
    "#names           =   ['eout_7',  'eout_8',   'eout_9',   'eout_10',   'eout_11',   'eout_12']\n",
    "\n",
    "iot20 = {}\n",
    "\n",
    "for tn,e in zip(theta_name, names):\n",
    "\n",
    "    iot20[e]    =   ouput_maker(num=tn)\n",
    "    print('Done with ' + e + ', theta name ' + tn )\n"
   ]
  },
  {
   "cell_type": "markdown",
   "metadata": {},
   "source": [
    "## Save\n",
    "Save the output of the looping in a file, so we do not have to do this everytime, because it takes around 17 minutes. Pickle was not possible, so I have to dill it instead."
   ]
  },
  {
   "cell_type": "code",
   "execution_count": 10,
   "metadata": {},
   "outputs": [],
   "source": [
    "filename = path_data + 'eout_snr20.dat'\n",
    "\n",
    "with open(filename, 'wb') as f:\n",
    "    dill.dump(iot20, f)"
   ]
  },
  {
   "cell_type": "markdown",
   "metadata": {},
   "source": [
    "## Plot the Escape Fraction\n",
    "\n",
    "This input output test focusses on the escape fraction as the variable parameter. Here we read in all the data into list we need to plot the relationship between them.\n",
    "\n",
    "1. fill the empty list with the values from the dictionaries inside the dictionary we just created\n",
    "2. plot everything with errorbars and save"
   ]
  },
  {
   "cell_type": "code",
   "execution_count": 213,
   "metadata": {},
   "outputs": [],
   "source": [
    "frac_esc_in     =   []\n",
    "frac_esc_out    =   []\n",
    "lolims          =   []\n",
    "uplims          =   []\n",
    "\n",
    "theta_name      =   ['0',  '1',  '2',  '3',  '4',  '5',  '6']\n",
    "eout_id         =   ['eout_0',  'eout_1',   'eout_2',   'eout_3',   'eout_4',   'eout_5',   'eout_6']\n",
    "\n",
    "for i,e in zip(theta_name, eout_id):\n",
    "    frac_esc_in.append(thetas['thetas_'+i][15])\n",
    "    frac_esc_out.append(iot20[e]['thetas']['frac_obrun']['q50'])\n",
    "    lolims.append(iot20[e]['thetas']['frac_obrun']['q50']   -   iot20[e]['thetas']['frac_obrun']['q16'])\n",
    "    uplims.append(iot20[e]['thetas']['frac_obrun']['q84']   -   iot20[e]['thetas']['frac_obrun']['q50'])"
   ]
  },
  {
   "cell_type": "code",
   "execution_count": 16,
   "metadata": {},
   "outputs": [
    {
     "data": {
      "image/png": "[encoded data removed]",
      "text/plain": [
       "<Figure size 640x480 with 1 Axes>"
      ]
     },
     "metadata": {},
     "output_type": "display_data"
    }
   ],
   "source": [
    "x       =   np.linspace(0,1, 1000)\n",
    "name    =   ['0.0', '0.1', '0.3', '0.5', '0.7', '0.9', '1.0']\n",
    "\n",
    "plt.errorbar(frac_esc_in, frac_esc_out, yerr=(lolims, uplims), linestyle = '', color='b', marker = \"o\", capsize=3, lw=0.5, ms=2)\n",
    "\n",
    "for i in range(len(frac_esc_in)):\n",
    "    plt.text(frac_esc_in[i]+0.03, frac_esc_out[i], name[i])\n",
    "\n",
    "plt.plot(x,x, color='k', lw=0.5)\n",
    "plt.xlim(-0.02,1.1)\n",
    "plt.ylim(0, 1.)\n",
    "plt.xlabel(\"f_{esc} in\")\n",
    "plt.ylabel('f_{esc} out')\n",
    "plt.title('Input-output Test - Escape Fraction')\n",
    "plt.savefig(path_plots+\"iot_snr_20.png\")"
   ]
  },
  {
   "cell_type": "code",
   "execution_count": 215,
   "metadata": {},
   "outputs": [
    {
     "data": {
      "text/plain": [
       "array([0.19, 0.04, 0.61, 0.4 , 0.6 , 0.75, 0.33])"
      ]
     },
     "execution_count": 215,
     "metadata": {},
     "output_type": "execute_result"
    }
   ],
   "source": [
    "np.round(frac_esc_out,2)"
   ]
  }
 ],
 "metadata": {
  "kernelspec": {
   "display_name": "astro",
   "language": "python",
   "name": "python3"
  },
  "language_info": {
   "codemirror_mode": {
    "name": "ipython",
    "version": 3
   },
   "file_extension": ".py",
   "mimetype": "text/x-python",
   "name": "python",
   "nbconvert_exporter": "python",
   "pygments_lexer": "ipython3",
   "version": "3.10.6"
  },
  "orig_nbformat": 4
 },
 "nbformat": 4,
 "nbformat_minor": 2
}
