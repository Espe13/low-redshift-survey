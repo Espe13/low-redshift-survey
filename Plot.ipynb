{
 "cells": [
  {
   "cell_type": "code",
   "execution_count": 2,
   "metadata": {},
   "outputs": [],
   "source": [
    "import os\n",
    "import numpy as np\n",
    "import pickle\n",
    "import dill\n",
    "import matplotlib.pyplot as plt\n",
    "\n",
    "import prospect.io.read_results as reader\n",
    "from toolbox_prospector import *\n",
    "from Plot import *\n",
    "import Build\n"
   ]
  },
  {
   "cell_type": "code",
   "execution_count": 3,
   "metadata": {},
   "outputs": [],
   "source": [
    "iot_number = '3'"
   ]
  },
  {
   "cell_type": "code",
   "execution_count": 9,
   "metadata": {},
   "outputs": [],
   "source": [
    "path_wdir   =   \"/Users/amanda/Desktop/Paper/technical/\"\n",
    "path_data   =   os.path.join(path_wdir, \"data/\")\n",
    "path_plots  =   os.path.join(path_wdir, 'plots/iot_'+iot_number+'/')\n",
    "path_output =   os.path.join(path_wdir, 'prospector/input_output_test'+iot_number+'/')\n",
    "path_flury  =   os.path.join(path_data, 'flury/')\n",
    "path_mock   =   os.path.join(path_data, 'mock/')\n",
    "\n",
    "#------------------------------------------------------Mock Photometry----------------------------------------------------------------------\n",
    "\n",
    "with open(path_mock + 'distorted_data.pickle', 'rb') as f:\n",
    "    dis_data = pickle.load(f)\n",
    "\n",
    "#--------------------------------------------------------Mock Thetas------------------------------------------------------------------------\n",
    "\n",
    "with open(path_mock + 'mock_thetas'+iot_number+'.pickle', 'rb') as f:\n",
    "    thetas = pickle.load(f)\n",
    "\n",
    "#--------------------------------------------------------Results------------------------------------------------------------------------\n",
    "\n",
    "with open(path_data + 'eout_iot'+iot_number+'.dat', 'rb') as f:\n",
    "    iot = dill.load(f)\n"
   ]
  },
  {
   "cell_type": "markdown",
   "metadata": {},
   "source": [
    "## Plot the Corner & Res Plots\n",
    "\n",
    "The Corner and the Residual plots show how good the fit is. All the following functions are saved in the Plot.py file. The function subcorner_custom() lets us change how the Corner plots should look like. The Corner_plots() function just activates it. In the Cornerr_plots() function I modified how the ranges are calculated so that the truths are always included. If we do not include the truths, it is wise to change that again. The red line and dots mark the true values.\n",
    "\n",
    "THE FUNCTIONS USE THE THETA DICTIONARY EXPLICITLY!"
   ]
  },
  {
   "cell_type": "code",
   "execution_count": null,
   "metadata": {},
   "outputs": [],
   "source": [
    "theta_name      =   ['0',  '1',  '2',  '3',  '4',  '5',  '6', '8']\n",
    "eout_id         =   ['eout_0',  'eout_1',   'eout_2',   'eout_3',   'eout_4',   'eout_5',   'eout_6', 'eout_8']\n",
    "\n",
    "#theta_name      =   ['7', '8', '9', '10', '11', '12']\n",
    "#eout_id         =   ['eout_7',  'eout_8',   'eout_9',   'eout_10',   'eout_11',   'eout_12']\n",
    "\n",
    "for e,t in zip(eout_id, theta_name):\n",
    "\n",
    "    res         =   iot[e]['res']\n",
    "    parnames    =   iot[e]['parnames'] \n",
    "    Corner_plots(eout=iot[e], res=res, parnames=parnames, string=t, thetas=thetas, path=path_plots)\n",
    "    Res_plots(eout=iot[e], res=res, string=t, path=path_plots)"
   ]
  },
  {
   "cell_type": "markdown",
   "metadata": {},
   "source": [
    "# Plot the Photometry"
   ]
  },
  {
   "cell_type": "code",
   "execution_count": null,
   "metadata": {},
   "outputs": [],
   "source": [
    "names   =   ['0', '1', '2', '3', '4', '5', '6', '8']\n",
    "esc_in  =   ['0.0', '0.1', '0.3', '0.5', '0.7', '0.9', '1.0', '0.2']\n",
    "esc_out =   [0.19, 0.04, 0.61, 0.4 , 0.6 , 0.75, 0.33]\n",
    "\n",
    "#names   =   ['7', '8', '9', '10', '11', '12']\n",
    "#esc_out =   []\n",
    "#esc_in  =   ['0.15', '0.2', '0.25', '0.35', '0.4', '0.45']\n",
    "\n",
    "for n,e,o in zip(names, esc_in, esc_out):\n",
    "    Plot_Spec(num=n, esc=e, esc_out=o, dis_data=dis_data, iot20=iot, path_output=path_output, path_plot=path_plots)\n",
    "    Plot_Phot(num=n, esc=e, esc_out=o, path_output=path_output, path_plots=path_plots)"
   ]
  }
 ],
 "metadata": {
  "kernelspec": {
   "display_name": "astro",
   "language": "python",
   "name": "python3"
  },
  "language_info": {
   "codemirror_mode": {
    "name": "ipython",
    "version": 3
   },
   "file_extension": ".py",
   "mimetype": "text/x-python",
   "name": "python",
   "nbconvert_exporter": "python",
   "pygments_lexer": "ipython3",
   "version": "3.10.6"
  },
  "orig_nbformat": 4
 },
 "nbformat": 4,
 "nbformat_minor": 2
}
